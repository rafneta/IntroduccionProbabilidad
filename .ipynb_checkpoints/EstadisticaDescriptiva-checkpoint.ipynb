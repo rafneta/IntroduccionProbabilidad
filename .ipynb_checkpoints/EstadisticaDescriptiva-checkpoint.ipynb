{
 "cells": [
  {
   "cell_type": "markdown",
   "metadata": {},
   "source": [
    "# Estadística descriptiva\n",
    "\n",
    "Existen diferentes herramientas en Python para realizar estadística descriptiva, se ha elegido el módulo pandas, en el siguiente [enlace](http://pandas.pydata.org) se encuentra la página oficial del módulo.\n",
    "\n"
   ]
  },
  {
   "cell_type": "code",
   "execution_count": 6,
   "metadata": {},
   "outputs": [
    {
     "data": {
      "text/html": [
       "<div>\n",
       "<style scoped>\n",
       "    .dataframe tbody tr th:only-of-type {\n",
       "        vertical-align: middle;\n",
       "    }\n",
       "\n",
       "    .dataframe tbody tr th {\n",
       "        vertical-align: top;\n",
       "    }\n",
       "\n",
       "    .dataframe thead th {\n",
       "        text-align: right;\n",
       "    }\n",
       "</style>\n",
       "<table border=\"1\" class=\"dataframe\">\n",
       "  <thead>\n",
       "    <tr style=\"text-align: right;\">\n",
       "      <th></th>\n",
       "      <th>Edades</th>\n",
       "    </tr>\n",
       "  </thead>\n",
       "  <tbody>\n",
       "    <tr>\n",
       "      <th>0</th>\n",
       "      <td>25</td>\n",
       "    </tr>\n",
       "    <tr>\n",
       "      <th>1</th>\n",
       "      <td>26</td>\n",
       "    </tr>\n",
       "    <tr>\n",
       "      <th>2</th>\n",
       "      <td>25</td>\n",
       "    </tr>\n",
       "    <tr>\n",
       "      <th>3</th>\n",
       "      <td>23</td>\n",
       "    </tr>\n",
       "    <tr>\n",
       "      <th>4</th>\n",
       "      <td>30</td>\n",
       "    </tr>\n",
       "    <tr>\n",
       "      <th>5</th>\n",
       "      <td>29</td>\n",
       "    </tr>\n",
       "    <tr>\n",
       "      <th>6</th>\n",
       "      <td>23</td>\n",
       "    </tr>\n",
       "    <tr>\n",
       "      <th>7</th>\n",
       "      <td>34</td>\n",
       "    </tr>\n",
       "    <tr>\n",
       "      <th>8</th>\n",
       "      <td>40</td>\n",
       "    </tr>\n",
       "    <tr>\n",
       "      <th>9</th>\n",
       "      <td>30</td>\n",
       "    </tr>\n",
       "    <tr>\n",
       "      <th>10</th>\n",
       "      <td>51</td>\n",
       "    </tr>\n",
       "    <tr>\n",
       "      <th>11</th>\n",
       "      <td>46</td>\n",
       "    </tr>\n",
       "  </tbody>\n",
       "</table>\n",
       "</div>"
      ],
      "text/plain": [
       "    Edades\n",
       "0       25\n",
       "1       26\n",
       "2       25\n",
       "3       23\n",
       "4       30\n",
       "5       29\n",
       "6       23\n",
       "7       34\n",
       "8       40\n",
       "9       30\n",
       "10      51\n",
       "11      46"
      ]
     },
     "execution_count": 6,
     "metadata": {},
     "output_type": "execute_result"
    }
   ],
   "source": [
    "import pandas as pd # importamos el modulo\n",
    "import numpy as np\n",
    "import matplotlib.pyplot as plt\n",
    "from __future__ import print_function # utilizar print como funcion \n",
    "\n",
    "\n",
    "\n",
    "#Series: tipo de dato de pandas donde registramos los valores a estudiar\n",
    "valores=pd.Series([25,26,25,23,30,29,23,34,40,30,51,46]) \n",
    "\n",
    "# creamos un diccionario donde podemos indicar que representan los datos\n",
    "datos = {'Edades':valores}\n",
    "\n",
    "#data.Frame: tipo de dato de pandas que permite guardar diferentes datos \n",
    "#seria el equivalente a una hoja de excel donde cada variable del diccionario es un columna que \n",
    "#tienen un nombre, tiene el detalle que numera desde el elemento 0\n",
    "datosDF= pd.DataFrame(datos)\n",
    "datosDF"
   ]
  },
  {
   "cell_type": "code",
   "execution_count": 7,
   "metadata": {},
   "outputs": [
    {
     "data": {
      "text/plain": [
       "Edades    12\n",
       "dtype: int64"
      ]
     },
     "execution_count": 7,
     "metadata": {},
     "output_type": "execute_result"
    }
   ],
   "source": [
    "#se puede calcular de manera muy sencilla el numero de datos\n",
    "datosDF.count()"
   ]
  },
  {
   "cell_type": "code",
   "execution_count": 8,
   "metadata": {},
   "outputs": [
    {
     "data": {
      "text/plain": [
       "Edades    31.833333\n",
       "dtype: float64"
      ]
     },
     "execution_count": 8,
     "metadata": {},
     "output_type": "execute_result"
    }
   ],
   "source": [
    "#se puede calcular de manera muy sencilla la media de los datos\n",
    "datosDF.mean()"
   ]
  },
  {
   "cell_type": "code",
   "execution_count": 9,
   "metadata": {},
   "outputs": [
    {
     "data": {
      "text/plain": [
       "Edades    29.5\n",
       "dtype: float64"
      ]
     },
     "execution_count": 9,
     "metadata": {},
     "output_type": "execute_result"
    }
   ],
   "source": [
    "#se puede calcular de manera muy sencilla la mediana de los datos \n",
    "datosDF.median()"
   ]
  },
  {
   "cell_type": "code",
   "execution_count": 10,
   "metadata": {},
   "outputs": [
    {
     "data": {
      "text/html": [
       "<div>\n",
       "<style scoped>\n",
       "    .dataframe tbody tr th:only-of-type {\n",
       "        vertical-align: middle;\n",
       "    }\n",
       "\n",
       "    .dataframe tbody tr th {\n",
       "        vertical-align: top;\n",
       "    }\n",
       "\n",
       "    .dataframe thead th {\n",
       "        text-align: right;\n",
       "    }\n",
       "</style>\n",
       "<table border=\"1\" class=\"dataframe\">\n",
       "  <thead>\n",
       "    <tr style=\"text-align: right;\">\n",
       "      <th></th>\n",
       "      <th>Edades</th>\n",
       "    </tr>\n",
       "  </thead>\n",
       "  <tbody>\n",
       "    <tr>\n",
       "      <th>0</th>\n",
       "      <td>23</td>\n",
       "    </tr>\n",
       "    <tr>\n",
       "      <th>1</th>\n",
       "      <td>25</td>\n",
       "    </tr>\n",
       "    <tr>\n",
       "      <th>2</th>\n",
       "      <td>30</td>\n",
       "    </tr>\n",
       "  </tbody>\n",
       "</table>\n",
       "</div>"
      ],
      "text/plain": [
       "   Edades\n",
       "0      23\n",
       "1      25\n",
       "2      30"
      ]
     },
     "execution_count": 10,
     "metadata": {},
     "output_type": "execute_result"
    }
   ],
   "source": [
    "#se puede calcular de manera muy sencilla la moda de los datos \n",
    "datosDF.mode()"
   ]
  },
  {
   "cell_type": "code",
   "execution_count": 11,
   "metadata": {},
   "outputs": [
    {
     "data": {
      "text/plain": [
       "Edades    85.242424\n",
       "dtype: float64"
      ]
     },
     "execution_count": 11,
     "metadata": {},
     "output_type": "execute_result"
    }
   ],
   "source": [
    "#se puede calcular de manera muy sencilla la varianza de acuerdo a la defiición de pandas\n",
    "datosDF.var()"
   ]
  },
  {
   "cell_type": "code",
   "execution_count": 12,
   "metadata": {},
   "outputs": [
    {
     "data": {
      "text/plain": [
       "Edades    9.232682\n",
       "dtype: float64"
      ]
     },
     "execution_count": 12,
     "metadata": {},
     "output_type": "execute_result"
    }
   ],
   "source": [
    "#se puede calcular de manera muy sencilla la desviación estandar de acuerdo a la defiición de pandas\n",
    "datosDF.std()"
   ]
  },
  {
   "cell_type": "code",
   "execution_count": 13,
   "metadata": {},
   "outputs": [
    {
     "data": {
      "text/plain": [
       "Edades    23\n",
       "dtype: int64"
      ]
     },
     "execution_count": 13,
     "metadata": {},
     "output_type": "execute_result"
    }
   ],
   "source": [
    "#se puede calcular de manera muy sencilla el valor minimo\n",
    "datosDF.min()"
   ]
  },
  {
   "cell_type": "code",
   "execution_count": 14,
   "metadata": {},
   "outputs": [
    {
     "data": {
      "text/plain": [
       "Edades    51\n",
       "dtype: int64"
      ]
     },
     "execution_count": 14,
     "metadata": {},
     "output_type": "execute_result"
    }
   ],
   "source": [
    "#se puede calcular de manera muy sencilla el valor maximo\n",
    "datosDF.max()"
   ]
  },
  {
   "cell_type": "code",
   "execution_count": 15,
   "metadata": {},
   "outputs": [
    {
     "data": {
      "text/plain": [
       "Edades    25.0\n",
       "Name: 0.25, dtype: float64"
      ]
     },
     "execution_count": 15,
     "metadata": {},
     "output_type": "execute_result"
    }
   ],
   "source": [
    "#se puede calcular de manera muy sencilla el cuantil al 25% de acuerdo a la defiición de pandas\n",
    "datosDF.quantile(0.25)"
   ]
  },
  {
   "cell_type": "code",
   "execution_count": 16,
   "metadata": {},
   "outputs": [
    {
     "data": {
      "text/plain": [
       "Edades    29.5\n",
       "Name: 0.5, dtype: float64"
      ]
     },
     "execution_count": 16,
     "metadata": {},
     "output_type": "execute_result"
    }
   ],
   "source": [
    "#se puede calcular de manera muy sencilla el cuantil al 50% de acuerdo a la defiición de pandas\n",
    "datosDF.quantile(0.50)"
   ]
  },
  {
   "cell_type": "code",
   "execution_count": 17,
   "metadata": {},
   "outputs": [
    {
     "data": {
      "text/plain": [
       "Edades    35.5\n",
       "Name: 0.75, dtype: float64"
      ]
     },
     "execution_count": 17,
     "metadata": {},
     "output_type": "execute_result"
    }
   ],
   "source": [
    "#se puede calcular de manera muy sencilla el cuantil al 75% de acuerdo a la defiición de pandas\n",
    "datosDF.quantile(0.75)"
   ]
  },
  {
   "cell_type": "code",
   "execution_count": 18,
   "metadata": {},
   "outputs": [
    {
     "data": {
      "text/plain": [
       "Edades    1.135089\n",
       "dtype: float64"
      ]
     },
     "execution_count": 18,
     "metadata": {},
     "output_type": "execute_result"
    }
   ],
   "source": [
    "#se puede calcular de manera muy sencilla el coeficiente de asimetria de acuerdo a la defiición de pandas\n",
    "datosDF.skew()"
   ]
  },
  {
   "cell_type": "code",
   "execution_count": 19,
   "metadata": {},
   "outputs": [
    {
     "data": {
      "text/plain": [
       "Edades    0.24931\n",
       "dtype: float64"
      ]
     },
     "execution_count": 19,
     "metadata": {},
     "output_type": "execute_result"
    }
   ],
   "source": [
    "#se puede calcular de manera muy sencilla la kurtosis, de acuerdo a la defiición de pandas\n",
    "datosDF.kurt()"
   ]
  },
  {
   "cell_type": "code",
   "execution_count": 20,
   "metadata": {},
   "outputs": [
    {
     "data": {
      "text/html": [
       "<div>\n",
       "<style scoped>\n",
       "    .dataframe tbody tr th:only-of-type {\n",
       "        vertical-align: middle;\n",
       "    }\n",
       "\n",
       "    .dataframe tbody tr th {\n",
       "        vertical-align: top;\n",
       "    }\n",
       "\n",
       "    .dataframe thead th {\n",
       "        text-align: right;\n",
       "    }\n",
       "</style>\n",
       "<table border=\"1\" class=\"dataframe\">\n",
       "  <thead>\n",
       "    <tr style=\"text-align: right;\">\n",
       "      <th></th>\n",
       "      <th>Edades</th>\n",
       "    </tr>\n",
       "  </thead>\n",
       "  <tbody>\n",
       "    <tr>\n",
       "      <th>count</th>\n",
       "      <td>12.000000</td>\n",
       "    </tr>\n",
       "    <tr>\n",
       "      <th>mean</th>\n",
       "      <td>31.833333</td>\n",
       "    </tr>\n",
       "    <tr>\n",
       "      <th>std</th>\n",
       "      <td>9.232682</td>\n",
       "    </tr>\n",
       "    <tr>\n",
       "      <th>min</th>\n",
       "      <td>23.000000</td>\n",
       "    </tr>\n",
       "    <tr>\n",
       "      <th>25%</th>\n",
       "      <td>25.000000</td>\n",
       "    </tr>\n",
       "    <tr>\n",
       "      <th>50%</th>\n",
       "      <td>29.500000</td>\n",
       "    </tr>\n",
       "    <tr>\n",
       "      <th>75%</th>\n",
       "      <td>35.500000</td>\n",
       "    </tr>\n",
       "    <tr>\n",
       "      <th>max</th>\n",
       "      <td>51.000000</td>\n",
       "    </tr>\n",
       "  </tbody>\n",
       "</table>\n",
       "</div>"
      ],
      "text/plain": [
       "          Edades\n",
       "count  12.000000\n",
       "mean   31.833333\n",
       "std     9.232682\n",
       "min    23.000000\n",
       "25%    25.000000\n",
       "50%    29.500000\n",
       "75%    35.500000\n",
       "max    51.000000"
      ]
     },
     "execution_count": 20,
     "metadata": {},
     "output_type": "execute_result"
    }
   ],
   "source": [
    "# tambien se tiene de manera sencilla un resumen de las caracteristicas numericas de los datos \n",
    "datosDF.describe()"
   ]
  },
  {
   "cell_type": "code",
   "execution_count": 21,
   "metadata": {},
   "outputs": [
    {
     "data": {
      "image/png": "[encoded data removed]",
      "text/plain": [
       "<Figure size 720x360 with 1 Axes>"
      ]
     },
     "metadata": {},
     "output_type": "display_data"
    }
   ],
   "source": [
    "h=datosDF[\"Edades\"]\n",
    "#print(type(h))\n",
    "#print(h)\n",
    "plt.figure(figsize=(10,5))\n",
    "plt.hist(h,bins=4,color='grey')\n",
    "plt.axvline(h.mean(),color='red',label='Media')\n",
    "plt.axvline(h.median(),color='yellow',label='Mediana')\n",
    "plt.axvline(h.mode()[0],color='green',label='Moda')\n",
    "plt.xlabel('Edades')\n",
    "plt.ylabel('Frecuencia')\n",
    "plt.legend()\n",
    "plt.show()"
   ]
  },
  {
   "cell_type": "code",
   "execution_count": 22,
   "metadata": {},
   "outputs": [
    {
     "data": {
      "image/png": "[encoded data removed]",
      "text/plain": [
       "<Figure size 720x360 with 1 Axes>"
      ]
     },
     "metadata": {},
     "output_type": "display_data"
    }
   ],
   "source": [
    "plt.figure(figsize=(10,5))\n",
    "plt.axhline(h.mean(),color='b',linestyle='dashed')\n",
    "plt.axhline(h.median(),color='g',linestyle='dashed')\n",
    "plt.axhline(h.min(),color='yellow',linestyle='dashed')\n",
    "plt.axhline(h.max(),color='yellow',linestyle='dashed')\n",
    "plt.axhline(h.quantile(0.25,interpolation='midpoint'),color='brown',linestyle='dashed')\n",
    "plt.axhline(h.quantile(0.75,interpolation='midpoint'),color='brown',linestyle='dashed')\n",
    "\n",
    "plt.boxplot(h,showmeans=True)\n",
    "plt.show()"
   ]
  },
  {
   "cell_type": "code",
   "execution_count": 23,
   "metadata": {},
   "outputs": [
    {
     "data": {
      "text/plain": [
       "<matplotlib.axes._subplots.AxesSubplot at 0x1155df390>"
      ]
     },
     "execution_count": 23,
     "metadata": {},
     "output_type": "execute_result"
    },
    {
     "data": {
      "image/png": "[encoded data removed]",
      "text/plain": [
       "<Figure size 720x360 with 1 Axes>"
      ]
     },
     "metadata": {},
     "output_type": "display_data"
    }
   ],
   "source": [
    "plt.figure(figsize=(10,5))\n",
    "h.plot()"
   ]
  },
  {
   "cell_type": "code",
   "execution_count": null,
   "metadata": {},
   "outputs": [],
   "source": []
  },
  {
   "cell_type": "code",
   "execution_count": 24,
   "metadata": {},
   "outputs": [
    {
     "data": {
      "text/plain": [
       "<matplotlib.axes._subplots.AxesSubplot at 0x120b465d0>"
      ]
     },
     "execution_count": 24,
     "metadata": {},
     "output_type": "execute_result"
    },
    {
     "data": {
      "image/png": "[encoded data removed]",
      "text/plain": [
       "<Figure size 720x360 with 1 Axes>"
      ]
     },
     "metadata": {},
     "output_type": "display_data"
    }
   ],
   "source": [
    "plt.figure(figsize=(10,5))\n",
    "h.plot('hist',alpha=0.5, bins=4, cumulative=True)"
   ]
  },
  {
   "cell_type": "code",
   "execution_count": 25,
   "metadata": {},
   "outputs": [
    {
     "data": {
      "text/plain": [
       "<matplotlib.axes._subplots.AxesSubplot at 0x120b46e10>"
      ]
     },
     "execution_count": 25,
     "metadata": {},
     "output_type": "execute_result"
    },
    {
     "data": {
      "image/png": "[encoded data removed]",
      "text/plain": [
       "<Figure size 720x360 with 1 Axes>"
      ]
     },
     "metadata": {},
     "output_type": "display_data"
    }
   ],
   "source": [
    "plt.figure(figsize=(10,5))\n",
    "\n",
    "#plt.axhline(h.mean(),color='b',linestyle='dashed')\n",
    "#plt.axhline(h.median(),color='g',linestyle='dashed')\n",
    "#plt.axhline(h.min(),color='yellow',linestyle='dashed')\n",
    "#plt.axhline(h.max(),color='yellow',linestyle='dashed')\n",
    "#plt.axhline(h.quantile(0.25,interpolation='midpoint'),color='brown',linestyle='dashed')\n",
    "#plt.axhline(h.quantile(0.75,interpolation='midpoint'),color='brown',linestyle='dashed')\n",
    "\n",
    "h.plot('box',showmeans=True)"
   ]
  },
  {
   "cell_type": "code",
   "execution_count": 26,
   "metadata": {},
   "outputs": [
    {
     "data": {
      "text/html": [
       "<div>\n",
       "<style scoped>\n",
       "    .dataframe tbody tr th:only-of-type {\n",
       "        vertical-align: middle;\n",
       "    }\n",
       "\n",
       "    .dataframe tbody tr th {\n",
       "        vertical-align: top;\n",
       "    }\n",
       "\n",
       "    .dataframe thead th {\n",
       "        text-align: right;\n",
       "    }\n",
       "</style>\n",
       "<table border=\"1\" class=\"dataframe\">\n",
       "  <thead>\n",
       "    <tr style=\"text-align: right;\">\n",
       "      <th>col_0</th>\n",
       "      <th>total</th>\n",
       "    </tr>\n",
       "    <tr>\n",
       "      <th>Edades</th>\n",
       "      <th></th>\n",
       "    </tr>\n",
       "  </thead>\n",
       "  <tbody>\n",
       "    <tr>\n",
       "      <th>23</th>\n",
       "      <td>2</td>\n",
       "    </tr>\n",
       "    <tr>\n",
       "      <th>25</th>\n",
       "      <td>2</td>\n",
       "    </tr>\n",
       "    <tr>\n",
       "      <th>26</th>\n",
       "      <td>1</td>\n",
       "    </tr>\n",
       "    <tr>\n",
       "      <th>29</th>\n",
       "      <td>1</td>\n",
       "    </tr>\n",
       "    <tr>\n",
       "      <th>30</th>\n",
       "      <td>2</td>\n",
       "    </tr>\n",
       "    <tr>\n",
       "      <th>34</th>\n",
       "      <td>1</td>\n",
       "    </tr>\n",
       "    <tr>\n",
       "      <th>40</th>\n",
       "      <td>1</td>\n",
       "    </tr>\n",
       "    <tr>\n",
       "      <th>46</th>\n",
       "      <td>1</td>\n",
       "    </tr>\n",
       "    <tr>\n",
       "      <th>51</th>\n",
       "      <td>1</td>\n",
       "    </tr>\n",
       "  </tbody>\n",
       "</table>\n",
       "</div>"
      ],
      "text/plain": [
       "col_0   total\n",
       "Edades       \n",
       "23          2\n",
       "25          2\n",
       "26          1\n",
       "29          1\n",
       "30          2\n",
       "34          1\n",
       "40          1\n",
       "46          1\n",
       "51          1"
      ]
     },
     "execution_count": 26,
     "metadata": {},
     "output_type": "execute_result"
    }
   ],
   "source": [
    "frecuencias=pd.crosstab(index=datosDF[\"Edades\"],  columns=\"total\") \n",
    "frecuencias"
   ]
  },
  {
   "cell_type": "code",
   "execution_count": 27,
   "metadata": {},
   "outputs": [
    {
     "data": {
      "text/plain": [
       "<matplotlib.axes._subplots.AxesSubplot at 0x120da4fd0>"
      ]
     },
     "execution_count": 27,
     "metadata": {},
     "output_type": "execute_result"
    },
    {
     "data": {
      "text/plain": [
       "<Figure size 720x360 with 0 Axes>"
      ]
     },
     "metadata": {},
     "output_type": "display_data"
    },
    {
     "data": {
      "image/png": "[encoded data removed]",
      "text/plain": [
       "<Figure size 432x288 with 1 Axes>"
      ]
     },
     "metadata": {},
     "output_type": "display_data"
    }
   ],
   "source": [
    "plt.figure(figsize=(10,5))\n",
    "frecuencias.plot.pie(y=\"total\",autopct='%.2f',legend = False, fontsize=14)"
   ]
  },
  {
   "cell_type": "code",
   "execution_count": 28,
   "metadata": {},
   "outputs": [
    {
     "data": {
      "text/html": [
       "<div>\n",
       "<style scoped>\n",
       "    .dataframe tbody tr th:only-of-type {\n",
       "        vertical-align: middle;\n",
       "    }\n",
       "\n",
       "    .dataframe tbody tr th {\n",
       "        vertical-align: top;\n",
       "    }\n",
       "\n",
       "    .dataframe thead th {\n",
       "        text-align: right;\n",
       "    }\n",
       "</style>\n",
       "<table border=\"1\" class=\"dataframe\">\n",
       "  <thead>\n",
       "    <tr style=\"text-align: right;\">\n",
       "      <th></th>\n",
       "      <th>masa</th>\n",
       "      <th>radio</th>\n",
       "    </tr>\n",
       "  </thead>\n",
       "  <tbody>\n",
       "    <tr>\n",
       "      <th>Mercurio</th>\n",
       "      <td>0.33</td>\n",
       "      <td>2439.7</td>\n",
       "    </tr>\n",
       "    <tr>\n",
       "      <th>Venus</th>\n",
       "      <td>4.87</td>\n",
       "      <td>6051.8</td>\n",
       "    </tr>\n",
       "    <tr>\n",
       "      <th>Tierra</th>\n",
       "      <td>5.97</td>\n",
       "      <td>6378.1</td>\n",
       "    </tr>\n",
       "  </tbody>\n",
       "</table>\n",
       "</div>"
      ],
      "text/plain": [
       "          masa   radio\n",
       "Mercurio  0.33  2439.7\n",
       "Venus     4.87  6051.8\n",
       "Tierra    5.97  6378.1"
      ]
     },
     "execution_count": 28,
     "metadata": {},
     "output_type": "execute_result"
    }
   ],
   "source": [
    "# Se puede dar nombre a las filas\n",
    "\n",
    "df = pd.DataFrame({'masa': [0.330, 4.87 , 5.97],\n",
    "                    'radio': [2439.7, 6051.8, 6378.1]},\n",
    "                   index=['Mercurio', 'Venus', 'Tierra'])\n",
    "df"
   ]
  },
  {
   "cell_type": "code",
   "execution_count": 29,
   "metadata": {},
   "outputs": [
    {
     "data": {
      "text/html": [
       "<div>\n",
       "<style scoped>\n",
       "    .dataframe tbody tr th:only-of-type {\n",
       "        vertical-align: middle;\n",
       "    }\n",
       "\n",
       "    .dataframe tbody tr th {\n",
       "        vertical-align: top;\n",
       "    }\n",
       "\n",
       "    .dataframe thead th {\n",
       "        text-align: right;\n",
       "    }\n",
       "</style>\n",
       "<table border=\"1\" class=\"dataframe\">\n",
       "  <thead>\n",
       "    <tr style=\"text-align: right;\">\n",
       "      <th></th>\n",
       "      <th>masa</th>\n",
       "      <th>radio</th>\n",
       "    </tr>\n",
       "  </thead>\n",
       "  <tbody>\n",
       "    <tr>\n",
       "      <th>count</th>\n",
       "      <td>3.000000</td>\n",
       "      <td>3.000000</td>\n",
       "    </tr>\n",
       "    <tr>\n",
       "      <th>mean</th>\n",
       "      <td>3.723333</td>\n",
       "      <td>4956.533333</td>\n",
       "    </tr>\n",
       "    <tr>\n",
       "      <th>std</th>\n",
       "      <td>2.989738</td>\n",
       "      <td>2185.739107</td>\n",
       "    </tr>\n",
       "    <tr>\n",
       "      <th>min</th>\n",
       "      <td>0.330000</td>\n",
       "      <td>2439.700000</td>\n",
       "    </tr>\n",
       "    <tr>\n",
       "      <th>25%</th>\n",
       "      <td>2.600000</td>\n",
       "      <td>4245.750000</td>\n",
       "    </tr>\n",
       "    <tr>\n",
       "      <th>50%</th>\n",
       "      <td>4.870000</td>\n",
       "      <td>6051.800000</td>\n",
       "    </tr>\n",
       "    <tr>\n",
       "      <th>75%</th>\n",
       "      <td>5.420000</td>\n",
       "      <td>6214.950000</td>\n",
       "    </tr>\n",
       "    <tr>\n",
       "      <th>max</th>\n",
       "      <td>5.970000</td>\n",
       "      <td>6378.100000</td>\n",
       "    </tr>\n",
       "  </tbody>\n",
       "</table>\n",
       "</div>"
      ],
      "text/plain": [
       "           masa        radio\n",
       "count  3.000000     3.000000\n",
       "mean   3.723333  4956.533333\n",
       "std    2.989738  2185.739107\n",
       "min    0.330000  2439.700000\n",
       "25%    2.600000  4245.750000\n",
       "50%    4.870000  6051.800000\n",
       "75%    5.420000  6214.950000\n",
       "max    5.970000  6378.100000"
      ]
     },
     "execution_count": 29,
     "metadata": {},
     "output_type": "execute_result"
    }
   ],
   "source": [
    "df.describe()"
   ]
  },
  {
   "cell_type": "code",
   "execution_count": 30,
   "metadata": {},
   "outputs": [
    {
     "name": "stdout",
     "output_type": "stream",
     "text": [
      "masa        3.723333\n",
      "radio    4956.533333\n",
      "dtype: float64 \n",
      "\n",
      " masa        4.87\n",
      "radio    6051.80\n",
      "dtype: float64\n"
     ]
    }
   ],
   "source": [
    "print(df.mean(), '\\n\\n', df.median())"
   ]
  },
  {
   "cell_type": "code",
   "execution_count": 31,
   "metadata": {},
   "outputs": [
    {
     "data": {
      "text/plain": [
       "<matplotlib.axes._subplots.AxesSubplot at 0x120eeae10>"
      ]
     },
     "execution_count": 31,
     "metadata": {},
     "output_type": "execute_result"
    },
    {
     "data": {
      "image/png": "[encoded data removed]",
      "text/plain": [
       "<Figure size 432x288 with 1 Axes>"
      ]
     },
     "metadata": {},
     "output_type": "display_data"
    }
   ],
   "source": [
    "df.plot.pie(y='masa',autopct='%.2f', fontsize=14)"
   ]
  },
  {
   "cell_type": "code",
   "execution_count": 32,
   "metadata": {},
   "outputs": [
    {
     "data": {
      "text/plain": [
       "<matplotlib.axes._subplots.AxesSubplot at 0x120fd1c90>"
      ]
     },
     "execution_count": 32,
     "metadata": {},
     "output_type": "execute_result"
    },
    {
     "data": {
      "image/png": "[encoded data removed]",
      "text/plain": [
       "<Figure size 432x288 with 1 Axes>"
      ]
     },
     "metadata": {},
     "output_type": "display_data"
    }
   ],
   "source": [
    "df.plot.pie(y='radio',autopct='%.2f', fontsize=14)"
   ]
  },
  {
   "cell_type": "code",
   "execution_count": 33,
   "metadata": {},
   "outputs": [
    {
     "data": {
      "text/plain": [
       "<matplotlib.axes._subplots.AxesSubplot at 0x121035150>"
      ]
     },
     "execution_count": 33,
     "metadata": {},
     "output_type": "execute_result"
    },
    {
     "data": {
      "image/png": "[encoded data removed]",
      "text/plain": [
       "<Figure size 432x288 with 1 Axes>"
      ]
     },
     "metadata": {},
     "output_type": "display_data"
    }
   ],
   "source": [
    "df.plot.box()"
   ]
  },
  {
   "cell_type": "code",
   "execution_count": 34,
   "metadata": {},
   "outputs": [
    {
     "data": {
      "text/plain": [
       "<matplotlib.axes._subplots.AxesSubplot at 0x1211f6b90>"
      ]
     },
     "execution_count": 34,
     "metadata": {},
     "output_type": "execute_result"
    },
    {
     "data": {
      "image/png": "[encoded data removed]",
      "text/plain": [
       "<Figure size 432x288 with 1 Axes>"
      ]
     },
     "metadata": {},
     "output_type": "display_data"
    }
   ],
   "source": [
    "df['masa'].plot.box()"
   ]
  },
  {
   "cell_type": "code",
   "execution_count": 35,
   "metadata": {},
   "outputs": [],
   "source": [
    "from scipy import stats # importando scipy.stats\n",
    "from ProgramasProba.Proba import *\n",
    "\n",
    "vcexponencial = stats.expon(scale=1/2.0)\n",
    "Xexponencial = vcexponencial.rvs(size=1000)\n",
    "\n",
    "vcnormal = stats.norm(loc=3, scale=2)\n",
    "Xnormal = vcnormal.rvs(size=1000)\n",
    "\n",
    "df = pd.DataFrame({'Datos-expo':Xexponencial, 'Datos-norm':Xnormal})\n"
   ]
  },
  {
   "cell_type": "code",
   "execution_count": 36,
   "metadata": {},
   "outputs": [
    {
     "data": {
      "image/png": "[encoded data removed]",
      "text/plain": [
       "<Figure size 1152x360 with 2 Axes>"
      ]
     },
     "metadata": {},
     "output_type": "display_data"
    }
   ],
   "source": [
    "fig, (ax1,ax2)=plt.subplots(1,2,figsize=(16,5))\n",
    "x=np.linspace(-1,5,num=200)\n",
    "ax1.plot(x,vcexponencial.pdf(x))\n",
    "ax2.scatter(x=np.linspace(0,999,num=1000), y=df['Datos-expo']) \n",
    "plt.show()"
   ]
  },
  {
   "cell_type": "code",
   "execution_count": 37,
   "metadata": {},
   "outputs": [
    {
     "data": {
      "image/png": "[encoded data removed]",
      "text/plain": [
       "<Figure size 1152x360 with 2 Axes>"
      ]
     },
     "metadata": {},
     "output_type": "display_data"
    }
   ],
   "source": [
    "fig, (ax1,ax2)=plt.subplots(1,2,figsize=(16,5))\n",
    "x=np.linspace(-1,7,num=300)\n",
    "ax1.plot(x,vcnormal.pdf(x))\n",
    "ax2.scatter(x=np.linspace(0,999,num=1000), y=df['Datos-norm']) \n",
    "plt.show()"
   ]
  },
  {
   "cell_type": "code",
   "execution_count": 38,
   "metadata": {},
   "outputs": [
    {
     "data": {
      "text/html": [
       "<div>\n",
       "<style scoped>\n",
       "    .dataframe tbody tr th:only-of-type {\n",
       "        vertical-align: middle;\n",
       "    }\n",
       "\n",
       "    .dataframe tbody tr th {\n",
       "        vertical-align: top;\n",
       "    }\n",
       "\n",
       "    .dataframe thead th {\n",
       "        text-align: right;\n",
       "    }\n",
       "</style>\n",
       "<table border=\"1\" class=\"dataframe\">\n",
       "  <thead>\n",
       "    <tr style=\"text-align: right;\">\n",
       "      <th></th>\n",
       "      <th>Datos-expo</th>\n",
       "      <th>Datos-norm</th>\n",
       "    </tr>\n",
       "  </thead>\n",
       "  <tbody>\n",
       "    <tr>\n",
       "      <th>0</th>\n",
       "      <td>0.238018</td>\n",
       "      <td>2.802551</td>\n",
       "    </tr>\n",
       "    <tr>\n",
       "      <th>1</th>\n",
       "      <td>2.789302</td>\n",
       "      <td>5.616300</td>\n",
       "    </tr>\n",
       "    <tr>\n",
       "      <th>2</th>\n",
       "      <td>0.178806</td>\n",
       "      <td>2.949353</td>\n",
       "    </tr>\n",
       "    <tr>\n",
       "      <th>3</th>\n",
       "      <td>0.041203</td>\n",
       "      <td>3.171787</td>\n",
       "    </tr>\n",
       "    <tr>\n",
       "      <th>4</th>\n",
       "      <td>0.292588</td>\n",
       "      <td>3.688657</td>\n",
       "    </tr>\n",
       "  </tbody>\n",
       "</table>\n",
       "</div>"
      ],
      "text/plain": [
       "   Datos-expo  Datos-norm\n",
       "0    0.238018    2.802551\n",
       "1    2.789302    5.616300\n",
       "2    0.178806    2.949353\n",
       "3    0.041203    3.171787\n",
       "4    0.292588    3.688657"
      ]
     },
     "execution_count": 38,
     "metadata": {},
     "output_type": "execute_result"
    }
   ],
   "source": [
    "df.head()"
   ]
  },
  {
   "cell_type": "code",
   "execution_count": 39,
   "metadata": {},
   "outputs": [
    {
     "data": {
      "text/html": [
       "<div>\n",
       "<style scoped>\n",
       "    .dataframe tbody tr th:only-of-type {\n",
       "        vertical-align: middle;\n",
       "    }\n",
       "\n",
       "    .dataframe tbody tr th {\n",
       "        vertical-align: top;\n",
       "    }\n",
       "\n",
       "    .dataframe thead th {\n",
       "        text-align: right;\n",
       "    }\n",
       "</style>\n",
       "<table border=\"1\" class=\"dataframe\">\n",
       "  <thead>\n",
       "    <tr style=\"text-align: right;\">\n",
       "      <th></th>\n",
       "      <th>Datos-expo</th>\n",
       "      <th>Datos-norm</th>\n",
       "    </tr>\n",
       "  </thead>\n",
       "  <tbody>\n",
       "    <tr>\n",
       "      <th>995</th>\n",
       "      <td>0.010038</td>\n",
       "      <td>6.872492</td>\n",
       "    </tr>\n",
       "    <tr>\n",
       "      <th>996</th>\n",
       "      <td>0.040447</td>\n",
       "      <td>1.181840</td>\n",
       "    </tr>\n",
       "    <tr>\n",
       "      <th>997</th>\n",
       "      <td>0.572152</td>\n",
       "      <td>0.218896</td>\n",
       "    </tr>\n",
       "    <tr>\n",
       "      <th>998</th>\n",
       "      <td>1.263438</td>\n",
       "      <td>1.117258</td>\n",
       "    </tr>\n",
       "    <tr>\n",
       "      <th>999</th>\n",
       "      <td>1.177705</td>\n",
       "      <td>5.439783</td>\n",
       "    </tr>\n",
       "  </tbody>\n",
       "</table>\n",
       "</div>"
      ],
      "text/plain": [
       "     Datos-expo  Datos-norm\n",
       "995    0.010038    6.872492\n",
       "996    0.040447    1.181840\n",
       "997    0.572152    0.218896\n",
       "998    1.263438    1.117258\n",
       "999    1.177705    5.439783"
      ]
     },
     "execution_count": 39,
     "metadata": {},
     "output_type": "execute_result"
    }
   ],
   "source": [
    "df.tail()"
   ]
  },
  {
   "cell_type": "code",
   "execution_count": 40,
   "metadata": {},
   "outputs": [
    {
     "data": {
      "text/html": [
       "<div>\n",
       "<style scoped>\n",
       "    .dataframe tbody tr th:only-of-type {\n",
       "        vertical-align: middle;\n",
       "    }\n",
       "\n",
       "    .dataframe tbody tr th {\n",
       "        vertical-align: top;\n",
       "    }\n",
       "\n",
       "    .dataframe thead th {\n",
       "        text-align: right;\n",
       "    }\n",
       "</style>\n",
       "<table border=\"1\" class=\"dataframe\">\n",
       "  <thead>\n",
       "    <tr style=\"text-align: right;\">\n",
       "      <th></th>\n",
       "      <th>Datos-expo</th>\n",
       "      <th>Datos-norm</th>\n",
       "    </tr>\n",
       "  </thead>\n",
       "  <tbody>\n",
       "    <tr>\n",
       "      <th>count</th>\n",
       "      <td>1000.000000</td>\n",
       "      <td>1000.000000</td>\n",
       "    </tr>\n",
       "    <tr>\n",
       "      <th>mean</th>\n",
       "      <td>0.517914</td>\n",
       "      <td>2.956014</td>\n",
       "    </tr>\n",
       "    <tr>\n",
       "      <th>std</th>\n",
       "      <td>0.503072</td>\n",
       "      <td>2.032804</td>\n",
       "    </tr>\n",
       "    <tr>\n",
       "      <th>min</th>\n",
       "      <td>0.000293</td>\n",
       "      <td>-3.131294</td>\n",
       "    </tr>\n",
       "    <tr>\n",
       "      <th>25%</th>\n",
       "      <td>0.152026</td>\n",
       "      <td>1.551505</td>\n",
       "    </tr>\n",
       "    <tr>\n",
       "      <th>50%</th>\n",
       "      <td>0.374717</td>\n",
       "      <td>2.997130</td>\n",
       "    </tr>\n",
       "    <tr>\n",
       "      <th>75%</th>\n",
       "      <td>0.716942</td>\n",
       "      <td>4.313325</td>\n",
       "    </tr>\n",
       "    <tr>\n",
       "      <th>max</th>\n",
       "      <td>2.838588</td>\n",
       "      <td>9.255042</td>\n",
       "    </tr>\n",
       "  </tbody>\n",
       "</table>\n",
       "</div>"
      ],
      "text/plain": [
       "        Datos-expo   Datos-norm\n",
       "count  1000.000000  1000.000000\n",
       "mean      0.517914     2.956014\n",
       "std       0.503072     2.032804\n",
       "min       0.000293    -3.131294\n",
       "25%       0.152026     1.551505\n",
       "50%       0.374717     2.997130\n",
       "75%       0.716942     4.313325\n",
       "max       2.838588     9.255042"
      ]
     },
     "execution_count": 40,
     "metadata": {},
     "output_type": "execute_result"
    }
   ],
   "source": [
    "df.describe()"
   ]
  },
  {
   "cell_type": "code",
   "execution_count": 41,
   "metadata": {},
   "outputs": [
    {
     "data": {
      "image/png": "[encoded data removed]",
      "text/plain": [
       "<Figure size 432x288 with 1 Axes>"
      ]
     },
     "metadata": {},
     "output_type": "display_data"
    }
   ],
   "source": [
    "df.plot.box();"
   ]
  },
  {
   "cell_type": "code",
   "execution_count": 42,
   "metadata": {},
   "outputs": [
    {
     "data": {
      "text/plain": [
       "<matplotlib.axes._subplots.AxesSubplot at 0x1a2334da50>"
      ]
     },
     "execution_count": 42,
     "metadata": {},
     "output_type": "execute_result"
    },
    {
     "data": {
      "image/png": "[encoded data removed]",
      "text/plain": [
       "<Figure size 432x288 with 1 Axes>"
      ]
     },
     "metadata": {},
     "output_type": "display_data"
    }
   ],
   "source": [
    "df[\"Datos-expo\"].plot.box()"
   ]
  },
  {
   "cell_type": "code",
   "execution_count": 43,
   "metadata": {},
   "outputs": [
    {
     "data": {
      "text/plain": [
       "<matplotlib.axes._subplots.AxesSubplot at 0x120b548d0>"
      ]
     },
     "execution_count": 43,
     "metadata": {},
     "output_type": "execute_result"
    },
    {
     "data": {
      "image/png": "[encoded data removed]",
      "text/plain": [
       "<Figure size 432x288 with 1 Axes>"
      ]
     },
     "metadata": {},
     "output_type": "display_data"
    }
   ],
   "source": [
    "df[\"Datos-norm\"].plot.box()"
   ]
  },
  {
   "cell_type": "code",
   "execution_count": 44,
   "metadata": {},
   "outputs": [
    {
     "data": {
      "text/plain": [
       "array([2.92757735e-04, 2.84122284e-01, 5.67951810e-01, 8.51781336e-01,\n",
       "       1.13561086e+00, 1.41944039e+00, 1.70326991e+00, 1.98709944e+00,\n",
       "       2.27092897e+00, 2.55475849e+00, 2.83858802e+00])"
      ]
     },
     "execution_count": 44,
     "metadata": {},
     "output_type": "execute_result"
    },
    {
     "data": {
      "image/png": "[encoded data removed]",
      "text/plain": [
       "<Figure size 432x288 with 1 Axes>"
      ]
     },
     "metadata": {},
     "output_type": "display_data"
    }
   ],
   "source": [
    "A=plt.hist(df[\"Datos-expo\"]);\n",
    "A[1]"
   ]
  },
  {
   "cell_type": "code",
   "execution_count": 45,
   "metadata": {},
   "outputs": [
    {
     "data": {
      "image/png": "[encoded data removed]",
      "text/plain": [
       "<Figure size 432x288 with 1 Axes>"
      ]
     },
     "metadata": {},
     "output_type": "display_data"
    }
   ],
   "source": [
    "df[\"Datos-expo\"].plot.hist(bins=20);"
   ]
  },
  {
   "cell_type": "code",
   "execution_count": 46,
   "metadata": {},
   "outputs": [
    {
     "data": {
      "image/png": "[encoded data removed]",
      "text/plain": [
       "<Figure size 432x288 with 1 Axes>"
      ]
     },
     "metadata": {},
     "output_type": "display_data"
    }
   ],
   "source": [
    "df[\"Datos-norm\"].plot.hist(bins=50);"
   ]
  },
  {
   "cell_type": "code",
   "execution_count": 47,
   "metadata": {},
   "outputs": [
    {
     "data": {
      "image/png": "[encoded data removed]",
      "text/plain": [
       "<Figure size 432x288 with 2 Axes>"
      ]
     },
     "metadata": {},
     "output_type": "display_data"
    }
   ],
   "source": [
    "df.hist(color='b', alpha=0.5, bins=50, density=True);"
   ]
  },
  {
   "cell_type": "code",
   "execution_count": 48,
   "metadata": {},
   "outputs": [
    {
     "data": {
      "text/plain": [
       "<matplotlib.axes._subplots.AxesSubplot at 0x1a23774350>"
      ]
     },
     "execution_count": 48,
     "metadata": {},
     "output_type": "execute_result"
    },
    {
     "data": {
      "image/png": "[encoded data removed]",
      "text/plain": [
       "<Figure size 432x288 with 1 Axes>"
      ]
     },
     "metadata": {},
     "output_type": "display_data"
    }
   ],
   "source": [
    "df.plot.hist(alpha=0.5, bins=50, density=True)"
   ]
  },
  {
   "cell_type": "code",
   "execution_count": 49,
   "metadata": {},
   "outputs": [
    {
     "data": {
      "image/png": "[encoded data removed]",
      "text/plain": [
       "<Figure size 432x288 with 1 Axes>"
      ]
     },
     "metadata": {},
     "output_type": "display_data"
    }
   ],
   "source": [
    "df.plot.kde()\n",
    "plt.show()"
   ]
  },
  {
   "cell_type": "code",
   "execution_count": 50,
   "metadata": {},
   "outputs": [
    {
     "data": {
      "image/png": "[encoded data removed]",
      "text/plain": [
       "<Figure size 432x288 with 1 Axes>"
      ]
     },
     "metadata": {},
     "output_type": "display_data"
    }
   ],
   "source": [
    "x=np.linspace(-1,5,num=200)\n",
    "df[\"Datos-expo\"].plot.kde(label=\"Metodo kde\")\n",
    "plt.plot(x,vcexponencial.pdf(x),'r',label=\"Funcion de densidad\")\n",
    "df[\"Datos-expo\"].hist(color='b', alpha=0.5, bins=50, density=True,label=\"histograma\");\n",
    "plt.legend(loc='best')\n",
    "plt.show()"
   ]
  },
  {
   "cell_type": "code",
   "execution_count": 51,
   "metadata": {},
   "outputs": [
    {
     "data": {
      "image/png": "[encoded data removed]",
      "text/plain": [
       "<Figure size 432x288 with 1 Axes>"
      ]
     },
     "metadata": {},
     "output_type": "display_data"
    }
   ],
   "source": [
    "x=np.linspace(-1,5,num=200)\n",
    "df[\"Datos-norm\"].plot.kde(label=\"Metodo kde\")\n",
    "plt.plot(x,vcnormal.pdf(x),'r',label=\"Funcion de densidad\")\n",
    "df[\"Datos-norm\"].hist(color='b', alpha=0.5, bins=50, density=True,label=\"histograma\");\n",
    "plt.legend(loc='best')\n",
    "plt.show()"
   ]
  },
  {
   "cell_type": "markdown",
   "metadata": {},
   "source": [
    "# Descripciones numericas\n",
    "\n",
    "### Media\n",
    "$$\\bar{x}=\\dfrac{1}{n}\\sum_{i=1}^n x_i$$\n",
    "\n",
    "### Mediana\n",
    "Para un orden $x_{(1)}\\leq \\ldots\\leq x_{(n)}$, para $n$ par definimos la mediana como \n",
    "\n",
    "$$\\tilde{x}=\\dfrac{x_{(n/2)}+x_{(n/2+1)}}{2}$$\n",
    "\n",
    "para $n$ impar\n",
    "\n",
    "$$\\tilde{x}=x_{(\\frac{n+1}{2})}$$\n",
    "\n",
    "### Varianza \n",
    "\n",
    "$$var(x)=\\dfrac{1}{n}\\sum_{i=1}^n (x_i-\\bar{x})^2$$\n",
    "\n",
    "### Desviación estándar \n",
    "\n",
    "$$de(x)=\\sqrt{\\dfrac{1}{n}\\sum_{i=1}^n (x_i-\\bar{x})^2}$$\n",
    "\n",
    "### Desviación media\n",
    "\n",
    "$$dm(x)=\\dfrac{1}{n}\\sum_{i=1}^n |x_i-\\bar{x}|$$\n",
    "\n",
    "### Rango\n",
    "Para un orden $x_{(1)}\\leq \\ldots\\leq x_{(n)}$,\n",
    "\n",
    "$$r(x)=x_{(n)}-x_{(1)}$$\n",
    "\n",
    "### Momentos muestrales\n",
    "\n",
    "$$m'_k=\\dfrac{1}{n}\\sum_{i=1}^n x_i^k$$\n",
    "\n",
    "\n",
    "### Momentos muestrales centrales\n",
    "\n",
    "$$m_k=\\dfrac{1}{n}\\sum_{i=1}^n (x_i-\\bar{x})^k$$\n",
    "\n",
    "### Cuantiles\n",
    "\n",
    "Un cuantil al $100p\\%$ es un número $c$ que cumple\n",
    "\n",
    "$$\\dfrac{\\#\\lbrace x_i|x_i\\leq c\\rbrace}{n}\\geq p$$\n",
    "\n",
    "$$\\dfrac{\\#\\lbrace x_i|x_i\\geq c\\rbrace}{n}\\geq 1-p$$\n",
    "\n",
    "cuando hay un intervalo como candidato , elegimos quedarnos con el punto medio.\n",
    "\n",
    "### Coeficiente de asimetría (skewness)\n",
    "\n",
    "$$sk(x)=\\dfrac{1}{s^3}\\left[\\dfrac{1}{n}\\sum_{i=1}^n (x_i-\\bar{x})^3\\right]$$\n",
    "\n",
    "$$sk(x)=\\dfrac{\\dfrac{1}{n}\\sum_{i=1}^n (x_i-\\bar{x})^3}{\\left[\\sqrt{\\dfrac{1}{n}\\sum_{i=1}^n (x_i-\\bar{x})^2}\\right]^3}$$\n",
    "\n",
    "$$sk(x)=\\dfrac{m_3}{m_2^{3/2}}$$\n",
    "\n",
    "- $sk(x)>0$ asímetria positiva (los datos están cargados a la izquierda de la média)\n",
    "- $sk(x)<0$ asímetria negativa (los datos están cargados a la derecha de la media)\n",
    "\n",
    "### Curtosis (kurtosis)\n",
    "\n",
    "$$ k(x)=\\dfrac{1}{s^4}\\left[\\dfrac{1}{n}\\sum_{i=1}^n (x_i-\\bar{x})^4\\right] $$\n",
    "\n",
    "$$k(x)=\\dfrac{\\dfrac{1}{n}\\sum_{i=1}^n (x_i-\\bar{x})^4}{\\left[\\dfrac{1}{n}\\sum_{i=1}^n (x_i-\\bar{x})^2\\right]^2}$$\n",
    "\n",
    "$$k(x)=\\dfrac{m_4}{m_2^{2}}$$\n",
    "\n",
    "Una normal estándar tiene un $k=3$, se define $k_3(x)=k(x)-3$, \n",
    "\n",
    "- Si $k_3=0$ se tiene una curva mesocúrtica (curva normal)\n",
    "- Si $k_3>0$ se tiene una curva leptocúrtica (decaimiento rápido)\n",
    "- Si $k_3<0$ se tiene una curva platicúrtica (decaimiento lento)\n",
    "\n",
    "## Observaciones\n",
    "\n",
    "Las definiciones en estadística descriptva no son estándar ni en definición ni en notación. Las diferentes definiciones (matemáticas) de un mismo concepto encuentrán su justificación en la teoria de estimación, pero lo importante es que independiente de la definición tienen el mismo proposito, por ejemplo\n",
    "\n",
    "$$\\sigma^2=\\dfrac{1}{n}\\sum_{i=1}^n (x_i-\\bar{x})^2$$\n",
    "$$S^2=\\dfrac{1}{n-1}\\sum_{i=1}^n (x_i-\\bar{x})^2$$\n",
    "\n",
    "son dos definiciones diferentes para calcular la varianza, ambas se interpretan como una medida de dispersión de datos, incluso algunos textos las distinguen indicando quñe fórmula utiliar dependiendo del númro de datos; desde el punto de teoría de estimación (estadística inferencial) ambos números \"sirven\" para calcular la varianza pero $S^2$ es mejor porque esta asociado a un estimador insesgado (lo que sea que signifique eso). \n",
    "\n",
    "Es importante que se tenga esto en cuenta, abría que revisar la implemetación en cada lenguaje (mi sospecha es qeu la implementación en los lenguajes de programación es estándar, pero entre los libros de texto y los lenguajes no, no he tenido tiempo de verificar esto.).\n",
    "\n",
    "Como ejemplo se comparan las deficiones indicadas anteriormente contra las implementadas en el módulo Pandas. "
   ]
  },
  {
   "cell_type": "markdown",
   "metadata": {},
   "source": [
    "## Ejemplo\n",
    "\n",
    "Se construyen funciones para calcular las descripciones númericas antes indicadas, se calcula el equivalente con Pandas.\n"
   ]
  },
  {
   "cell_type": "code",
   "execution_count": 253,
   "metadata": {},
   "outputs": [],
   "source": [
    "def media(x,bandera=False):\n",
    "    '''x es una lista de datos'''\n",
    "    valores=pd.Series(x)\n",
    "    df=pd.DataFrame({'Datos':valores})\n",
    "    media=(1.0/(valores.size))*np.sum(x)\n",
    "    if bandera==True:\n",
    "        return media\n",
    "    print(\"\\n media: \",media,\"\\n media Pandas: \",df.mean() )\n",
    "\n",
    "def mediana(x, bandera=False):\n",
    "    '''x es una lista de datos'''\n",
    "    valores=pd.Series(x)\n",
    "    df=pd.DataFrame({'Datos':valores})\n",
    "    elementos=valores.count()\n",
    "    valoresor=np.sort(valores)\n",
    "    if elementos%2==0:\n",
    "        mediana=(valoresor[(elementos)/2-1]+valoresor[elementos/2])/2.0\n",
    "    else:\n",
    "        mediana=valoresor[(elementos+1)/2-1]\n",
    "    if bandera==True:\n",
    "        return mediana\n",
    "    \n",
    "    print(\"\\n mediana: \",mediana,\"\\n mediana Pandas: \",df.median(),df.quantile(0.5,interpolation='midpoint'))\n",
    "\n",
    "def momentos(x,k,bandera=False):\n",
    "    '''x es una lista de datos'''\n",
    "    valores=pd.Series(x)\n",
    "    df=pd.DataFrame({'Datos':valores})\n",
    "    momento=(1.0/(valores.size))*np.sum(np.power(valores,k))\n",
    "    if bandera==True:\n",
    "        return momento\n",
    "    print(\"\\n momento %i :\"%k,momento)\n",
    "    \n",
    "def momentosc(x,k,bandera=False):\n",
    "    '''x es una lista de datos'''\n",
    "    valores=pd.Series(x)\n",
    "    df=pd.DataFrame({'Datos':valores})\n",
    "    media_=media(x,bandera=True)\n",
    "    momentoc=(1.0/(valores.size))*np.sum(np.power(valores-media_,k))\n",
    "    if bandera==True:\n",
    "        return momentoc\n",
    "    print(\"\\n momento %i :\"%k,momentoc)\n",
    "\n",
    "def varianza(x,bandera=False):\n",
    "    '''x es una lista de datos'''\n",
    "    valores=pd.Series(x)\n",
    "    df=pd.DataFrame({'Datos':valores})\n",
    "    var=momentosc(x,2,bandera=True)\n",
    "    if bandera==True:\n",
    "        return var\n",
    "    print(\"\\n varianza: \",var,\"\\n varianza Pandas: \",df.var())\n",
    "\n",
    "def des(x,bandera=False):\n",
    "    '''x es una lista de datos'''\n",
    "    valores=pd.Series(x)\n",
    "    df=pd.DataFrame({'Datos':valores})\n",
    "    des=np.sqrt(varianza(x,bandera=True))\n",
    "    if bandera==True:\n",
    "        return des\n",
    "    print(\"\\n desviación estándar: \",des,\"\\n desviación estándar Pandas: \",df.std())\n",
    "    \n",
    "def rango(x,bandera=False):\n",
    "    '''x es una lista de datos'''\n",
    "    valores=pd.Series(x)\n",
    "    df=pd.DataFrame({'Datos':valores})\n",
    "    mini=df.min()\n",
    "    maxi=df.max()\n",
    "    rango=maxi-mini\n",
    "    if bandera==True:\n",
    "        return rango.values[0]\n",
    "    print(\"\\n minimo: \",mini,\"\\n maximo: \",maxi,\"\\n rango:\",rango)\n",
    "    \n",
    "def cuantiles(x,q, bandera=False):\n",
    "    '''x es una lista de datos'''\n",
    "    valores=pd.Series(x)\n",
    "    df=pd.DataFrame({'Datos':valores})\n",
    "    cuantiles=df.quantile(q,interpolation='midpoint')\n",
    "    if bandera==True:\n",
    "        return cuantiles.values[:]\n",
    "    print(\"\\n cuantiles:\",cuantiles)\n",
    "    \n",
    "def asimetria(x,bandera=False):\n",
    "    '''x es una lista de datos'''\n",
    "    valores=pd.Series(x)\n",
    "    df=pd.DataFrame({'Datos':valores})\n",
    "    asimetria=momentosc(x,3,bandera=True)/np.power(momentosc(x,2,bandera=True),1.5)\n",
    "    if bandera==True:\n",
    "        return asimetria\n",
    "    print(\"\\n asimetria:\",asimetria,\"asimetria Pandas:\",df.skew())\n",
    "\n",
    "def curtosis(x,bandera=False):\n",
    "    '''x es una lista de datos'''\n",
    "    valores=pd.Series(x)\n",
    "    df=pd.DataFrame({'Datos':valores})\n",
    "    curtosis=momentosc(x,4,bandera=True)/np.power(momentosc(x,2,bandera=True),2)\n",
    "    if bandera==True:\n",
    "        return curtosis\n",
    "    print(\"\\n curtosis:\",curtosis,\"curtosis Pandas:\",df.kurtosis())\n",
    "    \n",
    "def descripcion(x):\n",
    "    descriptores=pd.Series([media(x,bandera=True),mediana(x, bandera=True),\n",
    "            varianza(x,bandera=True),des(x,bandera=True),\n",
    "            rango(x,bandera=True),cuantiles(x,[0.25, 0.5, 0.75],bandera=True),\n",
    "           asimetria(x,bandera=True),curtosis(x,bandera=True)],\n",
    "           index=['media', 'mediana', 'varianza', 'std',\"rango\",\"cuartiles\",\"asimetria\",\"curtosis\"])\n",
    "\n",
    "    s=pd.Series(x)\n",
    "    despandas=pd.Series([s.mean(),s.median(),s.var(),s.std(),s.max()-s.min(),\n",
    "                     s.quantile([0.25,0.5,0.75]).values, s.skew(),s.kurt()],\n",
    "            index=['media', 'mediana', 'varianza', 'std',\"rango\",\"cuartiles\",\"asimetria\",\"curtosis\"])\n",
    "    df=pd.DataFrame({\"Definiciones\":descriptores,\n",
    "                 \"Pandas\":despandas})\n",
    "    return df\n",
    "\n",
    "#media(x)\n",
    "#mediana(x)\n",
    "#momentos(x,1)\n",
    "#momentosc(x,1)\n",
    "#varianza(x)\n",
    "#des(x)\n",
    "#rango(x)\n",
    "#cuantiles(x,[0.25, 0.5, 0.75])\n",
    "#asimetria(x)\n",
    "#curtosis(x)"
   ]
  },
  {
   "cell_type": "code",
   "execution_count": 254,
   "metadata": {},
   "outputs": [
    {
     "data": {
      "text/html": [
       "<div>\n",
       "<style scoped>\n",
       "    .dataframe tbody tr th:only-of-type {\n",
       "        vertical-align: middle;\n",
       "    }\n",
       "\n",
       "    .dataframe tbody tr th {\n",
       "        vertical-align: top;\n",
       "    }\n",
       "\n",
       "    .dataframe thead th {\n",
       "        text-align: right;\n",
       "    }\n",
       "</style>\n",
       "<table border=\"1\" class=\"dataframe\">\n",
       "  <thead>\n",
       "    <tr style=\"text-align: right;\">\n",
       "      <th></th>\n",
       "      <th>Definiciones</th>\n",
       "      <th>Pandas</th>\n",
       "    </tr>\n",
       "  </thead>\n",
       "  <tbody>\n",
       "    <tr>\n",
       "      <th>media</th>\n",
       "      <td>20.7675</td>\n",
       "      <td>20.7675</td>\n",
       "    </tr>\n",
       "    <tr>\n",
       "      <th>mediana</th>\n",
       "      <td>20.61</td>\n",
       "      <td>20.61</td>\n",
       "    </tr>\n",
       "    <tr>\n",
       "      <th>varianza</th>\n",
       "      <td>2.40627</td>\n",
       "      <td>2.53291</td>\n",
       "    </tr>\n",
       "    <tr>\n",
       "      <th>std</th>\n",
       "      <td>1.55122</td>\n",
       "      <td>1.59151</td>\n",
       "    </tr>\n",
       "    <tr>\n",
       "      <th>rango</th>\n",
       "      <td>5.67</td>\n",
       "      <td>5.67</td>\n",
       "    </tr>\n",
       "    <tr>\n",
       "      <th>cuartiles</th>\n",
       "      <td>[[19.365000000000002], [20.61], [21.96]]</td>\n",
       "      <td>[19.402500000000003, 20.61, 21.884999999999998]</td>\n",
       "    </tr>\n",
       "    <tr>\n",
       "      <th>asimetria</th>\n",
       "      <td>0.126248</td>\n",
       "      <td>0.136724</td>\n",
       "    </tr>\n",
       "    <tr>\n",
       "      <th>curtosis</th>\n",
       "      <td>1.99587</td>\n",
       "      <td>-0.936763</td>\n",
       "    </tr>\n",
       "  </tbody>\n",
       "</table>\n",
       "</div>"
      ],
      "text/plain": [
       "                                       Definiciones  \\\n",
       "media                                       20.7675   \n",
       "mediana                                       20.61   \n",
       "varianza                                    2.40627   \n",
       "std                                         1.55122   \n",
       "rango                                          5.67   \n",
       "cuartiles  [[19.365000000000002], [20.61], [21.96]]   \n",
       "asimetria                                  0.126248   \n",
       "curtosis                                    1.99587   \n",
       "\n",
       "                                                    Pandas  \n",
       "media                                              20.7675  \n",
       "mediana                                              20.61  \n",
       "varianza                                           2.53291  \n",
       "std                                                1.59151  \n",
       "rango                                                 5.67  \n",
       "cuartiles  [19.402500000000003, 20.61, 21.884999999999998]  \n",
       "asimetria                                         0.136724  \n",
       "curtosis                                         -0.936763  "
      ]
     },
     "execution_count": 254,
     "metadata": {},
     "output_type": "execute_result"
    }
   ],
   "source": [
    "x=[18.71, 21.41, 20.72, 21.81, 19.29, 22.43, 20.17, 23.71, 19.44, 20.50,\n",
    "18.92, 20.33, 23.00, 22.85, 19.25, 21.77, 22.11, 19.77, 18.04, 21.12]\n",
    "descripcion(x)"
   ]
  },
  {
   "cell_type": "code",
   "execution_count": 251,
   "metadata": {},
   "outputs": [
    {
     "data": {
      "text/html": [
       "<div>\n",
       "<style scoped>\n",
       "    .dataframe tbody tr th:only-of-type {\n",
       "        vertical-align: middle;\n",
       "    }\n",
       "\n",
       "    .dataframe tbody tr th {\n",
       "        vertical-align: top;\n",
       "    }\n",
       "\n",
       "    .dataframe thead th {\n",
       "        text-align: right;\n",
       "    }\n",
       "</style>\n",
       "<table border=\"1\" class=\"dataframe\">\n",
       "  <thead>\n",
       "    <tr style=\"text-align: right;\">\n",
       "      <th></th>\n",
       "      <th>Definiciones</th>\n",
       "      <th>Pandas</th>\n",
       "    </tr>\n",
       "  </thead>\n",
       "  <tbody>\n",
       "    <tr>\n",
       "      <th>media</th>\n",
       "      <td>65.6</td>\n",
       "      <td>65.6</td>\n",
       "    </tr>\n",
       "    <tr>\n",
       "      <th>mediana</th>\n",
       "      <td>72</td>\n",
       "      <td>72</td>\n",
       "    </tr>\n",
       "    <tr>\n",
       "      <th>varianza</th>\n",
       "      <td>399.34</td>\n",
       "      <td>420.358</td>\n",
       "    </tr>\n",
       "    <tr>\n",
       "      <th>std</th>\n",
       "      <td>19.9835</td>\n",
       "      <td>20.5026</td>\n",
       "    </tr>\n",
       "    <tr>\n",
       "      <th>rango</th>\n",
       "      <td>72</td>\n",
       "      <td>72</td>\n",
       "    </tr>\n",
       "    <tr>\n",
       "      <th>cuartiles</th>\n",
       "      <td>[[53.5], [72.0], [80.5]]</td>\n",
       "      <td>[54.25, 72.0, 80.25]</td>\n",
       "    </tr>\n",
       "    <tr>\n",
       "      <th>asimetria</th>\n",
       "      <td>-0.580991</td>\n",
       "      <td>-0.6292</td>\n",
       "    </tr>\n",
       "    <tr>\n",
       "      <th>curtosis</th>\n",
       "      <td>2.30991</td>\n",
       "      <td>-0.527269</td>\n",
       "    </tr>\n",
       "  </tbody>\n",
       "</table>\n",
       "</div>"
      ],
      "text/plain": [
       "                       Definiciones                Pandas\n",
       "media                          65.6                  65.6\n",
       "mediana                          72                    72\n",
       "varianza                     399.34               420.358\n",
       "std                         19.9835               20.5026\n",
       "rango                            72                    72\n",
       "cuartiles  [[53.5], [72.0], [80.5]]  [54.25, 72.0, 80.25]\n",
       "asimetria                 -0.580991               -0.6292\n",
       "curtosis                    2.30991             -0.527269"
      ]
     },
     "execution_count": 251,
     "metadata": {},
     "output_type": "execute_result"
    }
   ],
   "source": [
    "x=[23, 60, 79, 32, 57, 74, 52, 70, 82, 36,\n",
    "80, 77, 81, 95, 41, 65, 92, 85, 55, 76]\n",
    "descripcion(x)"
   ]
  },
  {
   "cell_type": "markdown",
   "metadata": {},
   "source": [
    "Por ejemplo, _kurtosis_ regresa una modificación del valor que se ha definido como $k_3(x)$, en general se tiene qeu tenr cuidado cuando se utiliza software, debido a la impementacion por terceros, y lo qeu se ah comentado anteriormente"
   ]
  },
  {
   "cell_type": "code",
   "execution_count": 224,
   "metadata": {},
   "outputs": [
    {
     "data": {
      "text/html": [
       "<div>\n",
       "<style scoped>\n",
       "    .dataframe tbody tr th:only-of-type {\n",
       "        vertical-align: middle;\n",
       "    }\n",
       "\n",
       "    .dataframe tbody tr th {\n",
       "        vertical-align: top;\n",
       "    }\n",
       "\n",
       "    .dataframe thead th {\n",
       "        text-align: right;\n",
       "    }\n",
       "</style>\n",
       "<table border=\"1\" class=\"dataframe\">\n",
       "  <thead>\n",
       "    <tr style=\"text-align: right;\">\n",
       "      <th></th>\n",
       "      <th>Marca de clase</th>\n",
       "      <th>Frecuencia Absoluta</th>\n",
       "      <th>Frecuencia Acumulada</th>\n",
       "      <th>Frecuencia Relativa</th>\n",
       "      <th>Frecuencia Relativa Acumulada</th>\n",
       "    </tr>\n",
       "  </thead>\n",
       "  <tbody>\n",
       "    <tr>\n",
       "      <th>0</th>\n",
       "      <td>1.7</td>\n",
       "      <td>2</td>\n",
       "      <td>2</td>\n",
       "      <td>0.050</td>\n",
       "      <td>0.050</td>\n",
       "    </tr>\n",
       "    <tr>\n",
       "      <th>1</th>\n",
       "      <td>2.2</td>\n",
       "      <td>1</td>\n",
       "      <td>3</td>\n",
       "      <td>0.025</td>\n",
       "      <td>0.075</td>\n",
       "    </tr>\n",
       "    <tr>\n",
       "      <th>2</th>\n",
       "      <td>2.7</td>\n",
       "      <td>4</td>\n",
       "      <td>7</td>\n",
       "      <td>0.100</td>\n",
       "      <td>0.175</td>\n",
       "    </tr>\n",
       "    <tr>\n",
       "      <th>3</th>\n",
       "      <td>3.2</td>\n",
       "      <td>15</td>\n",
       "      <td>22</td>\n",
       "      <td>0.375</td>\n",
       "      <td>0.550</td>\n",
       "    </tr>\n",
       "    <tr>\n",
       "      <th>4</th>\n",
       "      <td>3.7</td>\n",
       "      <td>10</td>\n",
       "      <td>32</td>\n",
       "      <td>0.250</td>\n",
       "      <td>0.800</td>\n",
       "    </tr>\n",
       "    <tr>\n",
       "      <th>5</th>\n",
       "      <td>4.2</td>\n",
       "      <td>5</td>\n",
       "      <td>37</td>\n",
       "      <td>0.125</td>\n",
       "      <td>0.925</td>\n",
       "    </tr>\n",
       "    <tr>\n",
       "      <th>6</th>\n",
       "      <td>4.7</td>\n",
       "      <td>3</td>\n",
       "      <td>40</td>\n",
       "      <td>0.075</td>\n",
       "      <td>1.000</td>\n",
       "    </tr>\n",
       "  </tbody>\n",
       "</table>\n",
       "</div>"
      ],
      "text/plain": [
       "   Marca de clase  Frecuencia Absoluta  Frecuencia Acumulada  \\\n",
       "0             1.7                    2                     2   \n",
       "1             2.2                    1                     3   \n",
       "2             2.7                    4                     7   \n",
       "3             3.2                   15                    22   \n",
       "4             3.7                   10                    32   \n",
       "5             4.2                    5                    37   \n",
       "6             4.7                    3                    40   \n",
       "\n",
       "   Frecuencia Relativa  Frecuencia Relativa Acumulada  \n",
       "0                0.050                          0.050  \n",
       "1                0.025                          0.075  \n",
       "2                0.100                          0.175  \n",
       "3                0.375                          0.550  \n",
       "4                0.250                          0.800  \n",
       "5                0.125                          0.925  \n",
       "6                0.075                          1.000  "
      ]
     },
     "execution_count": 224,
     "metadata": {},
     "output_type": "execute_result"
    }
   ],
   "source": [
    "mc=[1.7, 2.2, 2.7, 3.2, 3.7, 4.2, 4.7]\n",
    "fa=[2, 1, 4, 15, 10, 5, 3]\n",
    "def cuadrofrecuencias(fa,mc):\n",
    "    '''fa lista de frecuencia absoluta\n",
    "       mc marca de clase'''\n",
    "    marc=pd.Series(mc)\n",
    "    frecabs=pd.Series(fa)\n",
    "    df=pd.DataFrame({\"Marca de clase\":marc,\n",
    "                 \"Frecuencia Absoluta\":frecabs})\n",
    "    df[\"Frecuencia Acumulada\"]=df[\"Frecuencia Absoluta\"].cumsum()\n",
    "    df[\"Frecuencia Relativa\"]=df[\"Frecuencia Absoluta\"]/np.sum(frecabs)\n",
    "    df[\"Frecuencia Relativa Acumulada\"]=df[\"Frecuencia Acumulada\"]/np.sum(frecabs)\n",
    "    df=df[[\"Marca de clase\",\"Frecuencia Absoluta\",\"Frecuencia Acumulada\",\"Frecuencia Relativa\",\n",
    "            \"Frecuencia Relativa Acumulada\"]]\n",
    "    return df\n",
    "\n",
    "cuadrofrecuencias(fa,mc)"
   ]
  },
  {
   "cell_type": "code",
   "execution_count": 218,
   "metadata": {},
   "outputs": [
    {
     "data": {
      "image/png": "[encoded data removed]",
      "text/plain": [
       "<Figure size 1152x576 with 4 Axes>"
      ]
     },
     "metadata": {},
     "output_type": "display_data"
    }
   ],
   "source": [
    "\n",
    "fig, ax=plt.subplots(2,2,figsize=(16,8))\n",
    "\n",
    "ax[0,0].bar(marc[0:7], df[\"Frecuencia Absoluta\"], width=0.4)\n",
    "ax[0,0].set_xticks(marc[0:7])\n",
    "\n",
    "ax[0,1].bar(marc[0:7], df[\"Frecuencia Acumulada\"], width=0.4)\n",
    "ax[0,1].set_xticks(marc)\n",
    "\n",
    "ax[1,0].bar(marc[0:7], df[\"Frecuencia Relativa\"], width=0.4)\n",
    "ax[1,0].set_xticks(marc)\n",
    "\n",
    "ax[1,1].bar(marc[0:7], df[\"Frecuencia Relativa Acumulada\"], width=0.4)\n",
    "ax[1,1].set_xticks(marc)\n",
    "plt.show()\n",
    "\n"
   ]
  },
  {
   "cell_type": "code",
   "execution_count": 54,
   "metadata": {},
   "outputs": [],
   "source": [
    "df=pd.read_excel('Datos1962.xlsx')"
   ]
  },
  {
   "cell_type": "code",
   "execution_count": 55,
   "metadata": {},
   "outputs": [
    {
     "data": {
      "text/html": [
       "<div>\n",
       "<style scoped>\n",
       "    .dataframe tbody tr th:only-of-type {\n",
       "        vertical-align: middle;\n",
       "    }\n",
       "\n",
       "    .dataframe tbody tr th {\n",
       "        vertical-align: top;\n",
       "    }\n",
       "\n",
       "    .dataframe thead th {\n",
       "        text-align: right;\n",
       "    }\n",
       "</style>\n",
       "<table border=\"1\" class=\"dataframe\">\n",
       "  <thead>\n",
       "    <tr style=\"text-align: right;\">\n",
       "      <th></th>\n",
       "      <th>Paises</th>\n",
       "      <th>Natalidad</th>\n",
       "      <th>Ingreso</th>\n",
       "      <th>Poblacion</th>\n",
       "      <th>Mortalidad</th>\n",
       "    </tr>\n",
       "  </thead>\n",
       "  <tbody>\n",
       "    <tr>\n",
       "      <th>0</th>\n",
       "      <td>Venezuela</td>\n",
       "      <td>46.4</td>\n",
       "      <td>392</td>\n",
       "      <td>0.40</td>\n",
       "      <td>68.5</td>\n",
       "    </tr>\n",
       "    <tr>\n",
       "      <th>1</th>\n",
       "      <td>Mexico</td>\n",
       "      <td>45.7</td>\n",
       "      <td>118</td>\n",
       "      <td>0.61</td>\n",
       "      <td>87.8</td>\n",
       "    </tr>\n",
       "    <tr>\n",
       "      <th>2</th>\n",
       "      <td>Ecuador</td>\n",
       "      <td>45.3</td>\n",
       "      <td>44</td>\n",
       "      <td>0.53</td>\n",
       "      <td>115.8</td>\n",
       "    </tr>\n",
       "    <tr>\n",
       "      <th>3</th>\n",
       "      <td>Colombia</td>\n",
       "      <td>38.6</td>\n",
       "      <td>158</td>\n",
       "      <td>0.53</td>\n",
       "      <td>106.8</td>\n",
       "    </tr>\n",
       "    <tr>\n",
       "      <th>4</th>\n",
       "      <td>Ceylon</td>\n",
       "      <td>37.2</td>\n",
       "      <td>81</td>\n",
       "      <td>0.53</td>\n",
       "      <td>71.6</td>\n",
       "    </tr>\n",
       "  </tbody>\n",
       "</table>\n",
       "</div>"
      ],
      "text/plain": [
       "                        Paises  Natalidad  Ingreso  Poblacion  Mortalidad\n",
       "0  Venezuela                         46.4      392       0.40        68.5\n",
       "1                     Mexico         45.7      118       0.61        87.8\n",
       "2                      Ecuador       45.3       44       0.53       115.8\n",
       "3                     Colombia       38.6      158       0.53       106.8\n",
       "4                      Ceylon        37.2       81       0.53        71.6"
      ]
     },
     "execution_count": 55,
     "metadata": {},
     "output_type": "execute_result"
    }
   ],
   "source": [
    "df.head()"
   ]
  },
  {
   "cell_type": "code",
   "execution_count": 56,
   "metadata": {},
   "outputs": [
    {
     "data": {
      "text/html": [
       "<div>\n",
       "<style scoped>\n",
       "    .dataframe tbody tr th:only-of-type {\n",
       "        vertical-align: middle;\n",
       "    }\n",
       "\n",
       "    .dataframe tbody tr th {\n",
       "        vertical-align: top;\n",
       "    }\n",
       "\n",
       "    .dataframe thead th {\n",
       "        text-align: right;\n",
       "    }\n",
       "</style>\n",
       "<table border=\"1\" class=\"dataframe\">\n",
       "  <thead>\n",
       "    <tr style=\"text-align: right;\">\n",
       "      <th></th>\n",
       "      <th>Paises</th>\n",
       "      <th>Natalidad</th>\n",
       "      <th>Ingreso</th>\n",
       "      <th>Poblacion</th>\n",
       "      <th>Mortalidad</th>\n",
       "    </tr>\n",
       "  </thead>\n",
       "  <tbody>\n",
       "    <tr>\n",
       "      <th>25</th>\n",
       "      <td>Belgium</td>\n",
       "      <td>16.7</td>\n",
       "      <td>775</td>\n",
       "      <td>0.10</td>\n",
       "      <td>41.6</td>\n",
       "    </tr>\n",
       "    <tr>\n",
       "      <th>26</th>\n",
       "      <td>West Germany</td>\n",
       "      <td>15.9</td>\n",
       "      <td>619</td>\n",
       "      <td>0.15</td>\n",
       "      <td>44.6</td>\n",
       "    </tr>\n",
       "    <tr>\n",
       "      <th>27</th>\n",
       "      <td>England</td>\n",
       "      <td>15.3</td>\n",
       "      <td>901</td>\n",
       "      <td>0.05</td>\n",
       "      <td>26.1</td>\n",
       "    </tr>\n",
       "    <tr>\n",
       "      <th>28</th>\n",
       "      <td>Sweden</td>\n",
       "      <td>15.0</td>\n",
       "      <td>910</td>\n",
       "      <td>0.24</td>\n",
       "      <td>18.7</td>\n",
       "    </tr>\n",
       "    <tr>\n",
       "      <th>29</th>\n",
       "      <td>Austria</td>\n",
       "      <td>14.8</td>\n",
       "      <td>556</td>\n",
       "      <td>0.22</td>\n",
       "      <td>49.1</td>\n",
       "    </tr>\n",
       "  </tbody>\n",
       "</table>\n",
       "</div>"
      ],
      "text/plain": [
       "          Paises  Natalidad  Ingreso  Poblacion  Mortalidad\n",
       "25       Belgium       16.7      775       0.10        41.6\n",
       "26  West Germany       15.9      619       0.15        44.6\n",
       "27       England       15.3      901       0.05        26.1\n",
       "28        Sweden       15.0      910       0.24        18.7\n",
       "29       Austria       14.8      556       0.22        49.1"
      ]
     },
     "execution_count": 56,
     "metadata": {},
     "output_type": "execute_result"
    }
   ],
   "source": [
    "df.tail()"
   ]
  },
  {
   "cell_type": "code",
   "execution_count": null,
   "metadata": {},
   "outputs": [],
   "source": []
  }
 ],
 "metadata": {
  "kernelspec": {
   "display_name": "Python 2",
   "language": "python",
   "name": "python2"
  },
  "language_info": {
   "codemirror_mode": {
    "name": "ipython",
    "version": 2
   },
   "file_extension": ".py",
   "mimetype": "text/x-python",
   "name": "python",
   "nbconvert_exporter": "python",
   "pygments_lexer": "ipython2",
   "version": "2.7.15"
  }
 },
 "nbformat": 4,
 "nbformat_minor": 2
}
