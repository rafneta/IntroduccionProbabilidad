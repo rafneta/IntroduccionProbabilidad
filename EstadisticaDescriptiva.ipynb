{
 "cells": [
  {
   "cell_type": "markdown",
   "metadata": {},
   "source": [
    "# Estadística descriptiva\n",
    "\n",
    "Existen diferentes herramientas en Python para realizar estadística descriptiva, se ha elegido el módulo pandas, en el siguiente [enlace](http://pandas.pydata.org) se encuentra la página oficial del módulo.\n",
    "\n",
    "El nombre pandas se deriva del término \"panel data\" que en estadística y econometría son datos multidimensionales cuya medición es a lo largo del tiempo. \n",
    "\n",
    "En pandas se tiene dos tipos de datos \n",
    "\n",
    "* **Series**. Similar a una lista (Python)\n",
    "* **Data Frame**. Permite guardar diferentes datos, seria el equivalente a una hoja de calculo\n",
    "\n",
    "Por ejemplo, creamos una serie de datos: \n",
    "\n",
    "```python\n",
    "valores=pd.Series([25,26,25,23,30,29,23,34,40,30,51,46]) \n",
    "```\n",
    "\n",
    "Ahora se crea un diccionario en donde se puede indicar que represenan los datos:\n",
    "\n",
    "```python\n",
    "datos = {'Edades':valores}\n",
    "```\n",
    "\n",
    "Se crea un `dataframe` donde cada elemento del diccionario es una columna, para cada observación se genera una fila, la numeración comienza desde cero.\n",
    "\n",
    "```python\n",
    "datosDF= pd.DataFrame(datos)\n",
    "```\n",
    "\n",
    "Ejecutamos lo anterior, y obtenemos:"
   ]
  },
  {
   "cell_type": "code",
   "execution_count": 1,
   "metadata": {},
   "outputs": [
    {
     "data": {
      "text/html": [
       "<div>\n",
       "<style scoped>\n",
       "    .dataframe tbody tr th:only-of-type {\n",
       "        vertical-align: middle;\n",
       "    }\n",
       "\n",
       "    .dataframe tbody tr th {\n",
       "        vertical-align: top;\n",
       "    }\n",
       "\n",
       "    .dataframe thead th {\n",
       "        text-align: right;\n",
       "    }\n",
       "</style>\n",
       "<table border=\"1\" class=\"dataframe\">\n",
       "  <thead>\n",
       "    <tr style=\"text-align: right;\">\n",
       "      <th></th>\n",
       "      <th>Edades</th>\n",
       "    </tr>\n",
       "  </thead>\n",
       "  <tbody>\n",
       "    <tr>\n",
       "      <th>0</th>\n",
       "      <td>25</td>\n",
       "    </tr>\n",
       "    <tr>\n",
       "      <th>1</th>\n",
       "      <td>26</td>\n",
       "    </tr>\n",
       "    <tr>\n",
       "      <th>2</th>\n",
       "      <td>25</td>\n",
       "    </tr>\n",
       "    <tr>\n",
       "      <th>3</th>\n",
       "      <td>23</td>\n",
       "    </tr>\n",
       "    <tr>\n",
       "      <th>4</th>\n",
       "      <td>30</td>\n",
       "    </tr>\n",
       "    <tr>\n",
       "      <th>5</th>\n",
       "      <td>29</td>\n",
       "    </tr>\n",
       "    <tr>\n",
       "      <th>6</th>\n",
       "      <td>23</td>\n",
       "    </tr>\n",
       "    <tr>\n",
       "      <th>7</th>\n",
       "      <td>34</td>\n",
       "    </tr>\n",
       "    <tr>\n",
       "      <th>8</th>\n",
       "      <td>40</td>\n",
       "    </tr>\n",
       "    <tr>\n",
       "      <th>9</th>\n",
       "      <td>30</td>\n",
       "    </tr>\n",
       "    <tr>\n",
       "      <th>10</th>\n",
       "      <td>51</td>\n",
       "    </tr>\n",
       "    <tr>\n",
       "      <th>11</th>\n",
       "      <td>46</td>\n",
       "    </tr>\n",
       "  </tbody>\n",
       "</table>\n",
       "</div>"
      ],
      "text/plain": [
       "    Edades\n",
       "0       25\n",
       "1       26\n",
       "2       25\n",
       "3       23\n",
       "4       30\n",
       "5       29\n",
       "6       23\n",
       "7       34\n",
       "8       40\n",
       "9       30\n",
       "10      51\n",
       "11      46"
      ]
     },
     "execution_count": 1,
     "metadata": {},
     "output_type": "execute_result"
    }
   ],
   "source": [
    "from __future__ import print_function # utilizar print como funcion \n",
    "import pandas as pd # importamos el modulo\n",
    "import numpy as np\n",
    "import matplotlib.pyplot as plt\n",
    "\n",
    "\n",
    "valores=pd.Series([25,26,25,23,30,29,23,34,40,30,51,46]) \n",
    "datos = {'Edades':valores}\n",
    "datosDF= pd.DataFrame(datos)\n",
    "datosDF"
   ]
  },
  {
   "cell_type": "code",
   "execution_count": 2,
   "metadata": {},
   "outputs": [
    {
     "data": {
      "text/plain": [
       "Edades    12\n",
       "dtype: int64"
      ]
     },
     "execution_count": 2,
     "metadata": {},
     "output_type": "execute_result"
    }
   ],
   "source": [
    "#se puede calcular de manera muy sencilla el numero de datos\n",
    "datosDF.count()"
   ]
  },
  {
   "cell_type": "code",
   "execution_count": 3,
   "metadata": {},
   "outputs": [
    {
     "data": {
      "text/plain": [
       "Edades    31.833333\n",
       "dtype: float64"
      ]
     },
     "execution_count": 3,
     "metadata": {},
     "output_type": "execute_result"
    }
   ],
   "source": [
    "#se puede calcular de manera muy sencilla la media de los datos\n",
    "datosDF.mean()"
   ]
  },
  {
   "cell_type": "code",
   "execution_count": 4,
   "metadata": {},
   "outputs": [
    {
     "data": {
      "text/plain": [
       "Edades    29.5\n",
       "dtype: float64"
      ]
     },
     "execution_count": 4,
     "metadata": {},
     "output_type": "execute_result"
    }
   ],
   "source": [
    "#se puede calcular de manera muy sencilla la mediana de los datos \n",
    "datosDF.median()"
   ]
  },
  {
   "cell_type": "code",
   "execution_count": 5,
   "metadata": {},
   "outputs": [
    {
     "data": {
      "text/html": [
       "<div>\n",
       "<style scoped>\n",
       "    .dataframe tbody tr th:only-of-type {\n",
       "        vertical-align: middle;\n",
       "    }\n",
       "\n",
       "    .dataframe tbody tr th {\n",
       "        vertical-align: top;\n",
       "    }\n",
       "\n",
       "    .dataframe thead th {\n",
       "        text-align: right;\n",
       "    }\n",
       "</style>\n",
       "<table border=\"1\" class=\"dataframe\">\n",
       "  <thead>\n",
       "    <tr style=\"text-align: right;\">\n",
       "      <th></th>\n",
       "      <th>Edades</th>\n",
       "    </tr>\n",
       "  </thead>\n",
       "  <tbody>\n",
       "    <tr>\n",
       "      <th>0</th>\n",
       "      <td>23</td>\n",
       "    </tr>\n",
       "    <tr>\n",
       "      <th>1</th>\n",
       "      <td>25</td>\n",
       "    </tr>\n",
       "    <tr>\n",
       "      <th>2</th>\n",
       "      <td>30</td>\n",
       "    </tr>\n",
       "  </tbody>\n",
       "</table>\n",
       "</div>"
      ],
      "text/plain": [
       "   Edades\n",
       "0      23\n",
       "1      25\n",
       "2      30"
      ]
     },
     "execution_count": 5,
     "metadata": {},
     "output_type": "execute_result"
    }
   ],
   "source": [
    "#se puede calcular de manera muy sencilla la moda de los datos \n",
    "datosDF.mode()"
   ]
  },
  {
   "cell_type": "code",
   "execution_count": 6,
   "metadata": {},
   "outputs": [
    {
     "data": {
      "text/plain": [
       "Edades    85.242424\n",
       "dtype: float64"
      ]
     },
     "execution_count": 6,
     "metadata": {},
     "output_type": "execute_result"
    }
   ],
   "source": [
    "#se puede calcular de manera muy sencilla la varianza de acuerdo a la defiición de pandas\n",
    "datosDF.var()"
   ]
  },
  {
   "cell_type": "code",
   "execution_count": 7,
   "metadata": {},
   "outputs": [
    {
     "data": {
      "text/plain": [
       "Edades    9.232682\n",
       "dtype: float64"
      ]
     },
     "execution_count": 7,
     "metadata": {},
     "output_type": "execute_result"
    }
   ],
   "source": [
    "#se puede calcular de manera muy sencilla la desviación estandar de acuerdo a la defiición de pandas\n",
    "datosDF.std()"
   ]
  },
  {
   "cell_type": "code",
   "execution_count": 8,
   "metadata": {},
   "outputs": [
    {
     "data": {
      "text/plain": [
       "Edades    23\n",
       "dtype: int64"
      ]
     },
     "execution_count": 8,
     "metadata": {},
     "output_type": "execute_result"
    }
   ],
   "source": [
    "#se puede calcular de manera muy sencilla el valor minimo\n",
    "datosDF.min()"
   ]
  },
  {
   "cell_type": "code",
   "execution_count": 9,
   "metadata": {},
   "outputs": [
    {
     "data": {
      "text/plain": [
       "Edades    51\n",
       "dtype: int64"
      ]
     },
     "execution_count": 9,
     "metadata": {},
     "output_type": "execute_result"
    }
   ],
   "source": [
    "#se puede calcular de manera muy sencilla el valor maximo\n",
    "datosDF.max()"
   ]
  },
  {
   "cell_type": "code",
   "execution_count": 10,
   "metadata": {},
   "outputs": [
    {
     "data": {
      "text/plain": [
       "Edades    25.0\n",
       "Name: 0.25, dtype: float64"
      ]
     },
     "execution_count": 10,
     "metadata": {},
     "output_type": "execute_result"
    }
   ],
   "source": [
    "#se puede calcular de manera muy sencilla el cuantil al 25% de acuerdo a la defiición de pandas\n",
    "datosDF.quantile(0.25)"
   ]
  },
  {
   "cell_type": "code",
   "execution_count": 11,
   "metadata": {},
   "outputs": [
    {
     "data": {
      "text/plain": [
       "Edades    29.5\n",
       "Name: 0.5, dtype: float64"
      ]
     },
     "execution_count": 11,
     "metadata": {},
     "output_type": "execute_result"
    }
   ],
   "source": [
    "#se puede calcular de manera muy sencilla el cuantil al 50% de acuerdo a la defiición de pandas\n",
    "datosDF.quantile(0.50)"
   ]
  },
  {
   "cell_type": "code",
   "execution_count": 12,
   "metadata": {},
   "outputs": [
    {
     "data": {
      "text/plain": [
       "Edades    35.5\n",
       "Name: 0.75, dtype: float64"
      ]
     },
     "execution_count": 12,
     "metadata": {},
     "output_type": "execute_result"
    }
   ],
   "source": [
    "#se puede calcular de manera muy sencilla el cuantil al 75% de acuerdo a la defiición de pandas\n",
    "datosDF.quantile(0.75)"
   ]
  },
  {
   "cell_type": "code",
   "execution_count": 13,
   "metadata": {},
   "outputs": [
    {
     "data": {
      "text/plain": [
       "Edades    1.135089\n",
       "dtype: float64"
      ]
     },
     "execution_count": 13,
     "metadata": {},
     "output_type": "execute_result"
    }
   ],
   "source": [
    "#se puede calcular de manera muy sencilla el coeficiente de asimetria de acuerdo a la defiición de pandas\n",
    "datosDF.skew()"
   ]
  },
  {
   "cell_type": "code",
   "execution_count": 14,
   "metadata": {},
   "outputs": [
    {
     "data": {
      "text/plain": [
       "Edades    0.24931\n",
       "dtype: float64"
      ]
     },
     "execution_count": 14,
     "metadata": {},
     "output_type": "execute_result"
    }
   ],
   "source": [
    "#se puede calcular de manera muy sencilla la kurtosis, de acuerdo a la defiición de pandas\n",
    "datosDF.kurt()"
   ]
  },
  {
   "cell_type": "code",
   "execution_count": 15,
   "metadata": {},
   "outputs": [
    {
     "data": {
      "text/html": [
       "<div>\n",
       "<style scoped>\n",
       "    .dataframe tbody tr th:only-of-type {\n",
       "        vertical-align: middle;\n",
       "    }\n",
       "\n",
       "    .dataframe tbody tr th {\n",
       "        vertical-align: top;\n",
       "    }\n",
       "\n",
       "    .dataframe thead th {\n",
       "        text-align: right;\n",
       "    }\n",
       "</style>\n",
       "<table border=\"1\" class=\"dataframe\">\n",
       "  <thead>\n",
       "    <tr style=\"text-align: right;\">\n",
       "      <th></th>\n",
       "      <th>Edades</th>\n",
       "    </tr>\n",
       "  </thead>\n",
       "  <tbody>\n",
       "    <tr>\n",
       "      <th>count</th>\n",
       "      <td>12.000000</td>\n",
       "    </tr>\n",
       "    <tr>\n",
       "      <th>mean</th>\n",
       "      <td>31.833333</td>\n",
       "    </tr>\n",
       "    <tr>\n",
       "      <th>std</th>\n",
       "      <td>9.232682</td>\n",
       "    </tr>\n",
       "    <tr>\n",
       "      <th>min</th>\n",
       "      <td>23.000000</td>\n",
       "    </tr>\n",
       "    <tr>\n",
       "      <th>25%</th>\n",
       "      <td>25.000000</td>\n",
       "    </tr>\n",
       "    <tr>\n",
       "      <th>50%</th>\n",
       "      <td>29.500000</td>\n",
       "    </tr>\n",
       "    <tr>\n",
       "      <th>75%</th>\n",
       "      <td>35.500000</td>\n",
       "    </tr>\n",
       "    <tr>\n",
       "      <th>max</th>\n",
       "      <td>51.000000</td>\n",
       "    </tr>\n",
       "  </tbody>\n",
       "</table>\n",
       "</div>"
      ],
      "text/plain": [
       "          Edades\n",
       "count  12.000000\n",
       "mean   31.833333\n",
       "std     9.232682\n",
       "min    23.000000\n",
       "25%    25.000000\n",
       "50%    29.500000\n",
       "75%    35.500000\n",
       "max    51.000000"
      ]
     },
     "execution_count": 15,
     "metadata": {},
     "output_type": "execute_result"
    }
   ],
   "source": [
    "# tambien se tiene de manera sencilla un resumen de las caracteristicas numericas de los datos \n",
    "datosDF.describe()"
   ]
  },
  {
   "cell_type": "code",
   "execution_count": 16,
   "metadata": {},
   "outputs": [
    {
     "data": {
      "image/png": "[encoded data removed]",
      "text/plain": [
       "<Figure size 720x360 with 1 Axes>"
      ]
     },
     "metadata": {
      "needs_background": "light"
     },
     "output_type": "display_data"
    }
   ],
   "source": [
    "h=datosDF[\"Edades\"]\n",
    "#print(type(h))\n",
    "#print(h)\n",
    "plt.figure(figsize=(10,5))\n",
    "plt.hist(h,bins=4,color='grey')\n",
    "plt.axvline(h.mean(),color='red',label='Media')\n",
    "plt.axvline(h.median(),color='yellow',label='Mediana')\n",
    "plt.axvline(h.mode()[0],color='green',label='Moda')\n",
    "plt.xlabel('Edades')\n",
    "plt.ylabel('Frecuencia')\n",
    "plt.legend()\n",
    "plt.show()"
   ]
  },
  {
   "cell_type": "code",
   "execution_count": 17,
   "metadata": {},
   "outputs": [
    {
     "data": {
      "image/png": "[encoded data removed]",
      "text/plain": [
       "<Figure size 720x360 with 1 Axes>"
      ]
     },
     "metadata": {
      "needs_background": "light"
     },
     "output_type": "display_data"
    }
   ],
   "source": [
    "plt.figure(figsize=(10,5))\n",
    "plt.axhline(h.mean(),color='b',linestyle='dashed')\n",
    "plt.axhline(h.median(),color='g',linestyle='dashed')\n",
    "plt.axhline(h.min(),color='yellow',linestyle='dashed')\n",
    "plt.axhline(h.max(),color='yellow',linestyle='dashed')\n",
    "plt.axhline(h.quantile(0.25,interpolation='midpoint'),color='brown',linestyle='dashed')\n",
    "plt.axhline(h.quantile(0.75,interpolation='midpoint'),color='brown',linestyle='dashed')\n",
    "\n",
    "plt.boxplot(h,showmeans=True)\n",
    "plt.show()"
   ]
  },
  {
   "cell_type": "code",
   "execution_count": 18,
   "metadata": {},
   "outputs": [
    {
     "data": {
      "text/plain": [
       "<matplotlib.axes._subplots.AxesSubplot at 0x116883f90>"
      ]
     },
     "execution_count": 18,
     "metadata": {},
     "output_type": "execute_result"
    },
    {
     "data": {
      "image/png": "[encoded data removed]",
      "text/plain": [
       "<Figure size 720x360 with 1 Axes>"
      ]
     },
     "metadata": {
      "needs_background": "light"
     },
     "output_type": "display_data"
    }
   ],
   "source": [
    "plt.figure(figsize=(10,5))\n",
    "h.plot()"
   ]
  },
  {
   "cell_type": "code",
   "execution_count": null,
   "metadata": {},
   "outputs": [],
   "source": []
  },
  {
   "cell_type": "code",
   "execution_count": 19,
   "metadata": {},
   "outputs": [
    {
     "data": {
      "text/plain": [
       "<matplotlib.axes._subplots.AxesSubplot at 0x116e05d50>"
      ]
     },
     "execution_count": 19,
     "metadata": {},
     "output_type": "execute_result"
    },
    {
     "data": {
      "image/png": "[encoded data removed]",
      "text/plain": [
       "<Figure size 720x360 with 1 Axes>"
      ]
     },
     "metadata": {
      "needs_background": "light"
     },
     "output_type": "display_data"
    }
   ],
   "source": [
    "plt.figure(figsize=(10,5))\n",
    "h.plot('hist',alpha=0.5, bins=4, cumulative=True)"
   ]
  },
  {
   "cell_type": "code",
   "execution_count": 20,
   "metadata": {},
   "outputs": [
    {
     "data": {
      "text/plain": [
       "<matplotlib.axes._subplots.AxesSubplot at 0x116f4fad0>"
      ]
     },
     "execution_count": 20,
     "metadata": {},
     "output_type": "execute_result"
    },
    {
     "data": {
      "image/png": "[encoded data removed]",
      "text/plain": [
       "<Figure size 720x360 with 1 Axes>"
      ]
     },
     "metadata": {
      "needs_background": "light"
     },
     "output_type": "display_data"
    }
   ],
   "source": [
    "plt.figure(figsize=(10,5))\n",
    "\n",
    "#plt.axhline(h.mean(),color='b',linestyle='dashed')\n",
    "#plt.axhline(h.median(),color='g',linestyle='dashed')\n",
    "#plt.axhline(h.min(),color='yellow',linestyle='dashed')\n",
    "#plt.axhline(h.max(),color='yellow',linestyle='dashed')\n",
    "#plt.axhline(h.quantile(0.25,interpolation='midpoint'),color='brown',linestyle='dashed')\n",
    "#plt.axhline(h.quantile(0.75,interpolation='midpoint'),color='brown',linestyle='dashed')\n",
    "\n",
    "h.plot('box',showmeans=True)"
   ]
  },
  {
   "cell_type": "code",
   "execution_count": 21,
   "metadata": {},
   "outputs": [
    {
     "data": {
      "text/html": [
       "<div>\n",
       "<style scoped>\n",
       "    .dataframe tbody tr th:only-of-type {\n",
       "        vertical-align: middle;\n",
       "    }\n",
       "\n",
       "    .dataframe tbody tr th {\n",
       "        vertical-align: top;\n",
       "    }\n",
       "\n",
       "    .dataframe thead th {\n",
       "        text-align: right;\n",
       "    }\n",
       "</style>\n",
       "<table border=\"1\" class=\"dataframe\">\n",
       "  <thead>\n",
       "    <tr style=\"text-align: right;\">\n",
       "      <th>col_0</th>\n",
       "      <th>total</th>\n",
       "    </tr>\n",
       "    <tr>\n",
       "      <th>Edades</th>\n",
       "      <th></th>\n",
       "    </tr>\n",
       "  </thead>\n",
       "  <tbody>\n",
       "    <tr>\n",
       "      <th>23</th>\n",
       "      <td>2</td>\n",
       "    </tr>\n",
       "    <tr>\n",
       "      <th>25</th>\n",
       "      <td>2</td>\n",
       "    </tr>\n",
       "    <tr>\n",
       "      <th>26</th>\n",
       "      <td>1</td>\n",
       "    </tr>\n",
       "    <tr>\n",
       "      <th>29</th>\n",
       "      <td>1</td>\n",
       "    </tr>\n",
       "    <tr>\n",
       "      <th>30</th>\n",
       "      <td>2</td>\n",
       "    </tr>\n",
       "    <tr>\n",
       "      <th>34</th>\n",
       "      <td>1</td>\n",
       "    </tr>\n",
       "    <tr>\n",
       "      <th>40</th>\n",
       "      <td>1</td>\n",
       "    </tr>\n",
       "    <tr>\n",
       "      <th>46</th>\n",
       "      <td>1</td>\n",
       "    </tr>\n",
       "    <tr>\n",
       "      <th>51</th>\n",
       "      <td>1</td>\n",
       "    </tr>\n",
       "  </tbody>\n",
       "</table>\n",
       "</div>"
      ],
      "text/plain": [
       "col_0   total\n",
       "Edades       \n",
       "23          2\n",
       "25          2\n",
       "26          1\n",
       "29          1\n",
       "30          2\n",
       "34          1\n",
       "40          1\n",
       "46          1\n",
       "51          1"
      ]
     },
     "execution_count": 21,
     "metadata": {},
     "output_type": "execute_result"
    }
   ],
   "source": [
    "frecuencias=pd.crosstab(index=datosDF[\"Edades\"],  columns=\"total\") \n",
    "frecuencias"
   ]
  },
  {
   "cell_type": "code",
   "execution_count": 22,
   "metadata": {},
   "outputs": [
    {
     "data": {
      "text/plain": [
       "<matplotlib.axes._subplots.AxesSubplot at 0x1171897d0>"
      ]
     },
     "execution_count": 22,
     "metadata": {},
     "output_type": "execute_result"
    },
    {
     "data": {
      "text/plain": [
       "<Figure size 720x360 with 0 Axes>"
      ]
     },
     "metadata": {},
     "output_type": "display_data"
    },
    {
     "data": {
      "image/png": "[encoded data removed]",
      "text/plain": [
       "<Figure size 432x288 with 1 Axes>"
      ]
     },
     "metadata": {},
     "output_type": "display_data"
    }
   ],
   "source": [
    "plt.figure(figsize=(10,5))\n",
    "frecuencias.plot.pie(y=\"total\",autopct='%.2f',legend = False, fontsize=14)"
   ]
  },
  {
   "cell_type": "code",
   "execution_count": 23,
   "metadata": {},
   "outputs": [
    {
     "data": {
      "text/html": [
       "<div>\n",
       "<style scoped>\n",
       "    .dataframe tbody tr th:only-of-type {\n",
       "        vertical-align: middle;\n",
       "    }\n",
       "\n",
       "    .dataframe tbody tr th {\n",
       "        vertical-align: top;\n",
       "    }\n",
       "\n",
       "    .dataframe thead th {\n",
       "        text-align: right;\n",
       "    }\n",
       "</style>\n",
       "<table border=\"1\" class=\"dataframe\">\n",
       "  <thead>\n",
       "    <tr style=\"text-align: right;\">\n",
       "      <th></th>\n",
       "      <th>masa</th>\n",
       "      <th>radio</th>\n",
       "    </tr>\n",
       "  </thead>\n",
       "  <tbody>\n",
       "    <tr>\n",
       "      <th>Mercurio</th>\n",
       "      <td>0.33</td>\n",
       "      <td>2439.7</td>\n",
       "    </tr>\n",
       "    <tr>\n",
       "      <th>Venus</th>\n",
       "      <td>4.87</td>\n",
       "      <td>6051.8</td>\n",
       "    </tr>\n",
       "    <tr>\n",
       "      <th>Tierra</th>\n",
       "      <td>5.97</td>\n",
       "      <td>6378.1</td>\n",
       "    </tr>\n",
       "  </tbody>\n",
       "</table>\n",
       "</div>"
      ],
      "text/plain": [
       "          masa   radio\n",
       "Mercurio  0.33  2439.7\n",
       "Venus     4.87  6051.8\n",
       "Tierra    5.97  6378.1"
      ]
     },
     "execution_count": 23,
     "metadata": {},
     "output_type": "execute_result"
    }
   ],
   "source": [
    "# Se puede dar nombre a las filas\n",
    "\n",
    "df = pd.DataFrame({'masa': [0.330, 4.87 , 5.97],\n",
    "                    'radio': [2439.7, 6051.8, 6378.1]},\n",
    "                   index=['Mercurio', 'Venus', 'Tierra'])\n",
    "df"
   ]
  },
  {
   "cell_type": "code",
   "execution_count": 24,
   "metadata": {},
   "outputs": [
    {
     "data": {
      "text/html": [
       "<div>\n",
       "<style scoped>\n",
       "    .dataframe tbody tr th:only-of-type {\n",
       "        vertical-align: middle;\n",
       "    }\n",
       "\n",
       "    .dataframe tbody tr th {\n",
       "        vertical-align: top;\n",
       "    }\n",
       "\n",
       "    .dataframe thead th {\n",
       "        text-align: right;\n",
       "    }\n",
       "</style>\n",
       "<table border=\"1\" class=\"dataframe\">\n",
       "  <thead>\n",
       "    <tr style=\"text-align: right;\">\n",
       "      <th></th>\n",
       "      <th>masa</th>\n",
       "      <th>radio</th>\n",
       "    </tr>\n",
       "  </thead>\n",
       "  <tbody>\n",
       "    <tr>\n",
       "      <th>count</th>\n",
       "      <td>3.000000</td>\n",
       "      <td>3.000000</td>\n",
       "    </tr>\n",
       "    <tr>\n",
       "      <th>mean</th>\n",
       "      <td>3.723333</td>\n",
       "      <td>4956.533333</td>\n",
       "    </tr>\n",
       "    <tr>\n",
       "      <th>std</th>\n",
       "      <td>2.989738</td>\n",
       "      <td>2185.739107</td>\n",
       "    </tr>\n",
       "    <tr>\n",
       "      <th>min</th>\n",
       "      <td>0.330000</td>\n",
       "      <td>2439.700000</td>\n",
       "    </tr>\n",
       "    <tr>\n",
       "      <th>25%</th>\n",
       "      <td>2.600000</td>\n",
       "      <td>4245.750000</td>\n",
       "    </tr>\n",
       "    <tr>\n",
       "      <th>50%</th>\n",
       "      <td>4.870000</td>\n",
       "      <td>6051.800000</td>\n",
       "    </tr>\n",
       "    <tr>\n",
       "      <th>75%</th>\n",
       "      <td>5.420000</td>\n",
       "      <td>6214.950000</td>\n",
       "    </tr>\n",
       "    <tr>\n",
       "      <th>max</th>\n",
       "      <td>5.970000</td>\n",
       "      <td>6378.100000</td>\n",
       "    </tr>\n",
       "  </tbody>\n",
       "</table>\n",
       "</div>"
      ],
      "text/plain": [
       "           masa        radio\n",
       "count  3.000000     3.000000\n",
       "mean   3.723333  4956.533333\n",
       "std    2.989738  2185.739107\n",
       "min    0.330000  2439.700000\n",
       "25%    2.600000  4245.750000\n",
       "50%    4.870000  6051.800000\n",
       "75%    5.420000  6214.950000\n",
       "max    5.970000  6378.100000"
      ]
     },
     "execution_count": 24,
     "metadata": {},
     "output_type": "execute_result"
    }
   ],
   "source": [
    "df.describe()"
   ]
  },
  {
   "cell_type": "code",
   "execution_count": 25,
   "metadata": {},
   "outputs": [
    {
     "name": "stdout",
     "output_type": "stream",
     "text": [
      "masa        3.723333\n",
      "radio    4956.533333\n",
      "dtype: float64 \n",
      "\n",
      " masa        4.87\n",
      "radio    6051.80\n",
      "dtype: float64\n"
     ]
    }
   ],
   "source": [
    "print(df.mean(), '\\n\\n', df.median())"
   ]
  },
  {
   "cell_type": "code",
   "execution_count": 26,
   "metadata": {},
   "outputs": [
    {
     "data": {
      "text/plain": [
       "<matplotlib.axes._subplots.AxesSubplot at 0x1172d56d0>"
      ]
     },
     "execution_count": 26,
     "metadata": {},
     "output_type": "execute_result"
    },
    {
     "data": {
      "image/png": "[encoded data removed]",
      "text/plain": [
       "<Figure size 432x288 with 1 Axes>"
      ]
     },
     "metadata": {},
     "output_type": "display_data"
    }
   ],
   "source": [
    "df.plot.pie(y='masa',autopct='%.2f', fontsize=14)"
   ]
  },
  {
   "cell_type": "code",
   "execution_count": 27,
   "metadata": {},
   "outputs": [
    {
     "data": {
      "text/plain": [
       "<matplotlib.axes._subplots.AxesSubplot at 0x117208c10>"
      ]
     },
     "execution_count": 27,
     "metadata": {},
     "output_type": "execute_result"
    },
    {
     "data": {
      "image/png": "[encoded data removed]",
      "text/plain": [
       "<Figure size 432x288 with 1 Axes>"
      ]
     },
     "metadata": {},
     "output_type": "display_data"
    }
   ],
   "source": [
    "df.plot.pie(y='radio',autopct='%.2f', fontsize=14)"
   ]
  },
  {
   "cell_type": "code",
   "execution_count": 28,
   "metadata": {},
   "outputs": [
    {
     "data": {
      "text/plain": [
       "<matplotlib.axes._subplots.AxesSubplot at 0x117362a10>"
      ]
     },
     "execution_count": 28,
     "metadata": {},
     "output_type": "execute_result"
    },
    {
     "data": {
      "image/png": "[encoded data removed]",
      "text/plain": [
       "<Figure size 432x288 with 1 Axes>"
      ]
     },
     "metadata": {
      "needs_background": "light"
     },
     "output_type": "display_data"
    }
   ],
   "source": [
    "df.plot.box()"
   ]
  },
  {
   "cell_type": "code",
   "execution_count": 29,
   "metadata": {},
   "outputs": [
    {
     "data": {
      "text/plain": [
       "<matplotlib.axes._subplots.AxesSubplot at 0x11743fa90>"
      ]
     },
     "execution_count": 29,
     "metadata": {},
     "output_type": "execute_result"
    },
    {
     "data": {
      "image/png": "[encoded data removed]",
      "text/plain": [
       "<Figure size 432x288 with 1 Axes>"
      ]
     },
     "metadata": {
      "needs_background": "light"
     },
     "output_type": "display_data"
    }
   ],
   "source": [
    "df['masa'].plot.box()"
   ]
  },
  {
   "cell_type": "code",
   "execution_count": 30,
   "metadata": {},
   "outputs": [],
   "source": [
    "from scipy import stats # importando scipy.stats\n",
    "from ProgramasProba.Proba import *\n",
    "\n",
    "vcexponencial = stats.expon(scale=1/2.0)\n",
    "Xexponencial = vcexponencial.rvs(size=1000)\n",
    "\n",
    "vcnormal = stats.norm(loc=3, scale=2)\n",
    "Xnormal = vcnormal.rvs(size=1000)\n",
    "\n",
    "vcbinomial = stats.binom(n=10, p=0.5)\n",
    "Xbinomial = vcbinomial.rvs(size=1000)\n",
    "\n",
    "\n",
    "df = pd.DataFrame({'Datos-expo':Xexponencial, 'Datos-norm':Xnormal, 'Datos-binom':Xbinomial})\n"
   ]
  },
  {
   "cell_type": "code",
   "execution_count": 31,
   "metadata": {},
   "outputs": [
    {
     "data": {
      "image/png": "[encoded data removed]",
      "text/plain": [
       "<Figure size 1152x360 with 2 Axes>"
      ]
     },
     "metadata": {
      "needs_background": "light"
     },
     "output_type": "display_data"
    }
   ],
   "source": [
    "fig, (ax1,ax2)=plt.subplots(1,2,figsize=(16,5))\n",
    "x=np.linspace(-1,5,num=200)\n",
    "ax1.plot(x,vcexponencial.pdf(x))\n",
    "ax2.scatter(x=np.linspace(0,999,num=1000), y=df['Datos-expo']) \n",
    "plt.show()\n"
   ]
  },
  {
   "cell_type": "code",
   "execution_count": 32,
   "metadata": {},
   "outputs": [
    {
     "data": {
      "image/png": "[encoded data removed]",
      "text/plain": [
       "<Figure size 1152x360 with 2 Axes>"
      ]
     },
     "metadata": {
      "needs_background": "light"
     },
     "output_type": "display_data"
    }
   ],
   "source": [
    "fig, (ax1,ax2)=plt.subplots(1,2,figsize=(16,5))\n",
    "x=np.linspace(-1,7,num=300)\n",
    "ax1.plot(x,vcnormal.pdf(x))\n",
    "ax2.scatter(x=np.linspace(0,999,num=1000), y=df['Datos-norm']) \n",
    "plt.show()"
   ]
  },
  {
   "cell_type": "code",
   "execution_count": 34,
   "metadata": {},
   "outputs": [
    {
     "data": {
      "image/png": "[encoded data removed]",
      "text/plain": [
       "<Figure size 1152x360 with 2 Axes>"
      ]
     },
     "metadata": {
      "needs_background": "light"
     },
     "output_type": "display_data"
    },
    {
     "data": {
      "image/png": "[encoded data removed]",
      "text/plain": [
       "<Figure size 576x288 with 1 Axes>"
      ]
     },
     "metadata": {
      "needs_background": "light"
     },
     "output_type": "display_data"
    },
    {
     "name": "stdout",
     "output_type": "stream",
     "text": [
      "<class 'matplotlib.axes._subplots.AxesSubplot'>\n",
      "<type 'NoneType'>\n"
     ]
    }
   ],
   "source": [
    "from ProgramasProba.Proba import *\n",
    "    \n",
    "fig, (ax1,ax2)=plt.subplots(1,2,figsize=(16,5))\n",
    "x=np.linspace(0,10,num=11)\n",
    "ax2.scatter(x=np.linspace(0,999,num=1000), y=df['Datos-binom']) \n",
    "ax1=gfpvad(x,vcbinomial.pmf(x),etiquetas=False)\n",
    "print(type(ax2))\n",
    "print(type(ax1))\n",
    "plt.show()"
   ]
  },
  {
   "cell_type": "code",
   "execution_count": null,
   "metadata": {},
   "outputs": [],
   "source": [
    "df.head()"
   ]
  },
  {
   "cell_type": "code",
   "execution_count": null,
   "metadata": {},
   "outputs": [],
   "source": [
    "df.tail()"
   ]
  },
  {
   "cell_type": "code",
   "execution_count": null,
   "metadata": {},
   "outputs": [],
   "source": [
    "df.describe()"
   ]
  },
  {
   "cell_type": "code",
   "execution_count": null,
   "metadata": {},
   "outputs": [],
   "source": [
    "df.plot.box();"
   ]
  },
  {
   "cell_type": "code",
   "execution_count": null,
   "metadata": {},
   "outputs": [],
   "source": [
    "df[\"Datos-expo\"].plot.box()"
   ]
  },
  {
   "cell_type": "code",
   "execution_count": null,
   "metadata": {},
   "outputs": [],
   "source": [
    "df[\"Datos-norm\"].plot.box()"
   ]
  },
  {
   "cell_type": "code",
   "execution_count": null,
   "metadata": {},
   "outputs": [],
   "source": [
    "A=plt.hist(df[\"Datos-expo\"]);\n",
    "A[1]"
   ]
  },
  {
   "cell_type": "code",
   "execution_count": null,
   "metadata": {},
   "outputs": [],
   "source": [
    "df[\"Datos-expo\"].plot.hist(bins=20);"
   ]
  },
  {
   "cell_type": "code",
   "execution_count": null,
   "metadata": {},
   "outputs": [],
   "source": [
    "df[\"Datos-norm\"].plot.hist(bins=50);"
   ]
  },
  {
   "cell_type": "code",
   "execution_count": null,
   "metadata": {},
   "outputs": [],
   "source": [
    "df.hist(color='b', alpha=0.5, bins=50, density=True);"
   ]
  },
  {
   "cell_type": "code",
   "execution_count": null,
   "metadata": {},
   "outputs": [],
   "source": [
    "df.plot.hist(alpha=0.5, bins=50, density=True)"
   ]
  },
  {
   "cell_type": "code",
   "execution_count": null,
   "metadata": {},
   "outputs": [],
   "source": [
    "df.plot.kde()\n",
    "plt.show()"
   ]
  },
  {
   "cell_type": "code",
   "execution_count": null,
   "metadata": {},
   "outputs": [],
   "source": [
    "x=np.linspace(-1,5,num=200)\n",
    "df[\"Datos-expo\"].plot.kde(label=\"Metodo kde\")\n",
    "plt.plot(x,vcexponencial.pdf(x),'r',label=\"Funcion de densidad\")\n",
    "df[\"Datos-expo\"].hist(color='b', alpha=0.5, bins=50, density=True,label=\"histograma\");\n",
    "plt.legend(loc='best')\n",
    "plt.show()"
   ]
  },
  {
   "cell_type": "code",
   "execution_count": null,
   "metadata": {},
   "outputs": [],
   "source": [
    "x=np.linspace(-1,5,num=200)\n",
    "df[\"Datos-norm\"].plot.kde(label=\"Metodo kde\")\n",
    "plt.plot(x,vcnormal.pdf(x),'r',label=\"Funcion de densidad\")\n",
    "df[\"Datos-norm\"].hist(color='b', alpha=0.5, bins=50, density=True,label=\"histograma\");\n",
    "plt.legend(loc='best')\n",
    "plt.show()"
   ]
  },
  {
   "cell_type": "markdown",
   "metadata": {},
   "source": [
    "# Descripciones numericas\n",
    "\n",
    "Se tienen diferentes medidas para entender una disribución, \n",
    "\n",
    "<ul>\n",
    "    <li> <p><strong>Medidas de tendencia central.</strong> Esta medición trata de describir el conjunto entero de datos mediante un valor \"simple\" que representa  \"el centro\" de la distribución, ejemplos de este tipo de mediciones son:</p></li>\n",
    "    \n",
    "   <ol>\n",
    "        <li><p><strong>Media (valor pormedio) </strong></p></li>\n",
    "        <li><p><strong>Mediana</strong></p></li>\n",
    "        <li><p><strong>Moda</strong></p></li>\n",
    "    </ol>\n",
    "    \n",
    "   <li><p><strong>Medidas de dispersión.</strong>Describen la dispersión (propagación, expansión, variabilidad) de los datos alrededor un valor central (Media). Dos dsitribuciones podrían tener las mismas medidas centrales, pero diferente variabilidad, ejemplos de este tipo de mediciones son: </p></li>\n",
    "   \n",
    "   <ol>\n",
    "        <li><p><strong>Rango </strong></p></li>\n",
    "        <li><p><strong>Cuantiles</strong></p></li>\n",
    "        <li><p><strong>Rango inercualtil</strong></p></li>\n",
    "        <li><p><strong>Varianza</strong></p></li>\n",
    "        <li><p><strong>Desviación estandar</strong></p></li>\n",
    "    </ol>\n",
    "    \n",
    "   <li><p><strong>Medidas que describen la forma de una distribución.</strong> Estan mediciones presisamente ayudan a entender la forma de la distribución, ejemplo de estas mediciones son: </p></li>\n",
    "   \n",
    "<ol>\n",
    "        <li><p><strong> Coeficiente de asimetria (Skewness) </strong></p></li>\n",
    "        <li><p><strong> Curtosis (Kurtosis)</strong></p></li>\n",
    " </ol>\n",
    "\n",
    "</ul>\n",
    "\n",
    "\n",
    "\n",
    "### Media\n",
    "$$\\bar{x}=\\dfrac{1}{n}\\sum_{i=1}^n x_i$$\n",
    "\n",
    "### Mediana\n",
    "\n",
    "Es el valor que se encuentra a la mitad del conjunto de datos cuando estos se ordenan de forma ascendente. \n",
    "\n",
    "Para un orden $x_{(1)}\\leq \\ldots\\leq x_{(n)}$, para $n$ par definimos la mediana como \n",
    "\n",
    "$$\\tilde{x}=\\dfrac{x_{(n/2)}+x_{(n/2+1)}}{2}$$\n",
    "\n",
    "para $n$ impar\n",
    "\n",
    "$$\\tilde{x}=x_{(\\frac{n+1}{2})}$$\n",
    "\n",
    "### Moda\n",
    "\n",
    "Es el valor de mayor ocurrencia en el conjunto de datos. Aquí pueden ocurrir distisntos escenarios, por ejemplo que varios datos se repitan la misma cantidad e veces (multimodal) que todos los datos se repitan la misma cantidad de veces (no existe moda), que solo un valor se repita más que todos los restantes (unimodal).\n",
    "\n",
    "\n",
    "### Varianza \n",
    "\n",
    "la varianza es la media de las desviaciones al cuadrado, las desviaciones se refieren a que tanto dista un dato de su valor promedio. Este valor es pequeño si los datos estan cercanos al valor medio, es sencible a los out liers. \n",
    "\n",
    "$$var(x)=\\dfrac{1}{n}\\sum_{i=1}^n (x_i-\\bar{x})^2$$\n",
    "\n",
    "### Desviación estándar \n",
    "\n",
    "Tiene la misma idea de la varianza, pero las mismas unidades de los datos. Lo cual \"tiene mas sentido\" de interpretar respecto a la dispersión. \n",
    "\n",
    "$$de(x)=\\sqrt{\\dfrac{1}{n}\\sum_{i=1}^n (x_i-\\bar{x})^2}$$\n",
    "\n",
    "### Desviación media\n",
    "\n",
    "$$dm(x)=\\dfrac{1}{n}\\sum_{i=1}^n |x_i-\\bar{x}|$$\n",
    "\n",
    "### Rango\n",
    "\n",
    "Es un metodo simple para averiguar bajo que valores se distribuyen todos los datos. \n",
    "\n",
    "Para un orden $x_{(1)}\\leq \\ldots\\leq x_{(n)}$,\n",
    "\n",
    "$$r(x)=x_{(n)}-x_{(1)}$$\n",
    "\n",
    "### Momentos muestrales\n",
    "\n",
    "$$m'_k=\\dfrac{1}{n}\\sum_{i=1}^n x_i^k$$\n",
    "\n",
    "\n",
    "### Momentos muestrales centrales\n",
    "\n",
    "$$m_k=\\dfrac{1}{n}\\sum_{i=1}^n (x_i-\\bar{x})^k$$\n",
    "\n",
    "### Cuantiles\n",
    "\n",
    "Son valores en el rango de los datos que dividen a los datos en distintos porcentajes. \n",
    "\n",
    "Un cuantil al $100p\\%$ es un número $c$ que cumple\n",
    "\n",
    "$$\\dfrac{\\#\\lbrace x_i|x_i\\leq c\\rbrace}{n}\\geq p$$\n",
    "\n",
    "$$\\dfrac{\\#\\lbrace x_i|x_i\\geq c\\rbrace}{n}\\geq 1-p$$\n",
    "\n",
    "cuando hay un intervalo como candidato , elegimos quedarnos con el punto medio.\n",
    "\n",
    "### Coeficiente de asimetría (skewness)\n",
    "\n",
    "Mide que tanto la distribución difiere de la distribución normal\n",
    "\n",
    "\n",
    "$$sk(x)=\\dfrac{1}{s^3}\\left[\\dfrac{1}{n}\\sum_{i=1}^n (x_i-\\bar{x})^3\\right]$$\n",
    "\n",
    "$$sk(x)=\\dfrac{\\dfrac{1}{n}\\sum_{i=1}^n (x_i-\\bar{x})^3}{\\left[\\sqrt{\\dfrac{1}{n}\\sum_{i=1}^n (x_i-\\bar{x})^2}\\right]^3}$$\n",
    "\n",
    "$$sk(x)=\\dfrac{m_3}{m_2^{3/2}}$$\n",
    "\n",
    "- $sk(x)>0$ asímetria positiva (los datos están cargados a la izquierda de la média, la moda esta a la izquierda)\n",
    "- $sk(x)<0$ asímetria negativa (los datos están cargados a la derecha de la media. la moda esta a la derecha)\n",
    "\n",
    "Las medidas de tendecia central pueden ser usadas para detectar el sesgado (skewed) de una distribución, estas mediciones no coinciden si existe asimetria en la distribución.\n",
    "\n",
    "### Curtosis (kurtosis)\n",
    "\n",
    "Es una medida de las colas respecto al centro de la distribución (anchos de la distribución). Una distribución normal estándar tiene una curtosis de valor 3. \n",
    "\n",
    "$$ k(x)=\\dfrac{1}{s^4}\\left[\\dfrac{1}{n}\\sum_{i=1}^n (x_i-\\bar{x})^4\\right] $$\n",
    "\n",
    "$$k(x)=\\dfrac{\\dfrac{1}{n}\\sum_{i=1}^n (x_i-\\bar{x})^4}{\\left[\\dfrac{1}{n}\\sum_{i=1}^n (x_i-\\bar{x})^2\\right]^2}$$\n",
    "\n",
    "$$k(x)=\\dfrac{m_4}{m_2^{2}}$$\n",
    "\n",
    "Recirdamos que una distribución normal estandar tiene $k=3$, se define $k_3(x)=k(x)-3$,\n",
    " \n",
    "\n",
    "- Si $k_3=0$ se tiene una curva mesocúrtica (curva normal)\n",
    "\n",
    "- Si $k_3>0$ se tiene una curva leptocúrtica (decaimiento rápido)\n",
    "\n",
    "- Si $k_3<0$ se tiene una curva platicúrtica (decaimiento lento)\n",
    "\n",
    "## Observaciones\n",
    "\n",
    "Las definiciones en estadística descriptva no son estándar ni en definición ni en notación. Las diferentes definiciones (matemáticas) de un mismo concepto encuentrán su justificación en la teoria de estimación, pero lo importante es que independiente de la definición tienen el mismo proposito, por ejemplo\n",
    "\n",
    "$$\\sigma^2=\\dfrac{1}{n}\\sum_{i=1}^n (x_i-\\bar{x})^2$$\n",
    "$$S^2=\\dfrac{1}{n-1}\\sum_{i=1}^n (x_i-\\bar{x})^2$$\n",
    "\n",
    "son dos definiciones diferentes para calcular la varianza, ambas se interpretan como una medida de dispersión de datos, incluso algunos textos las distinguen indicando quñe fórmula utiliar dependiendo del númro de datos; desde el punto de teoría de estimación (estadística inferencial) ambos números \"sirven\" para calcular la varianza pero $S^2$ es mejor porque esta asociado a un estimador insesgado (lo que sea que signifique eso). \n",
    "\n",
    "Es importante que se tenga esto en cuenta, abría que revisar la implemetación en cada lenguaje (mi sospecha es qeu la implementación en los lenguajes de programación es estándar, pero entre los libros de texto y los lenguajes no, no he tenido tiempo de verificar esto.).\n",
    "\n",
    "Como ejemplo se comparan las deficiones indicadas anteriormente contra las implementadas en el módulo Pandas. "
   ]
  },
  {
   "cell_type": "code",
   "execution_count": null,
   "metadata": {},
   "outputs": [],
   "source": [
    "df=pd.read_excel('Datos1962.xlsx')"
   ]
  },
  {
   "cell_type": "code",
   "execution_count": null,
   "metadata": {},
   "outputs": [],
   "source": [
    "df.head()"
   ]
  },
  {
   "cell_type": "code",
   "execution_count": null,
   "metadata": {},
   "outputs": [],
   "source": [
    "df.tail()"
   ]
  },
  {
   "cell_type": "code",
   "execution_count": null,
   "metadata": {},
   "outputs": [],
   "source": [
    "dfnyc=pd.read_csv('Datos/ny_clima.csv')\n",
    "dfnyc"
   ]
  },
  {
   "cell_type": "code",
   "execution_count": null,
   "metadata": {},
   "outputs": [],
   "source": [
    "dfnyc['Temperature'].max()"
   ]
  },
  {
   "cell_type": "code",
   "execution_count": null,
   "metadata": {},
   "outputs": [],
   "source": [
    "dfnyc['EST'][dfnyc['Events']=='Rain']"
   ]
  },
  {
   "cell_type": "code",
   "execution_count": null,
   "metadata": {},
   "outputs": [],
   "source": [
    "dfnyc.fillna(0,inplace=True)\n",
    "dfnyc['WindSpeedMPH'].mean()"
   ]
  },
  {
   "cell_type": "markdown",
   "metadata": {},
   "source": [
    "## Bibliografía\n",
    "\n",
    "[1] [https://github.com/codebasics/py/tree/master/pandas/1_intro](https://github.com/codebasics/py/tree/master/pandas/1_intro)"
   ]
  },
  {
   "cell_type": "code",
   "execution_count": null,
   "metadata": {},
   "outputs": [],
   "source": [
    "from IPython.core.display import HTML\n",
    "css_file = 'Varios/css/estilo1.css'\n",
    "HTML(open(css_file, \"r\").read())"
   ]
  },
  {
   "cell_type": "code",
   "execution_count": null,
   "metadata": {},
   "outputs": [],
   "source": []
  }
 ],
 "metadata": {
  "kernelspec": {
   "display_name": "Python 2",
   "language": "python",
   "name": "python2"
  },
  "language_info": {
   "codemirror_mode": {
    "name": "ipython",
    "version": 2
   },
   "file_extension": ".py",
   "mimetype": "text/x-python",
   "name": "python",
   "nbconvert_exporter": "python",
   "pygments_lexer": "ipython2",
   "version": "2.7.15"
  }
 },
 "nbformat": 4,
 "nbformat_minor": 2
}
