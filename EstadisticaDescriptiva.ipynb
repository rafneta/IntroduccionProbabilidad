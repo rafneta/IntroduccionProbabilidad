{
 "cells": [
  {
   "cell_type": "markdown",
   "metadata": {},
   "source": [
    "# Estadística descriptiva\n",
    "\n",
    "Existen diferentes herramientas en Python para realizar estadística descriptiva, se ha elegido el módulo pandas, en el siguiente [enlace](http://pandas.pydata.org) se encuentra la página oficial del módulo.\n",
    "\n",
    "El nombre pandas se deriva del término \"panel data\" que en estadística y econometría son datos multidimensionales cuya medición es a lo largo del tiempo. \n",
    "\n",
    "En pandas se tiene dos tipos de datos \n",
    "\n",
    "* **Series**. Similar a una lista (Python)\n",
    "* **Data Frame**. Permite guardar diferentes datos, seria el equivalente a una hoja de calculo\n",
    "\n",
    "Por ejemplo, creamos una serie de datos: \n",
    "\n",
    "```python\n",
    "valores=pd.Series([25,26,25,23,30,29,23,34,40,30,51,46]) \n",
    "```\n",
    "\n",
    "Ahora se crea un diccionario en donde se puede indicar que represenan los datos:\n",
    "\n",
    "```python\n",
    "datos = {'Edades':valores}\n",
    "```\n",
    "\n",
    "Se crea un `dataframe` donde cada elemento del diccionario es una columna, para cada observación se genera una fila, la numeración comienza desde cero.\n",
    "\n",
    "```python\n",
    "datosDF= pd.DataFrame(datos)\n",
    "```\n",
    "\n",
    "Ejecutamos lo anterior, y obtenemos:"
   ]
  },
  {
   "cell_type": "code",
   "execution_count": 1,
   "metadata": {},
   "outputs": [
    {
     "data": {
      "text/html": [
       "<div>\n",
       "<style scoped>\n",
       "    .dataframe tbody tr th:only-of-type {\n",
       "        vertical-align: middle;\n",
       "    }\n",
       "\n",
       "    .dataframe tbody tr th {\n",
       "        vertical-align: top;\n",
       "    }\n",
       "\n",
       "    .dataframe thead th {\n",
       "        text-align: right;\n",
       "    }\n",
       "</style>\n",
       "<table border=\"1\" class=\"dataframe\">\n",
       "  <thead>\n",
       "    <tr style=\"text-align: right;\">\n",
       "      <th></th>\n",
       "      <th>Edades</th>\n",
       "    </tr>\n",
       "  </thead>\n",
       "  <tbody>\n",
       "    <tr>\n",
       "      <th>0</th>\n",
       "      <td>25</td>\n",
       "    </tr>\n",
       "    <tr>\n",
       "      <th>1</th>\n",
       "      <td>26</td>\n",
       "    </tr>\n",
       "    <tr>\n",
       "      <th>2</th>\n",
       "      <td>25</td>\n",
       "    </tr>\n",
       "    <tr>\n",
       "      <th>3</th>\n",
       "      <td>23</td>\n",
       "    </tr>\n",
       "    <tr>\n",
       "      <th>4</th>\n",
       "      <td>30</td>\n",
       "    </tr>\n",
       "    <tr>\n",
       "      <th>5</th>\n",
       "      <td>29</td>\n",
       "    </tr>\n",
       "    <tr>\n",
       "      <th>6</th>\n",
       "      <td>23</td>\n",
       "    </tr>\n",
       "    <tr>\n",
       "      <th>7</th>\n",
       "      <td>34</td>\n",
       "    </tr>\n",
       "    <tr>\n",
       "      <th>8</th>\n",
       "      <td>40</td>\n",
       "    </tr>\n",
       "    <tr>\n",
       "      <th>9</th>\n",
       "      <td>30</td>\n",
       "    </tr>\n",
       "    <tr>\n",
       "      <th>10</th>\n",
       "      <td>51</td>\n",
       "    </tr>\n",
       "    <tr>\n",
       "      <th>11</th>\n",
       "      <td>46</td>\n",
       "    </tr>\n",
       "  </tbody>\n",
       "</table>\n",
       "</div>"
      ],
      "text/plain": [
       "    Edades\n",
       "0       25\n",
       "1       26\n",
       "2       25\n",
       "3       23\n",
       "4       30\n",
       "5       29\n",
       "6       23\n",
       "7       34\n",
       "8       40\n",
       "9       30\n",
       "10      51\n",
       "11      46"
      ]
     },
     "execution_count": 1,
     "metadata": {},
     "output_type": "execute_result"
    }
   ],
   "source": [
    "import pandas as pd # importamos el modulo\n",
    "import numpy as np\n",
    "import matplotlib.pyplot as plt\n",
    "from __future__ import print_function # utilizar print como funcion \n",
    "\n",
    "valores=pd.Series([25,26,25,23,30,29,23,34,40,30,51,46]) \n",
    "datos = {'Edades':valores}\n",
    "datosDF= pd.DataFrame(datos)\n",
    "datosDF"
   ]
  },
  {
   "cell_type": "code",
   "execution_count": 2,
   "metadata": {},
   "outputs": [
    {
     "data": {
      "text/plain": [
       "Edades    12\n",
       "dtype: int64"
      ]
     },
     "execution_count": 2,
     "metadata": {},
     "output_type": "execute_result"
    }
   ],
   "source": [
    "#se puede calcular de manera muy sencilla el numero de datos\n",
    "datosDF.count()"
   ]
  },
  {
   "cell_type": "code",
   "execution_count": 3,
   "metadata": {},
   "outputs": [
    {
     "data": {
      "text/plain": [
       "Edades    31.833333\n",
       "dtype: float64"
      ]
     },
     "execution_count": 3,
     "metadata": {},
     "output_type": "execute_result"
    }
   ],
   "source": [
    "#se puede calcular de manera muy sencilla la media de los datos\n",
    "datosDF.mean()"
   ]
  },
  {
   "cell_type": "code",
   "execution_count": 4,
   "metadata": {},
   "outputs": [
    {
     "data": {
      "text/plain": [
       "Edades    29.5\n",
       "dtype: float64"
      ]
     },
     "execution_count": 4,
     "metadata": {},
     "output_type": "execute_result"
    }
   ],
   "source": [
    "#se puede calcular de manera muy sencilla la mediana de los datos \n",
    "datosDF.median()"
   ]
  },
  {
   "cell_type": "code",
   "execution_count": 5,
   "metadata": {},
   "outputs": [
    {
     "data": {
      "text/html": [
       "<div>\n",
       "<style scoped>\n",
       "    .dataframe tbody tr th:only-of-type {\n",
       "        vertical-align: middle;\n",
       "    }\n",
       "\n",
       "    .dataframe tbody tr th {\n",
       "        vertical-align: top;\n",
       "    }\n",
       "\n",
       "    .dataframe thead th {\n",
       "        text-align: right;\n",
       "    }\n",
       "</style>\n",
       "<table border=\"1\" class=\"dataframe\">\n",
       "  <thead>\n",
       "    <tr style=\"text-align: right;\">\n",
       "      <th></th>\n",
       "      <th>Edades</th>\n",
       "    </tr>\n",
       "  </thead>\n",
       "  <tbody>\n",
       "    <tr>\n",
       "      <th>0</th>\n",
       "      <td>23</td>\n",
       "    </tr>\n",
       "    <tr>\n",
       "      <th>1</th>\n",
       "      <td>25</td>\n",
       "    </tr>\n",
       "    <tr>\n",
       "      <th>2</th>\n",
       "      <td>30</td>\n",
       "    </tr>\n",
       "  </tbody>\n",
       "</table>\n",
       "</div>"
      ],
      "text/plain": [
       "   Edades\n",
       "0      23\n",
       "1      25\n",
       "2      30"
      ]
     },
     "execution_count": 5,
     "metadata": {},
     "output_type": "execute_result"
    }
   ],
   "source": [
    "#se puede calcular de manera muy sencilla la moda de los datos \n",
    "datosDF.mode()"
   ]
  },
  {
   "cell_type": "code",
   "execution_count": 6,
   "metadata": {},
   "outputs": [
    {
     "data": {
      "text/plain": [
       "Edades    85.242424\n",
       "dtype: float64"
      ]
     },
     "execution_count": 6,
     "metadata": {},
     "output_type": "execute_result"
    }
   ],
   "source": [
    "#se puede calcular de manera muy sencilla la varianza de acuerdo a la defiición de pandas\n",
    "datosDF.var()"
   ]
  },
  {
   "cell_type": "code",
   "execution_count": 7,
   "metadata": {},
   "outputs": [
    {
     "data": {
      "text/plain": [
       "Edades    9.232682\n",
       "dtype: float64"
      ]
     },
     "execution_count": 7,
     "metadata": {},
     "output_type": "execute_result"
    }
   ],
   "source": [
    "#se puede calcular de manera muy sencilla la desviación estandar de acuerdo a la defiición de pandas\n",
    "datosDF.std()"
   ]
  },
  {
   "cell_type": "code",
   "execution_count": 8,
   "metadata": {},
   "outputs": [
    {
     "data": {
      "text/plain": [
       "Edades    23\n",
       "dtype: int64"
      ]
     },
     "execution_count": 8,
     "metadata": {},
     "output_type": "execute_result"
    }
   ],
   "source": [
    "#se puede calcular de manera muy sencilla el valor minimo\n",
    "datosDF.min()"
   ]
  },
  {
   "cell_type": "code",
   "execution_count": 9,
   "metadata": {},
   "outputs": [
    {
     "data": {
      "text/plain": [
       "Edades    51\n",
       "dtype: int64"
      ]
     },
     "execution_count": 9,
     "metadata": {},
     "output_type": "execute_result"
    }
   ],
   "source": [
    "#se puede calcular de manera muy sencilla el valor maximo\n",
    "datosDF.max()"
   ]
  },
  {
   "cell_type": "code",
   "execution_count": 10,
   "metadata": {},
   "outputs": [
    {
     "data": {
      "text/plain": [
       "Edades    25.0\n",
       "Name: 0.25, dtype: float64"
      ]
     },
     "execution_count": 10,
     "metadata": {},
     "output_type": "execute_result"
    }
   ],
   "source": [
    "#se puede calcular de manera muy sencilla el cuantil al 25% de acuerdo a la defiición de pandas\n",
    "datosDF.quantile(0.25)"
   ]
  },
  {
   "cell_type": "code",
   "execution_count": 11,
   "metadata": {},
   "outputs": [
    {
     "data": {
      "text/plain": [
       "Edades    29.5\n",
       "Name: 0.5, dtype: float64"
      ]
     },
     "execution_count": 11,
     "metadata": {},
     "output_type": "execute_result"
    }
   ],
   "source": [
    "#se puede calcular de manera muy sencilla el cuantil al 50% de acuerdo a la defiición de pandas\n",
    "datosDF.quantile(0.50)"
   ]
  },
  {
   "cell_type": "code",
   "execution_count": 12,
   "metadata": {},
   "outputs": [
    {
     "data": {
      "text/plain": [
       "Edades    35.5\n",
       "Name: 0.75, dtype: float64"
      ]
     },
     "execution_count": 12,
     "metadata": {},
     "output_type": "execute_result"
    }
   ],
   "source": [
    "#se puede calcular de manera muy sencilla el cuantil al 75% de acuerdo a la defiición de pandas\n",
    "datosDF.quantile(0.75)"
   ]
  },
  {
   "cell_type": "code",
   "execution_count": 13,
   "metadata": {},
   "outputs": [
    {
     "data": {
      "text/plain": [
       "Edades    1.135089\n",
       "dtype: float64"
      ]
     },
     "execution_count": 13,
     "metadata": {},
     "output_type": "execute_result"
    }
   ],
   "source": [
    "#se puede calcular de manera muy sencilla el coeficiente de asimetria de acuerdo a la defiición de pandas\n",
    "datosDF.skew()"
   ]
  },
  {
   "cell_type": "code",
   "execution_count": 14,
   "metadata": {},
   "outputs": [
    {
     "data": {
      "text/plain": [
       "Edades    0.24931\n",
       "dtype: float64"
      ]
     },
     "execution_count": 14,
     "metadata": {},
     "output_type": "execute_result"
    }
   ],
   "source": [
    "#se puede calcular de manera muy sencilla la kurtosis, de acuerdo a la defiición de pandas\n",
    "datosDF.kurt()"
   ]
  },
  {
   "cell_type": "code",
   "execution_count": 15,
   "metadata": {},
   "outputs": [
    {
     "data": {
      "text/html": [
       "<div>\n",
       "<style scoped>\n",
       "    .dataframe tbody tr th:only-of-type {\n",
       "        vertical-align: middle;\n",
       "    }\n",
       "\n",
       "    .dataframe tbody tr th {\n",
       "        vertical-align: top;\n",
       "    }\n",
       "\n",
       "    .dataframe thead th {\n",
       "        text-align: right;\n",
       "    }\n",
       "</style>\n",
       "<table border=\"1\" class=\"dataframe\">\n",
       "  <thead>\n",
       "    <tr style=\"text-align: right;\">\n",
       "      <th></th>\n",
       "      <th>Edades</th>\n",
       "    </tr>\n",
       "  </thead>\n",
       "  <tbody>\n",
       "    <tr>\n",
       "      <th>count</th>\n",
       "      <td>12.000000</td>\n",
       "    </tr>\n",
       "    <tr>\n",
       "      <th>mean</th>\n",
       "      <td>31.833333</td>\n",
       "    </tr>\n",
       "    <tr>\n",
       "      <th>std</th>\n",
       "      <td>9.232682</td>\n",
       "    </tr>\n",
       "    <tr>\n",
       "      <th>min</th>\n",
       "      <td>23.000000</td>\n",
       "    </tr>\n",
       "    <tr>\n",
       "      <th>25%</th>\n",
       "      <td>25.000000</td>\n",
       "    </tr>\n",
       "    <tr>\n",
       "      <th>50%</th>\n",
       "      <td>29.500000</td>\n",
       "    </tr>\n",
       "    <tr>\n",
       "      <th>75%</th>\n",
       "      <td>35.500000</td>\n",
       "    </tr>\n",
       "    <tr>\n",
       "      <th>max</th>\n",
       "      <td>51.000000</td>\n",
       "    </tr>\n",
       "  </tbody>\n",
       "</table>\n",
       "</div>"
      ],
      "text/plain": [
       "          Edades\n",
       "count  12.000000\n",
       "mean   31.833333\n",
       "std     9.232682\n",
       "min    23.000000\n",
       "25%    25.000000\n",
       "50%    29.500000\n",
       "75%    35.500000\n",
       "max    51.000000"
      ]
     },
     "execution_count": 15,
     "metadata": {},
     "output_type": "execute_result"
    }
   ],
   "source": [
    "# tambien se tiene de manera sencilla un resumen de las caracteristicas numericas de los datos \n",
    "datosDF.describe()"
   ]
  },
  {
   "cell_type": "code",
   "execution_count": 16,
   "metadata": {},
   "outputs": [
    {
     "data": {
      "image/png": "[encoded data removed]",
      "text/plain": [
       "<Figure size 720x360 with 1 Axes>"
      ]
     },
     "metadata": {},
     "output_type": "display_data"
    }
   ],
   "source": [
    "h=datosDF[\"Edades\"]\n",
    "#print(type(h))\n",
    "#print(h)\n",
    "plt.figure(figsize=(10,5))\n",
    "plt.hist(h,bins=4,color='grey')\n",
    "plt.axvline(h.mean(),color='red',label='Media')\n",
    "plt.axvline(h.median(),color='yellow',label='Mediana')\n",
    "plt.axvline(h.mode()[0],color='green',label='Moda')\n",
    "plt.xlabel('Edades')\n",
    "plt.ylabel('Frecuencia')\n",
    "plt.legend()\n",
    "plt.show()"
   ]
  },
  {
   "cell_type": "code",
   "execution_count": 17,
   "metadata": {},
   "outputs": [
    {
     "data": {
      "image/png": "[encoded data removed]",
      "text/plain": [
       "<Figure size 720x360 with 1 Axes>"
      ]
     },
     "metadata": {},
     "output_type": "display_data"
    }
   ],
   "source": [
    "plt.figure(figsize=(10,5))\n",
    "plt.axhline(h.mean(),color='b',linestyle='dashed')\n",
    "plt.axhline(h.median(),color='g',linestyle='dashed')\n",
    "plt.axhline(h.min(),color='yellow',linestyle='dashed')\n",
    "plt.axhline(h.max(),color='yellow',linestyle='dashed')\n",
    "plt.axhline(h.quantile(0.25,interpolation='midpoint'),color='brown',linestyle='dashed')\n",
    "plt.axhline(h.quantile(0.75,interpolation='midpoint'),color='brown',linestyle='dashed')\n",
    "\n",
    "plt.boxplot(h,showmeans=True)\n",
    "plt.show()"
   ]
  },
  {
   "cell_type": "code",
   "execution_count": 18,
   "metadata": {},
   "outputs": [
    {
     "data": {
      "text/plain": [
       "<matplotlib.axes._subplots.AxesSubplot at 0x11230a810>"
      ]
     },
     "execution_count": 18,
     "metadata": {},
     "output_type": "execute_result"
    },
    {
     "data": {
      "image/png": "[encoded data removed]",
      "text/plain": [
       "<Figure size 720x360 with 1 Axes>"
      ]
     },
     "metadata": {},
     "output_type": "display_data"
    }
   ],
   "source": [
    "plt.figure(figsize=(10,5))\n",
    "h.plot()"
   ]
  },
  {
   "cell_type": "code",
   "execution_count": null,
   "metadata": {},
   "outputs": [],
   "source": []
  },
  {
   "cell_type": "code",
   "execution_count": 19,
   "metadata": {},
   "outputs": [
    {
     "data": {
      "text/plain": [
       "<matplotlib.axes._subplots.AxesSubplot at 0x11230a890>"
      ]
     },
     "execution_count": 19,
     "metadata": {},
     "output_type": "execute_result"
    },
    {
     "data": {
      "image/png": "[encoded data removed]",
      "text/plain": [
       "<Figure size 720x360 with 1 Axes>"
      ]
     },
     "metadata": {},
     "output_type": "display_data"
    }
   ],
   "source": [
    "plt.figure(figsize=(10,5))\n",
    "h.plot('hist',alpha=0.5, bins=4, cumulative=True)"
   ]
  },
  {
   "cell_type": "code",
   "execution_count": 20,
   "metadata": {},
   "outputs": [
    {
     "data": {
      "text/plain": [
       "<matplotlib.axes._subplots.AxesSubplot at 0x11a193ad0>"
      ]
     },
     "execution_count": 20,
     "metadata": {},
     "output_type": "execute_result"
    },
    {
     "data": {
      "image/png": "[encoded data removed]",
      "text/plain": [
       "<Figure size 720x360 with 1 Axes>"
      ]
     },
     "metadata": {},
     "output_type": "display_data"
    }
   ],
   "source": [
    "plt.figure(figsize=(10,5))\n",
    "\n",
    "#plt.axhline(h.mean(),color='b',linestyle='dashed')\n",
    "#plt.axhline(h.median(),color='g',linestyle='dashed')\n",
    "#plt.axhline(h.min(),color='yellow',linestyle='dashed')\n",
    "#plt.axhline(h.max(),color='yellow',linestyle='dashed')\n",
    "#plt.axhline(h.quantile(0.25,interpolation='midpoint'),color='brown',linestyle='dashed')\n",
    "#plt.axhline(h.quantile(0.75,interpolation='midpoint'),color='brown',linestyle='dashed')\n",
    "\n",
    "h.plot('box',showmeans=True)"
   ]
  },
  {
   "cell_type": "code",
   "execution_count": 21,
   "metadata": {},
   "outputs": [
    {
     "data": {
      "text/html": [
       "<div>\n",
       "<style scoped>\n",
       "    .dataframe tbody tr th:only-of-type {\n",
       "        vertical-align: middle;\n",
       "    }\n",
       "\n",
       "    .dataframe tbody tr th {\n",
       "        vertical-align: top;\n",
       "    }\n",
       "\n",
       "    .dataframe thead th {\n",
       "        text-align: right;\n",
       "    }\n",
       "</style>\n",
       "<table border=\"1\" class=\"dataframe\">\n",
       "  <thead>\n",
       "    <tr style=\"text-align: right;\">\n",
       "      <th>col_0</th>\n",
       "      <th>total</th>\n",
       "    </tr>\n",
       "    <tr>\n",
       "      <th>Edades</th>\n",
       "      <th></th>\n",
       "    </tr>\n",
       "  </thead>\n",
       "  <tbody>\n",
       "    <tr>\n",
       "      <th>23</th>\n",
       "      <td>2</td>\n",
       "    </tr>\n",
       "    <tr>\n",
       "      <th>25</th>\n",
       "      <td>2</td>\n",
       "    </tr>\n",
       "    <tr>\n",
       "      <th>26</th>\n",
       "      <td>1</td>\n",
       "    </tr>\n",
       "    <tr>\n",
       "      <th>29</th>\n",
       "      <td>1</td>\n",
       "    </tr>\n",
       "    <tr>\n",
       "      <th>30</th>\n",
       "      <td>2</td>\n",
       "    </tr>\n",
       "    <tr>\n",
       "      <th>34</th>\n",
       "      <td>1</td>\n",
       "    </tr>\n",
       "    <tr>\n",
       "      <th>40</th>\n",
       "      <td>1</td>\n",
       "    </tr>\n",
       "    <tr>\n",
       "      <th>46</th>\n",
       "      <td>1</td>\n",
       "    </tr>\n",
       "    <tr>\n",
       "      <th>51</th>\n",
       "      <td>1</td>\n",
       "    </tr>\n",
       "  </tbody>\n",
       "</table>\n",
       "</div>"
      ],
      "text/plain": [
       "col_0   total\n",
       "Edades       \n",
       "23          2\n",
       "25          2\n",
       "26          1\n",
       "29          1\n",
       "30          2\n",
       "34          1\n",
       "40          1\n",
       "46          1\n",
       "51          1"
      ]
     },
     "execution_count": 21,
     "metadata": {},
     "output_type": "execute_result"
    }
   ],
   "source": [
    "frecuencias=pd.crosstab(index=datosDF[\"Edades\"],  columns=\"total\") \n",
    "frecuencias"
   ]
  },
  {
   "cell_type": "code",
   "execution_count": 22,
   "metadata": {},
   "outputs": [
    {
     "data": {
      "text/plain": [
       "<matplotlib.axes._subplots.AxesSubplot at 0x11a2f1650>"
      ]
     },
     "execution_count": 22,
     "metadata": {},
     "output_type": "execute_result"
    },
    {
     "data": {
      "text/plain": [
       "<Figure size 720x360 with 0 Axes>"
      ]
     },
     "metadata": {},
     "output_type": "display_data"
    },
    {
     "data": {
      "image/png": "[encoded data removed]",
      "text/plain": [
       "<Figure size 432x288 with 1 Axes>"
      ]
     },
     "metadata": {},
     "output_type": "display_data"
    }
   ],
   "source": [
    "plt.figure(figsize=(10,5))\n",
    "frecuencias.plot.pie(y=\"total\",autopct='%.2f',legend = False, fontsize=14)"
   ]
  },
  {
   "cell_type": "code",
   "execution_count": 23,
   "metadata": {},
   "outputs": [
    {
     "data": {
      "text/html": [
       "<div>\n",
       "<style scoped>\n",
       "    .dataframe tbody tr th:only-of-type {\n",
       "        vertical-align: middle;\n",
       "    }\n",
       "\n",
       "    .dataframe tbody tr th {\n",
       "        vertical-align: top;\n",
       "    }\n",
       "\n",
       "    .dataframe thead th {\n",
       "        text-align: right;\n",
       "    }\n",
       "</style>\n",
       "<table border=\"1\" class=\"dataframe\">\n",
       "  <thead>\n",
       "    <tr style=\"text-align: right;\">\n",
       "      <th></th>\n",
       "      <th>masa</th>\n",
       "      <th>radio</th>\n",
       "    </tr>\n",
       "  </thead>\n",
       "  <tbody>\n",
       "    <tr>\n",
       "      <th>Mercurio</th>\n",
       "      <td>0.33</td>\n",
       "      <td>2439.7</td>\n",
       "    </tr>\n",
       "    <tr>\n",
       "      <th>Venus</th>\n",
       "      <td>4.87</td>\n",
       "      <td>6051.8</td>\n",
       "    </tr>\n",
       "    <tr>\n",
       "      <th>Tierra</th>\n",
       "      <td>5.97</td>\n",
       "      <td>6378.1</td>\n",
       "    </tr>\n",
       "  </tbody>\n",
       "</table>\n",
       "</div>"
      ],
      "text/plain": [
       "          masa   radio\n",
       "Mercurio  0.33  2439.7\n",
       "Venus     4.87  6051.8\n",
       "Tierra    5.97  6378.1"
      ]
     },
     "execution_count": 23,
     "metadata": {},
     "output_type": "execute_result"
    }
   ],
   "source": [
    "# Se puede dar nombre a las filas\n",
    "\n",
    "df = pd.DataFrame({'masa': [0.330, 4.87 , 5.97],\n",
    "                    'radio': [2439.7, 6051.8, 6378.1]},\n",
    "                   index=['Mercurio', 'Venus', 'Tierra'])\n",
    "df"
   ]
  },
  {
   "cell_type": "code",
   "execution_count": 24,
   "metadata": {},
   "outputs": [
    {
     "data": {
      "text/html": [
       "<div>\n",
       "<style scoped>\n",
       "    .dataframe tbody tr th:only-of-type {\n",
       "        vertical-align: middle;\n",
       "    }\n",
       "\n",
       "    .dataframe tbody tr th {\n",
       "        vertical-align: top;\n",
       "    }\n",
       "\n",
       "    .dataframe thead th {\n",
       "        text-align: right;\n",
       "    }\n",
       "</style>\n",
       "<table border=\"1\" class=\"dataframe\">\n",
       "  <thead>\n",
       "    <tr style=\"text-align: right;\">\n",
       "      <th></th>\n",
       "      <th>masa</th>\n",
       "      <th>radio</th>\n",
       "    </tr>\n",
       "  </thead>\n",
       "  <tbody>\n",
       "    <tr>\n",
       "      <th>count</th>\n",
       "      <td>3.000000</td>\n",
       "      <td>3.000000</td>\n",
       "    </tr>\n",
       "    <tr>\n",
       "      <th>mean</th>\n",
       "      <td>3.723333</td>\n",
       "      <td>4956.533333</td>\n",
       "    </tr>\n",
       "    <tr>\n",
       "      <th>std</th>\n",
       "      <td>2.989738</td>\n",
       "      <td>2185.739107</td>\n",
       "    </tr>\n",
       "    <tr>\n",
       "      <th>min</th>\n",
       "      <td>0.330000</td>\n",
       "      <td>2439.700000</td>\n",
       "    </tr>\n",
       "    <tr>\n",
       "      <th>25%</th>\n",
       "      <td>2.600000</td>\n",
       "      <td>4245.750000</td>\n",
       "    </tr>\n",
       "    <tr>\n",
       "      <th>50%</th>\n",
       "      <td>4.870000</td>\n",
       "      <td>6051.800000</td>\n",
       "    </tr>\n",
       "    <tr>\n",
       "      <th>75%</th>\n",
       "      <td>5.420000</td>\n",
       "      <td>6214.950000</td>\n",
       "    </tr>\n",
       "    <tr>\n",
       "      <th>max</th>\n",
       "      <td>5.970000</td>\n",
       "      <td>6378.100000</td>\n",
       "    </tr>\n",
       "  </tbody>\n",
       "</table>\n",
       "</div>"
      ],
      "text/plain": [
       "           masa        radio\n",
       "count  3.000000     3.000000\n",
       "mean   3.723333  4956.533333\n",
       "std    2.989738  2185.739107\n",
       "min    0.330000  2439.700000\n",
       "25%    2.600000  4245.750000\n",
       "50%    4.870000  6051.800000\n",
       "75%    5.420000  6214.950000\n",
       "max    5.970000  6378.100000"
      ]
     },
     "execution_count": 24,
     "metadata": {},
     "output_type": "execute_result"
    }
   ],
   "source": [
    "df.describe()"
   ]
  },
  {
   "cell_type": "code",
   "execution_count": 25,
   "metadata": {},
   "outputs": [
    {
     "name": "stdout",
     "output_type": "stream",
     "text": [
      "masa        3.723333\n",
      "radio    4956.533333\n",
      "dtype: float64 \n",
      "\n",
      " masa        4.87\n",
      "radio    6051.80\n",
      "dtype: float64\n"
     ]
    }
   ],
   "source": [
    "print(df.mean(), '\\n\\n', df.median())"
   ]
  },
  {
   "cell_type": "code",
   "execution_count": 26,
   "metadata": {},
   "outputs": [
    {
     "data": {
      "text/plain": [
       "<matplotlib.axes._subplots.AxesSubplot at 0x11a43f450>"
      ]
     },
     "execution_count": 26,
     "metadata": {},
     "output_type": "execute_result"
    },
    {
     "data": {
      "image/png": "[encoded data removed]",
      "text/plain": [
       "<Figure size 432x288 with 1 Axes>"
      ]
     },
     "metadata": {},
     "output_type": "display_data"
    }
   ],
   "source": [
    "df.plot.pie(y='masa',autopct='%.2f', fontsize=14)"
   ]
  },
  {
   "cell_type": "code",
   "execution_count": 27,
   "metadata": {},
   "outputs": [
    {
     "data": {
      "text/plain": [
       "<matplotlib.axes._subplots.AxesSubplot at 0x11a484d10>"
      ]
     },
     "execution_count": 27,
     "metadata": {},
     "output_type": "execute_result"
    },
    {
     "data": {
      "image/png": "[encoded data removed]",
      "text/plain": [
       "<Figure size 432x288 with 1 Axes>"
      ]
     },
     "metadata": {},
     "output_type": "display_data"
    }
   ],
   "source": [
    "df.plot.pie(y='radio',autopct='%.2f', fontsize=14)"
   ]
  },
  {
   "cell_type": "code",
   "execution_count": 28,
   "metadata": {},
   "outputs": [
    {
     "data": {
      "text/plain": [
       "<matplotlib.axes._subplots.AxesSubplot at 0x11a617810>"
      ]
     },
     "execution_count": 28,
     "metadata": {},
     "output_type": "execute_result"
    },
    {
     "data": {
      "image/png": "[encoded data removed]",
      "text/plain": [
       "<Figure size 432x288 with 1 Axes>"
      ]
     },
     "metadata": {},
     "output_type": "display_data"
    }
   ],
   "source": [
    "df.plot.box()"
   ]
  },
  {
   "cell_type": "code",
   "execution_count": 29,
   "metadata": {},
   "outputs": [
    {
     "data": {
      "text/plain": [
       "<matplotlib.axes._subplots.AxesSubplot at 0x11a743c90>"
      ]
     },
     "execution_count": 29,
     "metadata": {},
     "output_type": "execute_result"
    },
    {
     "data": {
      "image/png": "[encoded data removed]",
      "text/plain": [
       "<Figure size 432x288 with 1 Axes>"
      ]
     },
     "metadata": {},
     "output_type": "display_data"
    }
   ],
   "source": [
    "df['masa'].plot.box()"
   ]
  },
  {
   "cell_type": "code",
   "execution_count": 30,
   "metadata": {},
   "outputs": [],
   "source": [
    "from scipy import stats # importando scipy.stats\n",
    "from ProgramasProba.Proba import *\n",
    "\n",
    "vcexponencial = stats.expon(scale=1/2.0)\n",
    "Xexponencial = vcexponencial.rvs(size=1000)\n",
    "\n",
    "vcnormal = stats.norm(loc=3, scale=2)\n",
    "Xnormal = vcnormal.rvs(size=1000)\n",
    "\n",
    "df = pd.DataFrame({'Datos-expo':Xexponencial, 'Datos-norm':Xnormal})\n"
   ]
  },
  {
   "cell_type": "code",
   "execution_count": 31,
   "metadata": {},
   "outputs": [
    {
     "data": {
      "image/png": "[encoded data removed]",
      "text/plain": [
       "<Figure size 1152x360 with 2 Axes>"
      ]
     },
     "metadata": {},
     "output_type": "display_data"
    }
   ],
   "source": [
    "fig, (ax1,ax2)=plt.subplots(1,2,figsize=(16,5))\n",
    "x=np.linspace(-1,5,num=200)\n",
    "ax1.plot(x,vcexponencial.pdf(x))\n",
    "ax2.scatter(x=np.linspace(0,999,num=1000), y=df['Datos-expo']) \n",
    "plt.show()\n"
   ]
  },
  {
   "cell_type": "code",
   "execution_count": 32,
   "metadata": {},
   "outputs": [
    {
     "data": {
      "image/png": "[encoded data removed]",
      "text/plain": [
       "<Figure size 1152x360 with 2 Axes>"
      ]
     },
     "metadata": {},
     "output_type": "display_data"
    }
   ],
   "source": [
    "fig, (ax1,ax2)=plt.subplots(1,2,figsize=(16,5))\n",
    "x=np.linspace(-1,7,num=300)\n",
    "ax1.plot(x,vcnormal.pdf(x))\n",
    "ax2.scatter(x=np.linspace(0,999,num=1000), y=df['Datos-norm']) \n",
    "plt.show()"
   ]
  },
  {
   "cell_type": "code",
   "execution_count": 33,
   "metadata": {},
   "outputs": [
    {
     "data": {
      "text/html": [
       "<div>\n",
       "<style scoped>\n",
       "    .dataframe tbody tr th:only-of-type {\n",
       "        vertical-align: middle;\n",
       "    }\n",
       "\n",
       "    .dataframe tbody tr th {\n",
       "        vertical-align: top;\n",
       "    }\n",
       "\n",
       "    .dataframe thead th {\n",
       "        text-align: right;\n",
       "    }\n",
       "</style>\n",
       "<table border=\"1\" class=\"dataframe\">\n",
       "  <thead>\n",
       "    <tr style=\"text-align: right;\">\n",
       "      <th></th>\n",
       "      <th>Datos-expo</th>\n",
       "      <th>Datos-norm</th>\n",
       "    </tr>\n",
       "  </thead>\n",
       "  <tbody>\n",
       "    <tr>\n",
       "      <th>0</th>\n",
       "      <td>0.514412</td>\n",
       "      <td>2.425806</td>\n",
       "    </tr>\n",
       "    <tr>\n",
       "      <th>1</th>\n",
       "      <td>0.578158</td>\n",
       "      <td>0.224246</td>\n",
       "    </tr>\n",
       "    <tr>\n",
       "      <th>2</th>\n",
       "      <td>0.494977</td>\n",
       "      <td>1.130776</td>\n",
       "    </tr>\n",
       "    <tr>\n",
       "      <th>3</th>\n",
       "      <td>0.350151</td>\n",
       "      <td>7.767606</td>\n",
       "    </tr>\n",
       "    <tr>\n",
       "      <th>4</th>\n",
       "      <td>0.303890</td>\n",
       "      <td>1.800002</td>\n",
       "    </tr>\n",
       "  </tbody>\n",
       "</table>\n",
       "</div>"
      ],
      "text/plain": [
       "   Datos-expo  Datos-norm\n",
       "0    0.514412    2.425806\n",
       "1    0.578158    0.224246\n",
       "2    0.494977    1.130776\n",
       "3    0.350151    7.767606\n",
       "4    0.303890    1.800002"
      ]
     },
     "execution_count": 33,
     "metadata": {},
     "output_type": "execute_result"
    }
   ],
   "source": [
    "df.head()"
   ]
  },
  {
   "cell_type": "code",
   "execution_count": 34,
   "metadata": {},
   "outputs": [
    {
     "data": {
      "text/html": [
       "<div>\n",
       "<style scoped>\n",
       "    .dataframe tbody tr th:only-of-type {\n",
       "        vertical-align: middle;\n",
       "    }\n",
       "\n",
       "    .dataframe tbody tr th {\n",
       "        vertical-align: top;\n",
       "    }\n",
       "\n",
       "    .dataframe thead th {\n",
       "        text-align: right;\n",
       "    }\n",
       "</style>\n",
       "<table border=\"1\" class=\"dataframe\">\n",
       "  <thead>\n",
       "    <tr style=\"text-align: right;\">\n",
       "      <th></th>\n",
       "      <th>Datos-expo</th>\n",
       "      <th>Datos-norm</th>\n",
       "    </tr>\n",
       "  </thead>\n",
       "  <tbody>\n",
       "    <tr>\n",
       "      <th>995</th>\n",
       "      <td>0.024190</td>\n",
       "      <td>2.866080</td>\n",
       "    </tr>\n",
       "    <tr>\n",
       "      <th>996</th>\n",
       "      <td>0.637324</td>\n",
       "      <td>4.974813</td>\n",
       "    </tr>\n",
       "    <tr>\n",
       "      <th>997</th>\n",
       "      <td>0.303085</td>\n",
       "      <td>5.529535</td>\n",
       "    </tr>\n",
       "    <tr>\n",
       "      <th>998</th>\n",
       "      <td>0.090802</td>\n",
       "      <td>4.162940</td>\n",
       "    </tr>\n",
       "    <tr>\n",
       "      <th>999</th>\n",
       "      <td>0.589470</td>\n",
       "      <td>0.186275</td>\n",
       "    </tr>\n",
       "  </tbody>\n",
       "</table>\n",
       "</div>"
      ],
      "text/plain": [
       "     Datos-expo  Datos-norm\n",
       "995    0.024190    2.866080\n",
       "996    0.637324    4.974813\n",
       "997    0.303085    5.529535\n",
       "998    0.090802    4.162940\n",
       "999    0.589470    0.186275"
      ]
     },
     "execution_count": 34,
     "metadata": {},
     "output_type": "execute_result"
    }
   ],
   "source": [
    "df.tail()"
   ]
  },
  {
   "cell_type": "code",
   "execution_count": 35,
   "metadata": {},
   "outputs": [
    {
     "data": {
      "text/html": [
       "<div>\n",
       "<style scoped>\n",
       "    .dataframe tbody tr th:only-of-type {\n",
       "        vertical-align: middle;\n",
       "    }\n",
       "\n",
       "    .dataframe tbody tr th {\n",
       "        vertical-align: top;\n",
       "    }\n",
       "\n",
       "    .dataframe thead th {\n",
       "        text-align: right;\n",
       "    }\n",
       "</style>\n",
       "<table border=\"1\" class=\"dataframe\">\n",
       "  <thead>\n",
       "    <tr style=\"text-align: right;\">\n",
       "      <th></th>\n",
       "      <th>Datos-expo</th>\n",
       "      <th>Datos-norm</th>\n",
       "    </tr>\n",
       "  </thead>\n",
       "  <tbody>\n",
       "    <tr>\n",
       "      <th>count</th>\n",
       "      <td>1000.000000</td>\n",
       "      <td>1000.000000</td>\n",
       "    </tr>\n",
       "    <tr>\n",
       "      <th>mean</th>\n",
       "      <td>0.487783</td>\n",
       "      <td>3.071011</td>\n",
       "    </tr>\n",
       "    <tr>\n",
       "      <th>std</th>\n",
       "      <td>0.516047</td>\n",
       "      <td>1.992369</td>\n",
       "    </tr>\n",
       "    <tr>\n",
       "      <th>min</th>\n",
       "      <td>0.000596</td>\n",
       "      <td>-4.054889</td>\n",
       "    </tr>\n",
       "    <tr>\n",
       "      <th>25%</th>\n",
       "      <td>0.134871</td>\n",
       "      <td>1.799955</td>\n",
       "    </tr>\n",
       "    <tr>\n",
       "      <th>50%</th>\n",
       "      <td>0.324586</td>\n",
       "      <td>3.005780</td>\n",
       "    </tr>\n",
       "    <tr>\n",
       "      <th>75%</th>\n",
       "      <td>0.669007</td>\n",
       "      <td>4.342546</td>\n",
       "    </tr>\n",
       "    <tr>\n",
       "      <th>max</th>\n",
       "      <td>3.491440</td>\n",
       "      <td>10.681901</td>\n",
       "    </tr>\n",
       "  </tbody>\n",
       "</table>\n",
       "</div>"
      ],
      "text/plain": [
       "        Datos-expo   Datos-norm\n",
       "count  1000.000000  1000.000000\n",
       "mean      0.487783     3.071011\n",
       "std       0.516047     1.992369\n",
       "min       0.000596    -4.054889\n",
       "25%       0.134871     1.799955\n",
       "50%       0.324586     3.005780\n",
       "75%       0.669007     4.342546\n",
       "max       3.491440    10.681901"
      ]
     },
     "execution_count": 35,
     "metadata": {},
     "output_type": "execute_result"
    }
   ],
   "source": [
    "df.describe()"
   ]
  },
  {
   "cell_type": "code",
   "execution_count": 36,
   "metadata": {},
   "outputs": [
    {
     "data": {
      "image/png": "[encoded data removed]",
      "text/plain": [
       "<Figure size 432x288 with 1 Axes>"
      ]
     },
     "metadata": {},
     "output_type": "display_data"
    }
   ],
   "source": [
    "df.plot.box();"
   ]
  },
  {
   "cell_type": "code",
   "execution_count": 37,
   "metadata": {},
   "outputs": [
    {
     "data": {
      "text/plain": [
       "<matplotlib.axes._subplots.AxesSubplot at 0x1a1ffaf690>"
      ]
     },
     "execution_count": 37,
     "metadata": {},
     "output_type": "execute_result"
    },
    {
     "data": {
      "image/png": "[encoded data removed]",
      "text/plain": [
       "<Figure size 432x288 with 1 Axes>"
      ]
     },
     "metadata": {},
     "output_type": "display_data"
    }
   ],
   "source": [
    "df[\"Datos-expo\"].plot.box()"
   ]
  },
  {
   "cell_type": "code",
   "execution_count": 38,
   "metadata": {},
   "outputs": [
    {
     "data": {
      "text/plain": [
       "<matplotlib.axes._subplots.AxesSubplot at 0x1a20239f90>"
      ]
     },
     "execution_count": 38,
     "metadata": {},
     "output_type": "execute_result"
    },
    {
     "data": {
      "image/png": "[encoded data removed]",
      "text/plain": [
       "<Figure size 432x288 with 1 Axes>"
      ]
     },
     "metadata": {},
     "output_type": "display_data"
    }
   ],
   "source": [
    "df[\"Datos-norm\"].plot.box()"
   ]
  },
  {
   "cell_type": "code",
   "execution_count": 39,
   "metadata": {},
   "outputs": [
    {
     "data": {
      "text/plain": [
       "array([5.95855301e-04, 3.49680230e-01, 6.98764605e-01, 1.04784898e+00,\n",
       "       1.39693336e+00, 1.74601773e+00, 2.09510211e+00, 2.44418648e+00,\n",
       "       2.79327086e+00, 3.14235523e+00, 3.49143961e+00])"
      ]
     },
     "execution_count": 39,
     "metadata": {},
     "output_type": "execute_result"
    },
    {
     "data": {
      "image/png": "[encoded data removed]",
      "text/plain": [
       "<Figure size 432x288 with 1 Axes>"
      ]
     },
     "metadata": {},
     "output_type": "display_data"
    }
   ],
   "source": [
    "A=plt.hist(df[\"Datos-expo\"]);\n",
    "A[1]"
   ]
  },
  {
   "cell_type": "code",
   "execution_count": 40,
   "metadata": {},
   "outputs": [
    {
     "data": {
      "image/png": "[encoded data removed]",
      "text/plain": [
       "<Figure size 432x288 with 1 Axes>"
      ]
     },
     "metadata": {},
     "output_type": "display_data"
    }
   ],
   "source": [
    "df[\"Datos-expo\"].plot.hist(bins=20);"
   ]
  },
  {
   "cell_type": "code",
   "execution_count": 41,
   "metadata": {},
   "outputs": [
    {
     "data": {
      "image/png": "[encoded data removed]",
      "text/plain": [
       "<Figure size 432x288 with 1 Axes>"
      ]
     },
     "metadata": {},
     "output_type": "display_data"
    }
   ],
   "source": [
    "df[\"Datos-norm\"].plot.hist(bins=50);"
   ]
  },
  {
   "cell_type": "code",
   "execution_count": 42,
   "metadata": {},
   "outputs": [
    {
     "data": {
      "image/png": "[encoded data removed]",
      "text/plain": [
       "<Figure size 432x288 with 2 Axes>"
      ]
     },
     "metadata": {},
     "output_type": "display_data"
    }
   ],
   "source": [
    "df.hist(color='b', alpha=0.5, bins=50, density=True);"
   ]
  },
  {
   "cell_type": "code",
   "execution_count": 43,
   "metadata": {},
   "outputs": [
    {
     "data": {
      "text/plain": [
       "<matplotlib.axes._subplots.AxesSubplot at 0x1a20530550>"
      ]
     },
     "execution_count": 43,
     "metadata": {},
     "output_type": "execute_result"
    },
    {
     "data": {
      "image/png": "[encoded data removed]",
      "text/plain": [
       "<Figure size 432x288 with 1 Axes>"
      ]
     },
     "metadata": {},
     "output_type": "display_data"
    }
   ],
   "source": [
    "df.plot.hist(alpha=0.5, bins=50, density=True)"
   ]
  },
  {
   "cell_type": "code",
   "execution_count": 44,
   "metadata": {},
   "outputs": [
    {
     "data": {
      "image/png": "[encoded data removed]",
      "text/plain": [
       "<Figure size 432x288 with 1 Axes>"
      ]
     },
     "metadata": {},
     "output_type": "display_data"
    }
   ],
   "source": [
    "df.plot.kde()\n",
    "plt.show()"
   ]
  },
  {
   "cell_type": "code",
   "execution_count": 45,
   "metadata": {},
   "outputs": [
    {
     "data": {
      "image/png": "[encoded data removed]",
      "text/plain": [
       "<Figure size 432x288 with 1 Axes>"
      ]
     },
     "metadata": {},
     "output_type": "display_data"
    }
   ],
   "source": [
    "x=np.linspace(-1,5,num=200)\n",
    "df[\"Datos-expo\"].plot.kde(label=\"Metodo kde\")\n",
    "plt.plot(x,vcexponencial.pdf(x),'r',label=\"Funcion de densidad\")\n",
    "df[\"Datos-expo\"].hist(color='b', alpha=0.5, bins=50, density=True,label=\"histograma\");\n",
    "plt.legend(loc='best')\n",
    "plt.show()"
   ]
  },
  {
   "cell_type": "code",
   "execution_count": 46,
   "metadata": {},
   "outputs": [
    {
     "data": {
      "image/png": "[encoded data removed]",
      "text/plain": [
       "<Figure size 432x288 with 1 Axes>"
      ]
     },
     "metadata": {},
     "output_type": "display_data"
    }
   ],
   "source": [
    "x=np.linspace(-1,5,num=200)\n",
    "df[\"Datos-norm\"].plot.kde(label=\"Metodo kde\")\n",
    "plt.plot(x,vcnormal.pdf(x),'r',label=\"Funcion de densidad\")\n",
    "df[\"Datos-norm\"].hist(color='b', alpha=0.5, bins=50, density=True,label=\"histograma\");\n",
    "plt.legend(loc='best')\n",
    "plt.show()"
   ]
  },
  {
   "cell_type": "markdown",
   "metadata": {},
   "source": [
    "# Descripciones numericas\n",
    "\n",
    "Se tienen diferentes medidas para entender una disribución, \n",
    "\n",
    "<ul>\n",
    "    <li> <p><strong>Medidas de tendencia central.</strong> Esta medición trata de describir el conjunto entero de datos mediante un valor \"simple\" que representa  \"el centro\" de la distribución, ejemplos de este tipo de mediciones son:</p></li>\n",
    "    \n",
    "   <ol>\n",
    "        <li><p><strong>Media (valor pormedio) </strong></p></li>\n",
    "        <li><p><strong>Mediana</strong></p></li>\n",
    "        <li><p><strong>Moda</strong></p></li>\n",
    "    </ol>\n",
    "    \n",
    "   <li><p><strong>Medidas de dispersión.</strong>Describen la dispersión (propagación, expansión, variabilidad) de los datos alrededor un valor central (Media). Dos dsitribuciones podrían tener las mismas medidas centrales, pero diferente variabilidad, ejemplos de este tipo de mediciones son: </p></li>\n",
    "   \n",
    "   <ol>\n",
    "        <li><p><strong>Rango </strong></p></li>\n",
    "        <li><p><strong>Cuantiles</strong></p></li>\n",
    "        <li><p><strong>Rango inercualtil</strong></p></li>\n",
    "        <li><p><strong>Varianza</strong></p></li>\n",
    "        <li><p><strong>Desviación estandar</strong></p></li>\n",
    "    </ol>\n",
    "    \n",
    "   <li><p><strong>Medidas que describen la forma de una distribución.</strong> Estan mediciones presisamente ayudan a entender la forma de la distribución, ejemplo de estas mediciones son: </p></li>\n",
    "   \n",
    "<ol>\n",
    "        <li><p><strong> Coeficiente de asimetria (Skewness) </strong></p></li>\n",
    "        <li><p><strong> Curtosis (Kurtosis)</strong></p></li>\n",
    " </ol>\n",
    "\n",
    "</ul>\n",
    "\n",
    "\n",
    "\n",
    "### Media\n",
    "$$\\bar{x}=\\dfrac{1}{n}\\sum_{i=1}^n x_i$$\n",
    "\n",
    "### Mediana\n",
    "\n",
    "Es el valor que se encuentra a la mitad del conjunto de datos cuando estos se ordenan de forma ascendente. \n",
    "\n",
    "Para un orden $x_{(1)}\\leq \\ldots\\leq x_{(n)}$, para $n$ par definimos la mediana como \n",
    "\n",
    "$$\\tilde{x}=\\dfrac{x_{(n/2)}+x_{(n/2+1)}}{2}$$\n",
    "\n",
    "para $n$ impar\n",
    "\n",
    "$$\\tilde{x}=x_{(\\frac{n+1}{2})}$$\n",
    "\n",
    "### Moda\n",
    "\n",
    "Es el valor de mayor ocurrencia en el conjunto de datos. Aquí pueden ocurrir distisntos escenarios, por ejemplo que varios datos se repitan la misma cantidad e veces (multimodal) que todos los datos se repitan la misma cantidad de veces (no existe moda), que solo un valor se repita más que todos los restantes (unimodal).\n",
    "\n",
    "\n",
    "### Varianza \n",
    "\n",
    "la varianza es la media de las desviaciones al cuadrado, las desviaciones se refieren a que tanto dista un dato de su valor promedio. Este valor es pequeño si los datos estan cercanos al valor medio, es sencible a los out liers. \n",
    "\n",
    "$$var(x)=\\dfrac{1}{n}\\sum_{i=1}^n (x_i-\\bar{x})^2$$\n",
    "\n",
    "### Desviación estándar \n",
    "\n",
    "Tiene la misma idea de la varianza, pero las mismas unidades de los datos. Lo cual \"tiene mas sentido\" de interpretar respecto a la dispersión. \n",
    "\n",
    "$$de(x)=\\sqrt{\\dfrac{1}{n}\\sum_{i=1}^n (x_i-\\bar{x})^2}$$\n",
    "\n",
    "### Desviación media\n",
    "\n",
    "$$dm(x)=\\dfrac{1}{n}\\sum_{i=1}^n |x_i-\\bar{x}|$$\n",
    "\n",
    "### Rango\n",
    "\n",
    "Es un metodo simple para averiguar bajo que valores se distribuyen todos los datos. \n",
    "\n",
    "Para un orden $x_{(1)}\\leq \\ldots\\leq x_{(n)}$,\n",
    "\n",
    "$$r(x)=x_{(n)}-x_{(1)}$$\n",
    "\n",
    "### Momentos muestrales\n",
    "\n",
    "$$m'_k=\\dfrac{1}{n}\\sum_{i=1}^n x_i^k$$\n",
    "\n",
    "\n",
    "### Momentos muestrales centrales\n",
    "\n",
    "$$m_k=\\dfrac{1}{n}\\sum_{i=1}^n (x_i-\\bar{x})^k$$\n",
    "\n",
    "### Cuantiles\n",
    "\n",
    "Son valores en el rango de los datos que dividen a los datos en distintos porcentajes. \n",
    "\n",
    "Un cuantil al $100p\\%$ es un número $c$ que cumple\n",
    "\n",
    "$$\\dfrac{\\#\\lbrace x_i|x_i\\leq c\\rbrace}{n}\\geq p$$\n",
    "\n",
    "$$\\dfrac{\\#\\lbrace x_i|x_i\\geq c\\rbrace}{n}\\geq 1-p$$\n",
    "\n",
    "cuando hay un intervalo como candidato , elegimos quedarnos con el punto medio.\n",
    "\n",
    "### Coeficiente de asimetría (skewness)\n",
    "\n",
    "Mide que tanto la distribución difiere de la distribución normal\n",
    "\n",
    "\n",
    "$$sk(x)=\\dfrac{1}{s^3}\\left[\\dfrac{1}{n}\\sum_{i=1}^n (x_i-\\bar{x})^3\\right]$$\n",
    "\n",
    "$$sk(x)=\\dfrac{\\dfrac{1}{n}\\sum_{i=1}^n (x_i-\\bar{x})^3}{\\left[\\sqrt{\\dfrac{1}{n}\\sum_{i=1}^n (x_i-\\bar{x})^2}\\right]^3}$$\n",
    "\n",
    "$$sk(x)=\\dfrac{m_3}{m_2^{3/2}}$$\n",
    "\n",
    "- $sk(x)>0$ asímetria positiva (los datos están cargados a la izquierda de la média, la moda esta a la izquierda)\n",
    "- $sk(x)<0$ asímetria negativa (los datos están cargados a la derecha de la media. la moda esta a la derecha)\n",
    "\n",
    "Las medidas de tendecia central pueden ser usadas para detectar el sesgado (skewed) de una distribución, estas mediciones no coinciden si existe asimetria en la distribución.\n",
    "\n",
    "### Curtosis (kurtosis)\n",
    "\n",
    "Es una medida de las colas respecto al centro de la distribución (anchos de la distribución). Una distribución normal estándar tiene una curtosis de valor 3. \n",
    "\n",
    "$$ k(x)=\\dfrac{1}{s^4}\\left[\\dfrac{1}{n}\\sum_{i=1}^n (x_i-\\bar{x})^4\\right] $$\n",
    "\n",
    "$$k(x)=\\dfrac{\\dfrac{1}{n}\\sum_{i=1}^n (x_i-\\bar{x})^4}{\\left[\\dfrac{1}{n}\\sum_{i=1}^n (x_i-\\bar{x})^2\\right]^2}$$\n",
    "\n",
    "$$k(x)=\\dfrac{m_4}{m_2^{2}}$$\n",
    "\n",
    "Recirdamos que una distribución normal estandar tiene $k=3$, se define $k_3(x)=k(x)-3$,\n",
    " \n",
    "\n",
    "- Si $k_3=0$ se tiene una curva mesocúrtica (curva normal)\n",
    "\n",
    "- Si $k_3>0$ se tiene una curva leptocúrtica (decaimiento rápido)\n",
    "\n",
    "- Si $k_3<0$ se tiene una curva platicúrtica (decaimiento lento)\n",
    "\n",
    "## Observaciones\n",
    "\n",
    "Las definiciones en estadística descriptva no son estándar ni en definición ni en notación. Las diferentes definiciones (matemáticas) de un mismo concepto encuentrán su justificación en la teoria de estimación, pero lo importante es que independiente de la definición tienen el mismo proposito, por ejemplo\n",
    "\n",
    "$$\\sigma^2=\\dfrac{1}{n}\\sum_{i=1}^n (x_i-\\bar{x})^2$$\n",
    "$$S^2=\\dfrac{1}{n-1}\\sum_{i=1}^n (x_i-\\bar{x})^2$$\n",
    "\n",
    "son dos definiciones diferentes para calcular la varianza, ambas se interpretan como una medida de dispersión de datos, incluso algunos textos las distinguen indicando quñe fórmula utiliar dependiendo del númro de datos; desde el punto de teoría de estimación (estadística inferencial) ambos números \"sirven\" para calcular la varianza pero $S^2$ es mejor porque esta asociado a un estimador insesgado (lo que sea que signifique eso). \n",
    "\n",
    "Es importante que se tenga esto en cuenta, abría que revisar la implemetación en cada lenguaje (mi sospecha es qeu la implementación en los lenguajes de programación es estándar, pero entre los libros de texto y los lenguajes no, no he tenido tiempo de verificar esto.).\n",
    "\n",
    "Como ejemplo se comparan las deficiones indicadas anteriormente contra las implementadas en el módulo Pandas. "
   ]
  },
  {
   "cell_type": "markdown",
   "metadata": {},
   "source": [
    "## Ejemplo\n",
    "\n",
    "Se construyen funciones para calcular las descripciones númericas antes indicadas, se calcula el equivalente con Pandas.\n"
   ]
  },
  {
   "cell_type": "code",
   "execution_count": 47,
   "metadata": {},
   "outputs": [],
   "source": [
    "def media(x,bandera=False):\n",
    "    '''x es una lista de datos'''\n",
    "    valores=pd.Series(x)\n",
    "    df=pd.DataFrame({'Datos':valores})\n",
    "    media=(1.0/(valores.size))*np.sum(x)\n",
    "    if bandera==True:\n",
    "        return media\n",
    "    print(\"\\n media: \",media,\"\\n media Pandas: \",df.mean() )\n",
    "\n",
    "def mediana(x, bandera=False):\n",
    "    '''x es una lista de datos'''\n",
    "    valores=pd.Series(x)\n",
    "    df=pd.DataFrame({'Datos':valores})\n",
    "    elementos=valores.count()\n",
    "    valoresor=np.sort(valores)\n",
    "    if elementos%2==0:\n",
    "        mediana=(valoresor[(elementos)/2-1]+valoresor[elementos/2])/2.0\n",
    "    else:\n",
    "        mediana=valoresor[(elementos+1)/2-1]\n",
    "    if bandera==True:\n",
    "        return mediana\n",
    "    \n",
    "    print(\"\\n mediana: \",mediana,\"\\n mediana Pandas: \",df.median(),df.quantile(0.5,interpolation='midpoint'))\n",
    "\n",
    "def momentos(x,k,bandera=False):\n",
    "    '''x es una lista de datos'''\n",
    "    valores=pd.Series(x)\n",
    "    df=pd.DataFrame({'Datos':valores})\n",
    "    momento=(1.0/(valores.size))*np.sum(np.power(valores,k))\n",
    "    if bandera==True:\n",
    "        return momento\n",
    "    print(\"\\n momento %i :\"%k,momento)\n",
    "    \n",
    "def momentosc(x,k,bandera=False):\n",
    "    '''x es una lista de datos'''\n",
    "    valores=pd.Series(x)\n",
    "    df=pd.DataFrame({'Datos':valores})\n",
    "    media_=media(x,bandera=True)\n",
    "    momentoc=(1.0/(valores.size))*np.sum(np.power(valores-media_,k))\n",
    "    if bandera==True:\n",
    "        return momentoc\n",
    "    print(\"\\n momento %i :\"%k,momentoc)\n",
    "\n",
    "def varianza(x,bandera=False):\n",
    "    '''x es una lista de datos'''\n",
    "    valores=pd.Series(x)\n",
    "    df=pd.DataFrame({'Datos':valores})\n",
    "    var=momentosc(x,2,bandera=True)\n",
    "    if bandera==True:\n",
    "        return var\n",
    "    print(\"\\n varianza: \",var,\"\\n varianza Pandas: \",df.var())\n",
    "\n",
    "def des(x,bandera=False):\n",
    "    '''x es una lista de datos'''\n",
    "    valores=pd.Series(x)\n",
    "    df=pd.DataFrame({'Datos':valores})\n",
    "    des=np.sqrt(varianza(x,bandera=True))\n",
    "    if bandera==True:\n",
    "        return des\n",
    "    print(\"\\n desviación estándar: \",des,\"\\n desviación estándar Pandas: \",df.std())\n",
    "    \n",
    "def rango(x,bandera=False):\n",
    "    '''x es una lista de datos'''\n",
    "    valores=pd.Series(x)\n",
    "    df=pd.DataFrame({'Datos':valores})\n",
    "    mini=df.min()\n",
    "    maxi=df.max()\n",
    "    rango=maxi-mini\n",
    "    if bandera==True:\n",
    "        return rango.values[0]\n",
    "    print(\"\\n minimo: \",mini,\"\\n maximo: \",maxi,\"\\n rango:\",rango)\n",
    "    \n",
    "def cuantiles(x,q, bandera=False):\n",
    "    '''x es una lista de datos'''\n",
    "    valores=pd.Series(x)\n",
    "    df=pd.DataFrame({'Datos':valores})\n",
    "    cuantiles=df.quantile(q,interpolation='midpoint')\n",
    "    if bandera==True:\n",
    "        return cuantiles.values[:]\n",
    "    print(\"\\n cuantiles:\",cuantiles)\n",
    "    \n",
    "def asimetria(x,bandera=False):\n",
    "    '''x es una lista de datos'''\n",
    "    valores=pd.Series(x)\n",
    "    df=pd.DataFrame({'Datos':valores})\n",
    "    asimetria=momentosc(x,3,bandera=True)/np.power(momentosc(x,2,bandera=True),1.5)\n",
    "    if bandera==True:\n",
    "        return asimetria\n",
    "    print(\"\\n asimetria:\",asimetria,\"asimetria Pandas:\",df.skew())\n",
    "\n",
    "def curtosis(x,bandera=False):\n",
    "    '''x es una lista de datos'''\n",
    "    valores=pd.Series(x)\n",
    "    df=pd.DataFrame({'Datos':valores})\n",
    "    curtosis=momentosc(x,4,bandera=True)/np.power(momentosc(x,2,bandera=True),2)\n",
    "    if bandera==True:\n",
    "        return curtosis\n",
    "    print(\"\\n curtosis:\",curtosis,\"curtosis Pandas:\",df.kurtosis())\n",
    "    \n",
    "def descripcion(x):\n",
    "    descriptores=pd.Series([media(x,bandera=True),mediana(x, bandera=True),\n",
    "            varianza(x,bandera=True),des(x,bandera=True),\n",
    "            rango(x,bandera=True),cuantiles(x,[0.25, 0.5, 0.75],bandera=True),\n",
    "           asimetria(x,bandera=True),curtosis(x,bandera=True)],\n",
    "           index=['media', 'mediana', 'varianza', 'std',\"rango\",\"cuartiles\",\"asimetria\",\"curtosis\"])\n",
    "\n",
    "    s=pd.Series(x)\n",
    "    despandas=pd.Series([s.mean(),s.median(),s.var(),s.std(),s.max()-s.min(),\n",
    "                     s.quantile([0.25,0.5,0.75]).values, s.skew(),s.kurt()],\n",
    "            index=['media', 'mediana', 'varianza', 'std',\"rango\",\"cuartiles\",\"asimetria\",\"curtosis\"])\n",
    "    df=pd.DataFrame({\"Definiciones\":descriptores,\n",
    "                 \"Pandas\":despandas})\n",
    "    return df\n",
    "\n",
    "#media(x)\n",
    "#mediana(x)\n",
    "#momentos(x,1)\n",
    "#momentosc(x,1)\n",
    "#varianza(x)\n",
    "#des(x)\n",
    "#rango(x)\n",
    "#cuantiles(x,[0.25, 0.5, 0.75])\n",
    "#asimetria(x)\n",
    "#curtosis(x)"
   ]
  },
  {
   "cell_type": "code",
   "execution_count": 48,
   "metadata": {},
   "outputs": [
    {
     "data": {
      "text/html": [
       "<div>\n",
       "<style scoped>\n",
       "    .dataframe tbody tr th:only-of-type {\n",
       "        vertical-align: middle;\n",
       "    }\n",
       "\n",
       "    .dataframe tbody tr th {\n",
       "        vertical-align: top;\n",
       "    }\n",
       "\n",
       "    .dataframe thead th {\n",
       "        text-align: right;\n",
       "    }\n",
       "</style>\n",
       "<table border=\"1\" class=\"dataframe\">\n",
       "  <thead>\n",
       "    <tr style=\"text-align: right;\">\n",
       "      <th></th>\n",
       "      <th>Definiciones</th>\n",
       "      <th>Pandas</th>\n",
       "    </tr>\n",
       "  </thead>\n",
       "  <tbody>\n",
       "    <tr>\n",
       "      <th>media</th>\n",
       "      <td>20.7675</td>\n",
       "      <td>20.7675</td>\n",
       "    </tr>\n",
       "    <tr>\n",
       "      <th>mediana</th>\n",
       "      <td>20.61</td>\n",
       "      <td>20.61</td>\n",
       "    </tr>\n",
       "    <tr>\n",
       "      <th>varianza</th>\n",
       "      <td>2.40627</td>\n",
       "      <td>2.53291</td>\n",
       "    </tr>\n",
       "    <tr>\n",
       "      <th>std</th>\n",
       "      <td>1.55122</td>\n",
       "      <td>1.59151</td>\n",
       "    </tr>\n",
       "    <tr>\n",
       "      <th>rango</th>\n",
       "      <td>5.67</td>\n",
       "      <td>5.67</td>\n",
       "    </tr>\n",
       "    <tr>\n",
       "      <th>cuartiles</th>\n",
       "      <td>[[19.365000000000002], [20.61], [21.96]]</td>\n",
       "      <td>[19.402500000000003, 20.61, 21.884999999999998]</td>\n",
       "    </tr>\n",
       "    <tr>\n",
       "      <th>asimetria</th>\n",
       "      <td>0.126248</td>\n",
       "      <td>0.136724</td>\n",
       "    </tr>\n",
       "    <tr>\n",
       "      <th>curtosis</th>\n",
       "      <td>1.99587</td>\n",
       "      <td>-0.936763</td>\n",
       "    </tr>\n",
       "  </tbody>\n",
       "</table>\n",
       "</div>"
      ],
      "text/plain": [
       "                                       Definiciones  \\\n",
       "media                                       20.7675   \n",
       "mediana                                       20.61   \n",
       "varianza                                    2.40627   \n",
       "std                                         1.55122   \n",
       "rango                                          5.67   \n",
       "cuartiles  [[19.365000000000002], [20.61], [21.96]]   \n",
       "asimetria                                  0.126248   \n",
       "curtosis                                    1.99587   \n",
       "\n",
       "                                                    Pandas  \n",
       "media                                              20.7675  \n",
       "mediana                                              20.61  \n",
       "varianza                                           2.53291  \n",
       "std                                                1.59151  \n",
       "rango                                                 5.67  \n",
       "cuartiles  [19.402500000000003, 20.61, 21.884999999999998]  \n",
       "asimetria                                         0.136724  \n",
       "curtosis                                         -0.936763  "
      ]
     },
     "execution_count": 48,
     "metadata": {},
     "output_type": "execute_result"
    }
   ],
   "source": [
    "x=[18.71, 21.41, 20.72, 21.81, 19.29, 22.43, 20.17, 23.71, 19.44, 20.50,\n",
    "18.92, 20.33, 23.00, 22.85, 19.25, 21.77, 22.11, 19.77, 18.04, 21.12]\n",
    "descripcion(x)"
   ]
  },
  {
   "cell_type": "code",
   "execution_count": 49,
   "metadata": {},
   "outputs": [
    {
     "data": {
      "text/html": [
       "<div>\n",
       "<style scoped>\n",
       "    .dataframe tbody tr th:only-of-type {\n",
       "        vertical-align: middle;\n",
       "    }\n",
       "\n",
       "    .dataframe tbody tr th {\n",
       "        vertical-align: top;\n",
       "    }\n",
       "\n",
       "    .dataframe thead th {\n",
       "        text-align: right;\n",
       "    }\n",
       "</style>\n",
       "<table border=\"1\" class=\"dataframe\">\n",
       "  <thead>\n",
       "    <tr style=\"text-align: right;\">\n",
       "      <th></th>\n",
       "      <th>Definiciones</th>\n",
       "      <th>Pandas</th>\n",
       "    </tr>\n",
       "  </thead>\n",
       "  <tbody>\n",
       "    <tr>\n",
       "      <th>media</th>\n",
       "      <td>65.6</td>\n",
       "      <td>65.6</td>\n",
       "    </tr>\n",
       "    <tr>\n",
       "      <th>mediana</th>\n",
       "      <td>72</td>\n",
       "      <td>72</td>\n",
       "    </tr>\n",
       "    <tr>\n",
       "      <th>varianza</th>\n",
       "      <td>399.34</td>\n",
       "      <td>420.358</td>\n",
       "    </tr>\n",
       "    <tr>\n",
       "      <th>std</th>\n",
       "      <td>19.9835</td>\n",
       "      <td>20.5026</td>\n",
       "    </tr>\n",
       "    <tr>\n",
       "      <th>rango</th>\n",
       "      <td>72</td>\n",
       "      <td>72</td>\n",
       "    </tr>\n",
       "    <tr>\n",
       "      <th>cuartiles</th>\n",
       "      <td>[[53.5], [72.0], [80.5]]</td>\n",
       "      <td>[54.25, 72.0, 80.25]</td>\n",
       "    </tr>\n",
       "    <tr>\n",
       "      <th>asimetria</th>\n",
       "      <td>-0.580991</td>\n",
       "      <td>-0.6292</td>\n",
       "    </tr>\n",
       "    <tr>\n",
       "      <th>curtosis</th>\n",
       "      <td>2.30991</td>\n",
       "      <td>-0.527269</td>\n",
       "    </tr>\n",
       "  </tbody>\n",
       "</table>\n",
       "</div>"
      ],
      "text/plain": [
       "                       Definiciones                Pandas\n",
       "media                          65.6                  65.6\n",
       "mediana                          72                    72\n",
       "varianza                     399.34               420.358\n",
       "std                         19.9835               20.5026\n",
       "rango                            72                    72\n",
       "cuartiles  [[53.5], [72.0], [80.5]]  [54.25, 72.0, 80.25]\n",
       "asimetria                 -0.580991               -0.6292\n",
       "curtosis                    2.30991             -0.527269"
      ]
     },
     "execution_count": 49,
     "metadata": {},
     "output_type": "execute_result"
    }
   ],
   "source": [
    "x=[23, 60, 79, 32, 57, 74, 52, 70, 82, 36,\n",
    "80, 77, 81, 95, 41, 65, 92, 85, 55, 76]\n",
    "descripcion(x)"
   ]
  },
  {
   "cell_type": "markdown",
   "metadata": {},
   "source": [
    "Por ejemplo, _kurtosis_ regresa una modificación del valor que se ha definido como $k_3(x)$, en general se tiene qeu tenr cuidado cuando se utiliza software, debido a la impementacion por terceros, y lo qeu se ah comentado anteriormente.\n",
    "\n"
   ]
  },
  {
   "cell_type": "markdown",
   "metadata": {},
   "source": [
    "\n",
    "\n",
    "Ahora creamos una función qure reciba de argumento una lista que este relacionada a marcas de clase, y la frecuencia absoluta asociada y construya una tabla con las frecuecnas relativas y acumuladas"
   ]
  },
  {
   "cell_type": "code",
   "execution_count": 50,
   "metadata": {},
   "outputs": [],
   "source": [
    "def cuadrofrecuencias(fa,mc):\n",
    "    '''fa lista de frecuencia absoluta\n",
    "       mc marca de clase'''\n",
    "    marc=pd.Series(mc)\n",
    "    frecabs=pd.Series(fa)\n",
    "    df=pd.DataFrame({\"Marca de clase\":marc,\n",
    "                 \"Frecuencia Absoluta\":frecabs})\n",
    "    df[\"Frecuencia Acumulada\"]=df[\"Frecuencia Absoluta\"].cumsum()\n",
    "    df[\"Frecuencia Relativa\"]=df[\"Frecuencia Absoluta\"]/np.sum(frecabs)\n",
    "    df[\"Frecuencia Relativa Acumulada\"]=df[\"Frecuencia Acumulada\"]/np.sum(frecabs)\n",
    "    df=df[[\"Marca de clase\",\"Frecuencia Absoluta\",\"Frecuencia Acumulada\",\"Frecuencia Relativa\",\n",
    "            \"Frecuencia Relativa Acumulada\"]]\n",
    "    return df"
   ]
  },
  {
   "cell_type": "code",
   "execution_count": 51,
   "metadata": {},
   "outputs": [
    {
     "data": {
      "text/html": [
       "<div>\n",
       "<style scoped>\n",
       "    .dataframe tbody tr th:only-of-type {\n",
       "        vertical-align: middle;\n",
       "    }\n",
       "\n",
       "    .dataframe tbody tr th {\n",
       "        vertical-align: top;\n",
       "    }\n",
       "\n",
       "    .dataframe thead th {\n",
       "        text-align: right;\n",
       "    }\n",
       "</style>\n",
       "<table border=\"1\" class=\"dataframe\">\n",
       "  <thead>\n",
       "    <tr style=\"text-align: right;\">\n",
       "      <th></th>\n",
       "      <th>Marca de clase</th>\n",
       "      <th>Frecuencia Absoluta</th>\n",
       "      <th>Frecuencia Acumulada</th>\n",
       "      <th>Frecuencia Relativa</th>\n",
       "      <th>Frecuencia Relativa Acumulada</th>\n",
       "    </tr>\n",
       "  </thead>\n",
       "  <tbody>\n",
       "    <tr>\n",
       "      <th>0</th>\n",
       "      <td>1.7</td>\n",
       "      <td>2</td>\n",
       "      <td>2</td>\n",
       "      <td>0.050</td>\n",
       "      <td>0.050</td>\n",
       "    </tr>\n",
       "    <tr>\n",
       "      <th>1</th>\n",
       "      <td>2.2</td>\n",
       "      <td>1</td>\n",
       "      <td>3</td>\n",
       "      <td>0.025</td>\n",
       "      <td>0.075</td>\n",
       "    </tr>\n",
       "    <tr>\n",
       "      <th>2</th>\n",
       "      <td>2.7</td>\n",
       "      <td>4</td>\n",
       "      <td>7</td>\n",
       "      <td>0.100</td>\n",
       "      <td>0.175</td>\n",
       "    </tr>\n",
       "    <tr>\n",
       "      <th>3</th>\n",
       "      <td>3.2</td>\n",
       "      <td>15</td>\n",
       "      <td>22</td>\n",
       "      <td>0.375</td>\n",
       "      <td>0.550</td>\n",
       "    </tr>\n",
       "    <tr>\n",
       "      <th>4</th>\n",
       "      <td>3.7</td>\n",
       "      <td>10</td>\n",
       "      <td>32</td>\n",
       "      <td>0.250</td>\n",
       "      <td>0.800</td>\n",
       "    </tr>\n",
       "    <tr>\n",
       "      <th>5</th>\n",
       "      <td>4.2</td>\n",
       "      <td>5</td>\n",
       "      <td>37</td>\n",
       "      <td>0.125</td>\n",
       "      <td>0.925</td>\n",
       "    </tr>\n",
       "    <tr>\n",
       "      <th>6</th>\n",
       "      <td>4.7</td>\n",
       "      <td>3</td>\n",
       "      <td>40</td>\n",
       "      <td>0.075</td>\n",
       "      <td>1.000</td>\n",
       "    </tr>\n",
       "  </tbody>\n",
       "</table>\n",
       "</div>"
      ],
      "text/plain": [
       "   Marca de clase  Frecuencia Absoluta  Frecuencia Acumulada  \\\n",
       "0             1.7                    2                     2   \n",
       "1             2.2                    1                     3   \n",
       "2             2.7                    4                     7   \n",
       "3             3.2                   15                    22   \n",
       "4             3.7                   10                    32   \n",
       "5             4.2                    5                    37   \n",
       "6             4.7                    3                    40   \n",
       "\n",
       "   Frecuencia Relativa  Frecuencia Relativa Acumulada  \n",
       "0                0.050                          0.050  \n",
       "1                0.025                          0.075  \n",
       "2                0.100                          0.175  \n",
       "3                0.375                          0.550  \n",
       "4                0.250                          0.800  \n",
       "5                0.125                          0.925  \n",
       "6                0.075                          1.000  "
      ]
     },
     "execution_count": 51,
     "metadata": {},
     "output_type": "execute_result"
    }
   ],
   "source": [
    "mc=[1.7, 2.2, 2.7, 3.2, 3.7, 4.2, 4.7]\n",
    "fa=[2, 1, 4, 15, 10, 5, 3]\n",
    "df=cuadrofrecuencias(fa,mc)\n",
    "df"
   ]
  },
  {
   "cell_type": "code",
   "execution_count": 52,
   "metadata": {},
   "outputs": [
    {
     "data": {
      "text/html": [
       "<div>\n",
       "<style scoped>\n",
       "    .dataframe tbody tr th:only-of-type {\n",
       "        vertical-align: middle;\n",
       "    }\n",
       "\n",
       "    .dataframe tbody tr th {\n",
       "        vertical-align: top;\n",
       "    }\n",
       "\n",
       "    .dataframe thead th {\n",
       "        text-align: right;\n",
       "    }\n",
       "</style>\n",
       "<table border=\"1\" class=\"dataframe\">\n",
       "  <thead>\n",
       "    <tr style=\"text-align: right;\">\n",
       "      <th></th>\n",
       "      <th>Marca de clase</th>\n",
       "      <th>Frecuencia Absoluta</th>\n",
       "      <th>Frecuencia Acumulada</th>\n",
       "      <th>Frecuencia Relativa</th>\n",
       "      <th>Frecuencia Relativa Acumulada</th>\n",
       "    </tr>\n",
       "  </thead>\n",
       "  <tbody>\n",
       "    <tr>\n",
       "      <th>0</th>\n",
       "      <td>61</td>\n",
       "      <td>5</td>\n",
       "      <td>5</td>\n",
       "      <td>0.05</td>\n",
       "      <td>0.05</td>\n",
       "    </tr>\n",
       "    <tr>\n",
       "      <th>1</th>\n",
       "      <td>64</td>\n",
       "      <td>18</td>\n",
       "      <td>23</td>\n",
       "      <td>0.18</td>\n",
       "      <td>0.23</td>\n",
       "    </tr>\n",
       "    <tr>\n",
       "      <th>2</th>\n",
       "      <td>67</td>\n",
       "      <td>42</td>\n",
       "      <td>65</td>\n",
       "      <td>0.42</td>\n",
       "      <td>0.65</td>\n",
       "    </tr>\n",
       "    <tr>\n",
       "      <th>3</th>\n",
       "      <td>70</td>\n",
       "      <td>27</td>\n",
       "      <td>92</td>\n",
       "      <td>0.27</td>\n",
       "      <td>0.92</td>\n",
       "    </tr>\n",
       "    <tr>\n",
       "      <th>4</th>\n",
       "      <td>73</td>\n",
       "      <td>8</td>\n",
       "      <td>100</td>\n",
       "      <td>0.08</td>\n",
       "      <td>1.00</td>\n",
       "    </tr>\n",
       "  </tbody>\n",
       "</table>\n",
       "</div>"
      ],
      "text/plain": [
       "   Marca de clase  Frecuencia Absoluta  Frecuencia Acumulada  \\\n",
       "0              61                    5                     5   \n",
       "1              64                   18                    23   \n",
       "2              67                   42                    65   \n",
       "3              70                   27                    92   \n",
       "4              73                    8                   100   \n",
       "\n",
       "   Frecuencia Relativa  Frecuencia Relativa Acumulada  \n",
       "0                 0.05                           0.05  \n",
       "1                 0.18                           0.23  \n",
       "2                 0.42                           0.65  \n",
       "3                 0.27                           0.92  \n",
       "4                 0.08                           1.00  "
      ]
     },
     "execution_count": 52,
     "metadata": {},
     "output_type": "execute_result"
    }
   ],
   "source": [
    "mc=[61, 64, 67, 70, 73]\n",
    "fa=[5, 18, 42, 27, 8]\n",
    "df=cuadrofrecuencias(fa,mc)\n",
    "df"
   ]
  },
  {
   "cell_type": "code",
   "execution_count": 53,
   "metadata": {},
   "outputs": [
    {
     "data": {
      "image/png": "[encoded data removed]",
      "text/plain": [
       "<Figure size 1152x576 with 4 Axes>"
      ]
     },
     "metadata": {},
     "output_type": "display_data"
    }
   ],
   "source": [
    "fig, ax=plt.subplots(2,2,figsize=(16,8))\n",
    "\n",
    "ax[0,0].bar(mc[0:7], df[\"Frecuencia Absoluta\"], width=0.4)\n",
    "\n",
    "ax[0,0].set_xticks(mc[0:7])\n",
    "\n",
    "ax[0,1].bar(mc[0:7], df[\"Frecuencia Acumulada\"], width=0.4)\n",
    "ax[0,1].set_xticks(mc)\n",
    "\n",
    "ax[1,0].bar(mc[0:7], df[\"Frecuencia Relativa\"], width=0.4)\n",
    "ax[1,0].set_xticks(mc)\n",
    "\n",
    "ax[1,1].bar(mc[0:7], df[\"Frecuencia Relativa Acumulada\"], width=0.4)\n",
    "ax[1,1].set_xticks(mc)\n",
    "plt.show()"
   ]
  },
  {
   "cell_type": "code",
   "execution_count": 54,
   "metadata": {},
   "outputs": [],
   "source": [
    "df=pd.read_excel('Datos1962.xlsx')"
   ]
  },
  {
   "cell_type": "code",
   "execution_count": 55,
   "metadata": {},
   "outputs": [
    {
     "data": {
      "text/html": [
       "<div>\n",
       "<style scoped>\n",
       "    .dataframe tbody tr th:only-of-type {\n",
       "        vertical-align: middle;\n",
       "    }\n",
       "\n",
       "    .dataframe tbody tr th {\n",
       "        vertical-align: top;\n",
       "    }\n",
       "\n",
       "    .dataframe thead th {\n",
       "        text-align: right;\n",
       "    }\n",
       "</style>\n",
       "<table border=\"1\" class=\"dataframe\">\n",
       "  <thead>\n",
       "    <tr style=\"text-align: right;\">\n",
       "      <th></th>\n",
       "      <th>Paises</th>\n",
       "      <th>Natalidad</th>\n",
       "      <th>Ingreso</th>\n",
       "      <th>Poblacion</th>\n",
       "      <th>Mortalidad</th>\n",
       "    </tr>\n",
       "  </thead>\n",
       "  <tbody>\n",
       "    <tr>\n",
       "      <th>0</th>\n",
       "      <td>Venezuela</td>\n",
       "      <td>46.4</td>\n",
       "      <td>392</td>\n",
       "      <td>0.40</td>\n",
       "      <td>68.5</td>\n",
       "    </tr>\n",
       "    <tr>\n",
       "      <th>1</th>\n",
       "      <td>Mexico</td>\n",
       "      <td>45.7</td>\n",
       "      <td>118</td>\n",
       "      <td>0.61</td>\n",
       "      <td>87.8</td>\n",
       "    </tr>\n",
       "    <tr>\n",
       "      <th>2</th>\n",
       "      <td>Ecuador</td>\n",
       "      <td>45.3</td>\n",
       "      <td>44</td>\n",
       "      <td>0.53</td>\n",
       "      <td>115.8</td>\n",
       "    </tr>\n",
       "    <tr>\n",
       "      <th>3</th>\n",
       "      <td>Colombia</td>\n",
       "      <td>38.6</td>\n",
       "      <td>158</td>\n",
       "      <td>0.53</td>\n",
       "      <td>106.8</td>\n",
       "    </tr>\n",
       "    <tr>\n",
       "      <th>4</th>\n",
       "      <td>Ceylon</td>\n",
       "      <td>37.2</td>\n",
       "      <td>81</td>\n",
       "      <td>0.53</td>\n",
       "      <td>71.6</td>\n",
       "    </tr>\n",
       "  </tbody>\n",
       "</table>\n",
       "</div>"
      ],
      "text/plain": [
       "                        Paises  Natalidad  Ingreso  Poblacion  Mortalidad\n",
       "0  Venezuela                         46.4      392       0.40        68.5\n",
       "1                     Mexico         45.7      118       0.61        87.8\n",
       "2                      Ecuador       45.3       44       0.53       115.8\n",
       "3                     Colombia       38.6      158       0.53       106.8\n",
       "4                      Ceylon        37.2       81       0.53        71.6"
      ]
     },
     "execution_count": 55,
     "metadata": {},
     "output_type": "execute_result"
    }
   ],
   "source": [
    "df.head()"
   ]
  },
  {
   "cell_type": "code",
   "execution_count": 56,
   "metadata": {},
   "outputs": [
    {
     "data": {
      "text/html": [
       "<div>\n",
       "<style scoped>\n",
       "    .dataframe tbody tr th:only-of-type {\n",
       "        vertical-align: middle;\n",
       "    }\n",
       "\n",
       "    .dataframe tbody tr th {\n",
       "        vertical-align: top;\n",
       "    }\n",
       "\n",
       "    .dataframe thead th {\n",
       "        text-align: right;\n",
       "    }\n",
       "</style>\n",
       "<table border=\"1\" class=\"dataframe\">\n",
       "  <thead>\n",
       "    <tr style=\"text-align: right;\">\n",
       "      <th></th>\n",
       "      <th>Paises</th>\n",
       "      <th>Natalidad</th>\n",
       "      <th>Ingreso</th>\n",
       "      <th>Poblacion</th>\n",
       "      <th>Mortalidad</th>\n",
       "    </tr>\n",
       "  </thead>\n",
       "  <tbody>\n",
       "    <tr>\n",
       "      <th>25</th>\n",
       "      <td>Belgium</td>\n",
       "      <td>16.7</td>\n",
       "      <td>775</td>\n",
       "      <td>0.10</td>\n",
       "      <td>41.6</td>\n",
       "    </tr>\n",
       "    <tr>\n",
       "      <th>26</th>\n",
       "      <td>West Germany</td>\n",
       "      <td>15.9</td>\n",
       "      <td>619</td>\n",
       "      <td>0.15</td>\n",
       "      <td>44.6</td>\n",
       "    </tr>\n",
       "    <tr>\n",
       "      <th>27</th>\n",
       "      <td>England</td>\n",
       "      <td>15.3</td>\n",
       "      <td>901</td>\n",
       "      <td>0.05</td>\n",
       "      <td>26.1</td>\n",
       "    </tr>\n",
       "    <tr>\n",
       "      <th>28</th>\n",
       "      <td>Sweden</td>\n",
       "      <td>15.0</td>\n",
       "      <td>910</td>\n",
       "      <td>0.24</td>\n",
       "      <td>18.7</td>\n",
       "    </tr>\n",
       "    <tr>\n",
       "      <th>29</th>\n",
       "      <td>Austria</td>\n",
       "      <td>14.8</td>\n",
       "      <td>556</td>\n",
       "      <td>0.22</td>\n",
       "      <td>49.1</td>\n",
       "    </tr>\n",
       "  </tbody>\n",
       "</table>\n",
       "</div>"
      ],
      "text/plain": [
       "          Paises  Natalidad  Ingreso  Poblacion  Mortalidad\n",
       "25       Belgium       16.7      775       0.10        41.6\n",
       "26  West Germany       15.9      619       0.15        44.6\n",
       "27       England       15.3      901       0.05        26.1\n",
       "28        Sweden       15.0      910       0.24        18.7\n",
       "29       Austria       14.8      556       0.22        49.1"
      ]
     },
     "execution_count": 56,
     "metadata": {},
     "output_type": "execute_result"
    }
   ],
   "source": [
    "df.tail()"
   ]
  },
  {
   "cell_type": "code",
   "execution_count": 57,
   "metadata": {},
   "outputs": [
    {
     "data": {
      "text/html": [
       "<div>\n",
       "<style scoped>\n",
       "    .dataframe tbody tr th:only-of-type {\n",
       "        vertical-align: middle;\n",
       "    }\n",
       "\n",
       "    .dataframe tbody tr th {\n",
       "        vertical-align: top;\n",
       "    }\n",
       "\n",
       "    .dataframe thead th {\n",
       "        text-align: right;\n",
       "    }\n",
       "</style>\n",
       "<table border=\"1\" class=\"dataframe\">\n",
       "  <thead>\n",
       "    <tr style=\"text-align: right;\">\n",
       "      <th></th>\n",
       "      <th>EST</th>\n",
       "      <th>Temperature</th>\n",
       "      <th>DewPoint</th>\n",
       "      <th>Humidity</th>\n",
       "      <th>Sea Level PressureIn</th>\n",
       "      <th>VisibilityMiles</th>\n",
       "      <th>WindSpeedMPH</th>\n",
       "      <th>PrecipitationIn</th>\n",
       "      <th>CloudCover</th>\n",
       "      <th>Events</th>\n",
       "      <th>WindDirDegrees</th>\n",
       "    </tr>\n",
       "  </thead>\n",
       "  <tbody>\n",
       "    <tr>\n",
       "      <th>0</th>\n",
       "      <td>1/1/2016</td>\n",
       "      <td>38</td>\n",
       "      <td>23</td>\n",
       "      <td>52</td>\n",
       "      <td>30.03</td>\n",
       "      <td>10</td>\n",
       "      <td>8.0</td>\n",
       "      <td>0</td>\n",
       "      <td>5</td>\n",
       "      <td>NaN</td>\n",
       "      <td>281</td>\n",
       "    </tr>\n",
       "    <tr>\n",
       "      <th>1</th>\n",
       "      <td>1/2/2016</td>\n",
       "      <td>36</td>\n",
       "      <td>18</td>\n",
       "      <td>46</td>\n",
       "      <td>30.02</td>\n",
       "      <td>10</td>\n",
       "      <td>7.0</td>\n",
       "      <td>0</td>\n",
       "      <td>3</td>\n",
       "      <td>NaN</td>\n",
       "      <td>275</td>\n",
       "    </tr>\n",
       "    <tr>\n",
       "      <th>2</th>\n",
       "      <td>1/3/2016</td>\n",
       "      <td>40</td>\n",
       "      <td>21</td>\n",
       "      <td>47</td>\n",
       "      <td>29.86</td>\n",
       "      <td>10</td>\n",
       "      <td>8.0</td>\n",
       "      <td>0</td>\n",
       "      <td>1</td>\n",
       "      <td>NaN</td>\n",
       "      <td>277</td>\n",
       "    </tr>\n",
       "    <tr>\n",
       "      <th>3</th>\n",
       "      <td>1/4/2016</td>\n",
       "      <td>25</td>\n",
       "      <td>9</td>\n",
       "      <td>44</td>\n",
       "      <td>30.05</td>\n",
       "      <td>10</td>\n",
       "      <td>9.0</td>\n",
       "      <td>0</td>\n",
       "      <td>3</td>\n",
       "      <td>NaN</td>\n",
       "      <td>345</td>\n",
       "    </tr>\n",
       "    <tr>\n",
       "      <th>4</th>\n",
       "      <td>1/5/2016</td>\n",
       "      <td>20</td>\n",
       "      <td>-3</td>\n",
       "      <td>41</td>\n",
       "      <td>30.57</td>\n",
       "      <td>10</td>\n",
       "      <td>5.0</td>\n",
       "      <td>0</td>\n",
       "      <td>0</td>\n",
       "      <td>NaN</td>\n",
       "      <td>333</td>\n",
       "    </tr>\n",
       "    <tr>\n",
       "      <th>5</th>\n",
       "      <td>1/6/2016</td>\n",
       "      <td>33</td>\n",
       "      <td>4</td>\n",
       "      <td>35</td>\n",
       "      <td>30.50</td>\n",
       "      <td>10</td>\n",
       "      <td>4.0</td>\n",
       "      <td>0</td>\n",
       "      <td>0</td>\n",
       "      <td>NaN</td>\n",
       "      <td>259</td>\n",
       "    </tr>\n",
       "    <tr>\n",
       "      <th>6</th>\n",
       "      <td>1/7/2016</td>\n",
       "      <td>39</td>\n",
       "      <td>11</td>\n",
       "      <td>33</td>\n",
       "      <td>30.28</td>\n",
       "      <td>10</td>\n",
       "      <td>2.0</td>\n",
       "      <td>0</td>\n",
       "      <td>3</td>\n",
       "      <td>NaN</td>\n",
       "      <td>293</td>\n",
       "    </tr>\n",
       "    <tr>\n",
       "      <th>7</th>\n",
       "      <td>1/8/2016</td>\n",
       "      <td>39</td>\n",
       "      <td>29</td>\n",
       "      <td>64</td>\n",
       "      <td>30.20</td>\n",
       "      <td>10</td>\n",
       "      <td>4.0</td>\n",
       "      <td>0</td>\n",
       "      <td>8</td>\n",
       "      <td>NaN</td>\n",
       "      <td>79</td>\n",
       "    </tr>\n",
       "    <tr>\n",
       "      <th>8</th>\n",
       "      <td>1/9/2016</td>\n",
       "      <td>44</td>\n",
       "      <td>38</td>\n",
       "      <td>77</td>\n",
       "      <td>30.16</td>\n",
       "      <td>9</td>\n",
       "      <td>8.0</td>\n",
       "      <td>T</td>\n",
       "      <td>8</td>\n",
       "      <td>Rain</td>\n",
       "      <td>76</td>\n",
       "    </tr>\n",
       "    <tr>\n",
       "      <th>9</th>\n",
       "      <td>1/10/2016</td>\n",
       "      <td>50</td>\n",
       "      <td>46</td>\n",
       "      <td>71</td>\n",
       "      <td>29.59</td>\n",
       "      <td>4</td>\n",
       "      <td>NaN</td>\n",
       "      <td>1.8</td>\n",
       "      <td>7</td>\n",
       "      <td>Rain</td>\n",
       "      <td>109</td>\n",
       "    </tr>\n",
       "    <tr>\n",
       "      <th>10</th>\n",
       "      <td>1/11/2016</td>\n",
       "      <td>33</td>\n",
       "      <td>8</td>\n",
       "      <td>37</td>\n",
       "      <td>29.92</td>\n",
       "      <td>10</td>\n",
       "      <td>NaN</td>\n",
       "      <td>0</td>\n",
       "      <td>1</td>\n",
       "      <td>NaN</td>\n",
       "      <td>289</td>\n",
       "    </tr>\n",
       "    <tr>\n",
       "      <th>11</th>\n",
       "      <td>1/12/2016</td>\n",
       "      <td>35</td>\n",
       "      <td>15</td>\n",
       "      <td>53</td>\n",
       "      <td>29.85</td>\n",
       "      <td>10</td>\n",
       "      <td>6.0</td>\n",
       "      <td>T</td>\n",
       "      <td>4</td>\n",
       "      <td>NaN</td>\n",
       "      <td>235</td>\n",
       "    </tr>\n",
       "    <tr>\n",
       "      <th>12</th>\n",
       "      <td>1/13/2016</td>\n",
       "      <td>26</td>\n",
       "      <td>4</td>\n",
       "      <td>42</td>\n",
       "      <td>29.94</td>\n",
       "      <td>10</td>\n",
       "      <td>10.0</td>\n",
       "      <td>0</td>\n",
       "      <td>0</td>\n",
       "      <td>NaN</td>\n",
       "      <td>284</td>\n",
       "    </tr>\n",
       "    <tr>\n",
       "      <th>13</th>\n",
       "      <td>1/14/2016</td>\n",
       "      <td>30</td>\n",
       "      <td>12</td>\n",
       "      <td>47</td>\n",
       "      <td>29.95</td>\n",
       "      <td>10</td>\n",
       "      <td>5.0</td>\n",
       "      <td>T</td>\n",
       "      <td>7</td>\n",
       "      <td>NaN</td>\n",
       "      <td>266</td>\n",
       "    </tr>\n",
       "    <tr>\n",
       "      <th>14</th>\n",
       "      <td>1/15/2016</td>\n",
       "      <td>43</td>\n",
       "      <td>31</td>\n",
       "      <td>62</td>\n",
       "      <td>29.82</td>\n",
       "      <td>9</td>\n",
       "      <td>5.0</td>\n",
       "      <td>T</td>\n",
       "      <td>2</td>\n",
       "      <td>NaN</td>\n",
       "      <td>101</td>\n",
       "    </tr>\n",
       "    <tr>\n",
       "      <th>15</th>\n",
       "      <td>1/16/2016</td>\n",
       "      <td>47</td>\n",
       "      <td>37</td>\n",
       "      <td>70</td>\n",
       "      <td>29.52</td>\n",
       "      <td>8</td>\n",
       "      <td>7.0</td>\n",
       "      <td>0.24</td>\n",
       "      <td>7</td>\n",
       "      <td>Rain</td>\n",
       "      <td>340</td>\n",
       "    </tr>\n",
       "    <tr>\n",
       "      <th>16</th>\n",
       "      <td>1/17/2016</td>\n",
       "      <td>36</td>\n",
       "      <td>23</td>\n",
       "      <td>66</td>\n",
       "      <td>29.78</td>\n",
       "      <td>8</td>\n",
       "      <td>6.0</td>\n",
       "      <td>0.05</td>\n",
       "      <td>6</td>\n",
       "      <td>Fog-Snow</td>\n",
       "      <td>345</td>\n",
       "    </tr>\n",
       "    <tr>\n",
       "      <th>17</th>\n",
       "      <td>1/18/2016</td>\n",
       "      <td>25</td>\n",
       "      <td>6</td>\n",
       "      <td>53</td>\n",
       "      <td>29.83</td>\n",
       "      <td>9</td>\n",
       "      <td>12.0</td>\n",
       "      <td>T</td>\n",
       "      <td>2</td>\n",
       "      <td>Snow</td>\n",
       "      <td>293</td>\n",
       "    </tr>\n",
       "    <tr>\n",
       "      <th>18</th>\n",
       "      <td>1/19/2016</td>\n",
       "      <td>22</td>\n",
       "      <td>3</td>\n",
       "      <td>42</td>\n",
       "      <td>30.03</td>\n",
       "      <td>10</td>\n",
       "      <td>11.0</td>\n",
       "      <td>0</td>\n",
       "      <td>1</td>\n",
       "      <td>NaN</td>\n",
       "      <td>293</td>\n",
       "    </tr>\n",
       "    <tr>\n",
       "      <th>19</th>\n",
       "      <td>1/20/2016</td>\n",
       "      <td>32</td>\n",
       "      <td>15</td>\n",
       "      <td>49</td>\n",
       "      <td>30.13</td>\n",
       "      <td>10</td>\n",
       "      <td>6.0</td>\n",
       "      <td>0</td>\n",
       "      <td>2</td>\n",
       "      <td>NaN</td>\n",
       "      <td>302</td>\n",
       "    </tr>\n",
       "    <tr>\n",
       "      <th>20</th>\n",
       "      <td>1/21/2016</td>\n",
       "      <td>31</td>\n",
       "      <td>11</td>\n",
       "      <td>45</td>\n",
       "      <td>30.15</td>\n",
       "      <td>10</td>\n",
       "      <td>6.0</td>\n",
       "      <td>0</td>\n",
       "      <td>1</td>\n",
       "      <td>NaN</td>\n",
       "      <td>312</td>\n",
       "    </tr>\n",
       "    <tr>\n",
       "      <th>21</th>\n",
       "      <td>1/22/2016</td>\n",
       "      <td>26</td>\n",
       "      <td>6</td>\n",
       "      <td>41</td>\n",
       "      <td>30.21</td>\n",
       "      <td>9</td>\n",
       "      <td>NaN</td>\n",
       "      <td>0.01</td>\n",
       "      <td>3</td>\n",
       "      <td>Snow</td>\n",
       "      <td>34</td>\n",
       "    </tr>\n",
       "    <tr>\n",
       "      <th>22</th>\n",
       "      <td>1/23/2016</td>\n",
       "      <td>26</td>\n",
       "      <td>21</td>\n",
       "      <td>78</td>\n",
       "      <td>29.77</td>\n",
       "      <td>1</td>\n",
       "      <td>16.0</td>\n",
       "      <td>2.31</td>\n",
       "      <td>8</td>\n",
       "      <td>Fog-Snow</td>\n",
       "      <td>42</td>\n",
       "    </tr>\n",
       "    <tr>\n",
       "      <th>23</th>\n",
       "      <td>1/24/2016</td>\n",
       "      <td>28</td>\n",
       "      <td>11</td>\n",
       "      <td>53</td>\n",
       "      <td>29.92</td>\n",
       "      <td>8</td>\n",
       "      <td>6.0</td>\n",
       "      <td>T</td>\n",
       "      <td>3</td>\n",
       "      <td>Snow</td>\n",
       "      <td>327</td>\n",
       "    </tr>\n",
       "    <tr>\n",
       "      <th>24</th>\n",
       "      <td>1/25/2016</td>\n",
       "      <td>34</td>\n",
       "      <td>18</td>\n",
       "      <td>54</td>\n",
       "      <td>30.25</td>\n",
       "      <td>10</td>\n",
       "      <td>3.0</td>\n",
       "      <td>0</td>\n",
       "      <td>2</td>\n",
       "      <td>NaN</td>\n",
       "      <td>286</td>\n",
       "    </tr>\n",
       "    <tr>\n",
       "      <th>25</th>\n",
       "      <td>1/26/2016</td>\n",
       "      <td>43</td>\n",
       "      <td>29</td>\n",
       "      <td>56</td>\n",
       "      <td>30.03</td>\n",
       "      <td>10</td>\n",
       "      <td>7.0</td>\n",
       "      <td>0</td>\n",
       "      <td>2</td>\n",
       "      <td>NaN</td>\n",
       "      <td>244</td>\n",
       "    </tr>\n",
       "    <tr>\n",
       "      <th>26</th>\n",
       "      <td>1/27/2016</td>\n",
       "      <td>41</td>\n",
       "      <td>22</td>\n",
       "      <td>45</td>\n",
       "      <td>30.03</td>\n",
       "      <td>10</td>\n",
       "      <td>7.0</td>\n",
       "      <td>T</td>\n",
       "      <td>3</td>\n",
       "      <td>Rain</td>\n",
       "      <td>311</td>\n",
       "    </tr>\n",
       "    <tr>\n",
       "      <th>27</th>\n",
       "      <td>1/28/2016</td>\n",
       "      <td>37</td>\n",
       "      <td>20</td>\n",
       "      <td>51</td>\n",
       "      <td>29.90</td>\n",
       "      <td>10</td>\n",
       "      <td>5.0</td>\n",
       "      <td>0</td>\n",
       "      <td>1</td>\n",
       "      <td>NaN</td>\n",
       "      <td>234</td>\n",
       "    </tr>\n",
       "    <tr>\n",
       "      <th>28</th>\n",
       "      <td>1/29/2016</td>\n",
       "      <td>36</td>\n",
       "      <td>21</td>\n",
       "      <td>50</td>\n",
       "      <td>29.58</td>\n",
       "      <td>10</td>\n",
       "      <td>8.0</td>\n",
       "      <td>0</td>\n",
       "      <td>4</td>\n",
       "      <td>NaN</td>\n",
       "      <td>298</td>\n",
       "    </tr>\n",
       "    <tr>\n",
       "      <th>29</th>\n",
       "      <td>1/30/2016</td>\n",
       "      <td>34</td>\n",
       "      <td>16</td>\n",
       "      <td>46</td>\n",
       "      <td>30.01</td>\n",
       "      <td>10</td>\n",
       "      <td>7.0</td>\n",
       "      <td>0</td>\n",
       "      <td>0</td>\n",
       "      <td>NaN</td>\n",
       "      <td>257</td>\n",
       "    </tr>\n",
       "    <tr>\n",
       "      <th>30</th>\n",
       "      <td>1/31/2016</td>\n",
       "      <td>46</td>\n",
       "      <td>28</td>\n",
       "      <td>52</td>\n",
       "      <td>29.90</td>\n",
       "      <td>10</td>\n",
       "      <td>5.0</td>\n",
       "      <td>0</td>\n",
       "      <td>0</td>\n",
       "      <td>NaN</td>\n",
       "      <td>241</td>\n",
       "    </tr>\n",
       "  </tbody>\n",
       "</table>\n",
       "</div>"
      ],
      "text/plain": [
       "          EST  Temperature  DewPoint  Humidity  Sea Level PressureIn  \\\n",
       "0    1/1/2016           38        23        52                 30.03   \n",
       "1    1/2/2016           36        18        46                 30.02   \n",
       "2    1/3/2016           40        21        47                 29.86   \n",
       "3    1/4/2016           25         9        44                 30.05   \n",
       "4    1/5/2016           20        -3        41                 30.57   \n",
       "5    1/6/2016           33         4        35                 30.50   \n",
       "6    1/7/2016           39        11        33                 30.28   \n",
       "7    1/8/2016           39        29        64                 30.20   \n",
       "8    1/9/2016           44        38        77                 30.16   \n",
       "9   1/10/2016           50        46        71                 29.59   \n",
       "10  1/11/2016           33         8        37                 29.92   \n",
       "11  1/12/2016           35        15        53                 29.85   \n",
       "12  1/13/2016           26         4        42                 29.94   \n",
       "13  1/14/2016           30        12        47                 29.95   \n",
       "14  1/15/2016           43        31        62                 29.82   \n",
       "15  1/16/2016           47        37        70                 29.52   \n",
       "16  1/17/2016           36        23        66                 29.78   \n",
       "17  1/18/2016           25         6        53                 29.83   \n",
       "18  1/19/2016           22         3        42                 30.03   \n",
       "19  1/20/2016           32        15        49                 30.13   \n",
       "20  1/21/2016           31        11        45                 30.15   \n",
       "21  1/22/2016           26         6        41                 30.21   \n",
       "22  1/23/2016           26        21        78                 29.77   \n",
       "23  1/24/2016           28        11        53                 29.92   \n",
       "24  1/25/2016           34        18        54                 30.25   \n",
       "25  1/26/2016           43        29        56                 30.03   \n",
       "26  1/27/2016           41        22        45                 30.03   \n",
       "27  1/28/2016           37        20        51                 29.90   \n",
       "28  1/29/2016           36        21        50                 29.58   \n",
       "29  1/30/2016           34        16        46                 30.01   \n",
       "30  1/31/2016           46        28        52                 29.90   \n",
       "\n",
       "    VisibilityMiles  WindSpeedMPH PrecipitationIn  CloudCover    Events  \\\n",
       "0                10           8.0               0           5       NaN   \n",
       "1                10           7.0               0           3       NaN   \n",
       "2                10           8.0               0           1       NaN   \n",
       "3                10           9.0               0           3       NaN   \n",
       "4                10           5.0               0           0       NaN   \n",
       "5                10           4.0               0           0       NaN   \n",
       "6                10           2.0               0           3       NaN   \n",
       "7                10           4.0               0           8       NaN   \n",
       "8                 9           8.0               T           8      Rain   \n",
       "9                 4           NaN             1.8           7      Rain   \n",
       "10               10           NaN               0           1       NaN   \n",
       "11               10           6.0               T           4       NaN   \n",
       "12               10          10.0               0           0       NaN   \n",
       "13               10           5.0               T           7       NaN   \n",
       "14                9           5.0               T           2       NaN   \n",
       "15                8           7.0            0.24           7      Rain   \n",
       "16                8           6.0            0.05           6  Fog-Snow   \n",
       "17                9          12.0               T           2      Snow   \n",
       "18               10          11.0               0           1       NaN   \n",
       "19               10           6.0               0           2       NaN   \n",
       "20               10           6.0               0           1       NaN   \n",
       "21                9           NaN            0.01           3      Snow   \n",
       "22                1          16.0            2.31           8  Fog-Snow   \n",
       "23                8           6.0               T           3      Snow   \n",
       "24               10           3.0               0           2       NaN   \n",
       "25               10           7.0               0           2       NaN   \n",
       "26               10           7.0               T           3      Rain   \n",
       "27               10           5.0               0           1       NaN   \n",
       "28               10           8.0               0           4       NaN   \n",
       "29               10           7.0               0           0       NaN   \n",
       "30               10           5.0               0           0       NaN   \n",
       "\n",
       "    WindDirDegrees  \n",
       "0              281  \n",
       "1              275  \n",
       "2              277  \n",
       "3              345  \n",
       "4              333  \n",
       "5              259  \n",
       "6              293  \n",
       "7               79  \n",
       "8               76  \n",
       "9              109  \n",
       "10             289  \n",
       "11             235  \n",
       "12             284  \n",
       "13             266  \n",
       "14             101  \n",
       "15             340  \n",
       "16             345  \n",
       "17             293  \n",
       "18             293  \n",
       "19             302  \n",
       "20             312  \n",
       "21              34  \n",
       "22              42  \n",
       "23             327  \n",
       "24             286  \n",
       "25             244  \n",
       "26             311  \n",
       "27             234  \n",
       "28             298  \n",
       "29             257  \n",
       "30             241  "
      ]
     },
     "execution_count": 57,
     "metadata": {},
     "output_type": "execute_result"
    }
   ],
   "source": [
    "dfnyc=pd.read_csv('Datos/ny_clima.csv')\n",
    "dfnyc"
   ]
  },
  {
   "cell_type": "code",
   "execution_count": 58,
   "metadata": {},
   "outputs": [
    {
     "data": {
      "text/plain": [
       "50"
      ]
     },
     "execution_count": 58,
     "metadata": {},
     "output_type": "execute_result"
    }
   ],
   "source": [
    "dfnyc['Temperature'].max()"
   ]
  },
  {
   "cell_type": "code",
   "execution_count": 59,
   "metadata": {},
   "outputs": [
    {
     "data": {
      "text/plain": [
       "8      1/9/2016\n",
       "9     1/10/2016\n",
       "15    1/16/2016\n",
       "26    1/27/2016\n",
       "Name: EST, dtype: object"
      ]
     },
     "execution_count": 59,
     "metadata": {},
     "output_type": "execute_result"
    }
   ],
   "source": [
    "dfnyc['EST'][dfnyc['Events']=='Rain']"
   ]
  },
  {
   "cell_type": "code",
   "execution_count": 60,
   "metadata": {},
   "outputs": [
    {
     "data": {
      "text/plain": [
       "6.225806451612903"
      ]
     },
     "execution_count": 60,
     "metadata": {},
     "output_type": "execute_result"
    }
   ],
   "source": [
    "dfnyc.fillna(0,inplace=True)\n",
    "dfnyc['WindSpeedMPH'].mean()"
   ]
  },
  {
   "cell_type": "markdown",
   "metadata": {},
   "source": [
    "## Bibliografía\n",
    "\n",
    "[1] [https://github.com/codebasics/py/tree/master/pandas/1_intro](https://github.com/codebasics/py/tree/master/pandas/1_intro)"
   ]
  },
  {
   "cell_type": "code",
   "execution_count": 1,
   "metadata": {},
   "outputs": [
    {
     "data": {
      "text/html": [
       "\n",
       "<style>\n",
       ".def {\t\n",
       "    border-left: 5px solid;\n",
       "    /*border-style:solid;\n",
       "    border-width:4px;\n",
       "    /*-webkit-border-radius:15px;\n",
       "\tborder-radius: 15px;*/\n",
       "    border-color:rgba(102,194,163,0.9);/**  #366272;#CD853F;/**rgba(112, 156, 169, 0.66);*/\n",
       "    /*background: #366272;rgba(54, 98, 114, 0.9);/*#366272;*/\n",
       "\t/*border-top-left-radius:10%;*/\n",
       "\tcolor:rgba(102,194,163,0.9);\n",
       "\tfont-size: 1em;\n",
       "\t/*box-shadow: 10px 10px 10px #2178a3;*/\n",
       "\t/*overflow:scroll;*/\n",
       "\tpadding: 2% 4% 2% 4%;\n",
       "\tbox-sizing: border-box;\n",
       "\twidth:80%;\n",
       "    margin-left:auto;\n",
       "    margin-right:auto;\n",
       "    margin-bottom:2%;\n",
       "    margin-top:2%; \n",
       "    background:rgba(102,194,163,0.02);/*1(0.40000000596046448, 0.7607843279838562, 0.64705884456634521)*/\n",
       "}\n",
       "\n",
       ".laboratorio {\t\n",
       "    border-left: 5px solid;\n",
       "    /*border-width:4px;*/\n",
       "    /*-webkit-border-radius:15px;\n",
       "\tborder-radius: 15px;*/\n",
       "    border-color: rgba(249,140,97,0.9);/*#CD853F ; #366272*#CD853F;/**rgba(112, 156, 169, 0.66);*/\n",
       "    /*background: #366272;rgba(54, 98, 114, 0.9);/*#366272;*/\n",
       "\t/*border-top-left-radius:10%;*/\n",
       "\tcolor:rgba(249,140,97,0.9);\n",
       "\tfont-size: 1em;\n",
       "\t/*box-shadow: 10px 10px 10px #2178a3;*/\n",
       "\t/*overflow:scroll;*/\n",
       "\tpadding: 2% 4% 2% 4%;\n",
       "\tbox-sizing: border-box;\n",
       "\twidth:100%;\n",
       "    margin-left:auto;\n",
       "    margin-right:auto;\n",
       "    margin-bottom:2%;\n",
       "    margin-top:2%; \n",
       "    background:rgba(249,140,97,0.02) /*2(0.98131487965583808, 0.55538641635109398, 0.38740485135246722)*/;\n",
       "}\n",
       "\n",
       " ul.nobullet{\n",
       " font-family: 'Alegreya Sans' sans-serif;\n",
       "    line-height: 140%;\n",
       "    font-size: 110%; /*cambo de 130 a 100*/\n",
       "    font-weight: 400;\n",
       "    list-style-type: none;\n",
       "    \n",
       "    }\n",
       "\n",
       "\n",
       ".algoritmo  li strong {\n",
       "color:rgba(140,158,201,0.9);\n",
       "}\n",
       "\n",
       ".laboratorio h3 {\n",
       "color:rgba(249,140,97,0.9);\n",
       "}\n",
       "\n",
       ".text_cell_render .laboratorio h4 {    /*Use this for captions*/\n",
       "    font-family: 'Nixie One', serif;\n",
       "    font-size: 14pt;\n",
       "    margin-top: 2em;\n",
       "    margin-bottom: 1.5em;\n",
       "    font-style: regular;\n",
       "    color:rgba(249,140,97,0.9);\n",
       "}\n",
       "\n",
       "}\n",
       "\n",
       "\n",
       " ul.libro{\n",
       " font-family: 'Alegreya Sans' sans-serif;\n",
       "    line-height: 140%;\n",
       "    font-size: 110%; /*cambo de 130 a 100*/\n",
       "    font-weight: 400;\n",
       "\n",
       "    }\n",
       "\n",
       ".algoritmo{\n",
       "    border-left: 5px solid;\n",
       "    /*border-width:4px;*/\n",
       "    /*-webkit-border-radius:15px;\n",
       "\tborder-radius: 15px;*/\n",
       "    border-color:rgba(140,158,201,0.9);/**  #366272;#CD853F;/**r\n",
       "gba(112, 156, 169, 0.66);*/\n",
       "    /*background: #366272;rgba(54, 98, 114, 0.9);/*#366272;*/\n",
       "\t/*border-top-left-radius:10%;*/\n",
       "\tcolor:rgba(140,158,201,0.9);\n",
       "\tfont-size: 1em;\n",
       "\t/*box-shadow: 10px 10px 10px #2178a3;*/\n",
       "\t/*overflow:scroll;*/\n",
       "\tpadding: 2% 4% 2% 4%;\n",
       "\tbox-sizing: border-box;\n",
       "\twidth:95%;\n",
       "    margin-left:auto;\n",
       "    margin-right:auto;\n",
       "    margin-bottom:2%;\n",
       "    margin-top:2%; \n",
       "    background:rgba(140,158,201,0.02);/*3(0.55432528607985565, 0.62711267120697922, 0.79595541393055635)*/\n",
       "}\n",
       "\n",
       "\n",
       "\n",
       "\n",
       ".text_cell_render p {\n",
       "\tfont-size: 1.2em;\n",
       "\tline-height: 1.6;\n",
       "\tfont-weight: 300;\n",
       "\ttext-align: justify;\n",
       "    color: black;\n",
       "}\n",
       "\n",
       "div pre\n",
       "{\n",
       "    color: red;\n",
       "    padding: 0.5em;\n",
       "    /*margin-left:1em;\n",
       "    margin-top: 1em;*/\n",
       "    margin-left:auto;\n",
       "    margin-right:auto;\n",
       "    }\n",
       "\n",
       "\n",
       ".polaroid {\n",
       "  width: 80%;\n",
       "  background-color: white;\n",
       "  /*box-shadow: 0px 0px 1px 0px rgba(0, 0, 0, 0.2);*/\n",
       "  margin-bottom: 25px;/*25x*/\n",
       "    margin-left:auto;\n",
       "    margin-right:auto;\n",
       "    margin-top:2%;\n",
       "}\n",
       "\n",
       ".despolaroid p{\n",
       "  text-align: center;\n",
       "  padding: 10px 20px;/*10px 20px*/\n",
       "    margin-left:auto;\n",
       "    margin-right:auto;\n",
       "    font-size: 0.8em;\n",
       "\tline-height: 1;\n",
       "\tfont-weight: 200;\n",
       "\n",
       "}\n",
       "\n",
       "\n",
       " \n",
       " img {\n",
       "    /*display: block;\n",
       "    margin: auto;*/\n",
       "    border-bottom: 4px solid #ddd;\n",
       "    }\n",
       "\n",
       ".MathJax a:hover, .MathJax a:active {\n",
       "  color: green;\n",
       "  text-decoration: none; //underline ! important;\n",
       "}\n",
       "\n",
       ".MathJax a:link{\n",
       "  color: blue;\n",
       "  text-decoration: none; //underline ! important;\n",
       "}\n",
       "\n",
       "\n",
       "\n",
       ".projects-button {\n",
       "  padding: 0.75em 1.25em;\n",
       "  background-color: whitesmoke;\n",
       "  opacity: 0.9;\n",
       "  width: 10em;\n",
       "  color: black;\n",
       "}\n",
       "\n",
       ".projects {\n",
       "  margin: 1em 0;\n",
       "}\n",
       "\n",
       ".skillset {\n",
       "  display: flex;\n",
       "  justify-content: space-between;\n",
       "  flex-wrap: wrap;\n",
       "}\n",
       "\n",
       "\n",
       "/* Formatting for header cells */\n",
       ".text_cell_render h1 {\n",
       "    font-family: 'Nixie One', serif;\n",
       "    font-style:regular;\n",
       "    font-weight: 400;    \n",
       "    font-size: 35pt;\n",
       "    line-height: 100%;\n",
       "    color: rgb(0,51,102);\n",
       "    margin-bottom: 0.5em;\n",
       "    margin-top: 0.5em;\n",
       "    display: block;\n",
       "}\n",
       "\n",
       ".text_cell_render h2 {\n",
       "    font-family: 'Nixie One', serif;\n",
       "    font-weight: 400;\n",
       "    font-size: 20pt;\n",
       "    line-height: 100%;\n",
       "    color: rgb(0,51,102);\n",
       "    margin-bottom: 0.1em;\n",
       "    margin-top: 0.3em;\n",
       "    display: block;\n",
       "}\t\n",
       "\n",
       ".text_cell_render h3 {\n",
       "    font-family: 'Nixie One', serif;\n",
       "    margin-top:16px;\n",
       "    font-size: 12pt;\n",
       "    font-weight: 600;\n",
       "    margin-bottom: 3px;\n",
       "    font-style: regular;\n",
       "    color: rgb(102,102,0);\n",
       "}\n",
       "\n",
       ".text_cell_render h4 {    /*Use this for captions*/\n",
       "    font-family: 'Nixie One', serif;\n",
       "    font-size: 12pt;\n",
       "    /*text-align: center;*/\n",
       "    margin-top: 2em;\n",
       "    margin-bottom: 2em;\n",
       "    font-style: regular;\n",
       "}\n",
       "\n",
       ".text_cell_render h5 {  /*Use this for small titles*/\n",
       "    font-family: 'Nixie One', sans-serif;\n",
       "    font-weight: 400;\n",
       "    font-size: 10pt;\n",
       "    color: rgb(163,0,0);\n",
       "    font-style: italic;\n",
       "    margin-bottom: .1em;\n",
       "    margin-top: 0.8em;\n",
       "    display: block;\n",
       "}\n",
       "\n",
       ".text_cell_render h6 { /*use this for copyright note*/\n",
       "    font-family: 'PT Mono', sans-serif;\n",
       "    font-weight: 300;\n",
       "    font-size: 9pt;\n",
       "    line-height: 100%;\n",
       "    color: grey;\n",
       "    margin-bottom: 1px;\n",
       "    margin-top: 1px;\n",
       "}\n",
       "\n",
       "\n",
       "/*cite:before {content: \" : \"}   \n",
       "cite {font: bold 20px Georgia, \"Times New Roman\", Times, serif ; text-transform:capitalize; }  \n",
       "  \n",
       "blockquote {margin: 1em; padding: 1em; font:Geneva, Arial, Helvetica, sans-serif 14px;}  */\n",
       "\n",
       "</style>\n",
       "<script>\n",
       "    MathJax.Hub.Config({\n",
       "                        TeX: {\n",
       "                           extensions: [\"AMSmath.js\"],\n",
       "                           equationNumbers: { autoNumber: \"AMS\", useLabelIds: true}\n",
       "                           },\n",
       "                tex2jax: {\n",
       "                    inlineMath: [ ['$','$'], [\"\\\\(\",\"\\\\)\"] ],\n",
       "                    displayMath: [ ['$$','$$'], [\"\\\\[\",\"\\\\]\"] ]\n",
       "                },\n",
       "                displayAlign: 'center', // Change this to 'center' to center equations.\n",
       "                \"HTML-CSS\": {\n",
       "                    styles: {'.MathJax_Display': {\"margin\": 4}}\n",
       "                }\n",
       "});\n",
       "</script>\n",
       "\n",
       "<script src='https://code.jquery.com/jquery-3.1.0.min.js'></script>\n",
       "<script src='../js/main.js'></script>"
      ],
      "text/plain": [
       "<IPython.core.display.HTML object>"
      ]
     },
     "execution_count": 1,
     "metadata": {},
     "output_type": "execute_result"
    }
   ],
   "source": [
    "from IPython.core.display import HTML\n",
    "css_file = 'Varios/css/estilo1.css'\n",
    "HTML(open(css_file, \"r\").read())"
   ]
  },
  {
   "cell_type": "code",
   "execution_count": null,
   "metadata": {},
   "outputs": [],
   "source": []
  }
 ],
 "metadata": {
  "kernelspec": {
   "display_name": "Python 2",
   "language": "python",
   "name": "python2"
  },
  "language_info": {
   "codemirror_mode": {
    "name": "ipython",
    "version": 2
   },
   "file_extension": ".py",
   "mimetype": "text/x-python",
   "name": "python",
   "nbconvert_exporter": "python",
   "pygments_lexer": "ipython2",
   "version": "2.7.15"
  }
 },
 "nbformat": 4,
 "nbformat_minor": 2
}
